{
 "cells": [
  {
   "cell_type": "code",
   "execution_count": null,
   "metadata": {},
   "outputs": [],
   "source": [
    "from __future__ import annotations\n",
    "from typing import Any, Type\n",
    "\n",
    "class Node:\n",
    "    def __init__(self,data:Any,prev:Node=None,next:Node = None) -> None:\n",
    "        self.data = data\n",
    "        self.next = next or self\n",
    "        self.prev = prev or self\n",
    "        \n",
    "class DoubleLinkedList:\n",
    "    \"\"\"원형 이중 연결 리스트 클래스\"\"\"\n",
    "    def __init__(self) -> None:\n",
    "        \"\"\"초기화\"\"\"\n",
    "        self.head = self.current = Node() # 더미 노드\n",
    "        self.no = 0\n",
    "    def __len__(self) -> int:\n",
    "        \"\"\"연결 리스트의 노드 수를 반환\"\"\"\n",
    "        return self.no\n",
    "    def is_empty(self) -> bool:\n",
    "        \"\"\"리스트가 비었는지 확인\"\"\"\n",
    "        return self.head.next is self.head\n",
    "    def search(self,data:Any) -> Any:\n",
    "        \"\"\"data와 값이 같은 노드를 검색\"\"\"\n",
    "        cnt = 0 \n",
    "        ptr = self.head.next # 현재 스캔 중인 노드\n",
    "        while ptr is not self.head:\n",
    "            if data == ptr.data:\n",
    "                self.current = ptr\n",
    "                return cnt\n",
    "            cnt += 1\n",
    "            ptr = ptr.next\n",
    "        return -1\n",
    "    \n",
    "    def __contains__(self,data:Any) -> bool:\n",
    "        \"\"\"연결 리스트에 data가 포함되어있는지 판단\"\"\"\n",
    "        return self.search(data) >= 0"
   ]
  },
  {
   "cell_type": "code",
   "execution_count": null,
   "metadata": {},
   "outputs": [],
   "source": []
  }
 ],
 "metadata": {
  "kernelspec": {
   "display_name": "base",
   "language": "python",
   "name": "python3"
  },
  "language_info": {
   "name": "python",
   "version": "3.12.4"
  }
 },
 "nbformat": 4,
 "nbformat_minor": 2
}
