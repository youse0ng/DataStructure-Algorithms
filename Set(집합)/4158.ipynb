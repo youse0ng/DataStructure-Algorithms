{
 "cells": [
  {
   "cell_type": "markdown",
   "id": "0fdc2dcf",
   "metadata": {},
   "source": [
    "입력\n",
    "\n",
    "- 입력은 여러 개의 테스트 케이스로 이루어져 있다. 각 테스트 케이스의 첫째 줄에는 상근이가 가지고 있는 CD의 수 N, 선영이가 가지고 있는 CD의 수 M이 주어진다. N과 M은 최대 백만이다. 다음 줄부터 N개 줄에는 상근이가 가지고 있는 CD의 번호가 오름차순으로 주어진다. 다음 M개 줄에는 선영이가 가지고 있는 CD의 번호가 오름차순으로 주어진다. CD의 번호는 십억을 넘지 않는 양의 정수이다. 입력의 마지막 줄에는 0 0이 주어진다.\n",
    "\n",
    "상근이와 선영이가 같은 CD를 여러장 가지고 있는 경우는 없다.\n",
    "\n",
    "출력\n",
    "\n",
    "- 두 사람이 동시에 가지고 있는 CD의 개수를 출력한다."
   ]
  },
  {
   "cell_type": "code",
   "execution_count": null,
   "id": "70f3ed41",
   "metadata": {},
   "outputs": [],
   "source": [
    "import sys\n",
    "while True:\n",
    "    N, M = map(int,sys.stdin.readline().split())\n",
    "    sang = {int(sys.stdin.readline()) for _ in range(N)}\n",
    "    sun = {int(sys.stdin.readline()) for _ in range(M)}\n",
    "\n",
    "    if N == 0 and M == 0:\n",
    "        break\n",
    "    \n",
    "    print(len(sun.intersection(sang)))"
   ]
  }
 ],
 "metadata": {
  "kernelspec": {
   "display_name": "base",
   "language": "python",
   "name": "python3"
  },
  "language_info": {
   "codemirror_mode": {
    "name": "ipython",
    "version": 3
   },
   "file_extension": ".py",
   "mimetype": "text/x-python",
   "name": "python",
   "nbconvert_exporter": "python",
   "pygments_lexer": "ipython3",
   "version": "3.11.7"
  }
 },
 "nbformat": 4,
 "nbformat_minor": 5
}
