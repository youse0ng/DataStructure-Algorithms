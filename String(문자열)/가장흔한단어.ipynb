{
 "cells": [
  {
   "cell_type": "markdown",
   "id": "0be13d54",
   "metadata": {},
   "source": [
    "# 금지된 단어를 제외한 가장 흔하게 등장하는 단어를 출력."
   ]
  },
  {
   "cell_type": "markdown",
   "id": "d5b5f155",
   "metadata": {},
   "source": [
    "입력 \n",
    "- Paragraph = \"Bob hit a ball, the hit ball flew far after it was hit.\"\n",
    "- Banned = \"hit\"\n",
    "\n",
    "출력\n",
    "- 'ball'"
   ]
  },
  {
   "cell_type": "markdown",
   "id": "b20cd1ce",
   "metadata": {},
   "source": [
    "**람다 표현식으로 정렬**"
   ]
  },
  {
   "cell_type": "code",
   "execution_count": 2,
   "id": "93c0f7f2",
   "metadata": {},
   "outputs": [
    {
     "data": {
      "text/plain": [
       "[('B', 0), ('A', 1), ('C', 2), ('D', 4)]"
      ]
     },
     "execution_count": 2,
     "metadata": {},
     "output_type": "execute_result"
    }
   ],
   "source": [
    "a = [('A',1), ('B',0), ('D',4), ('C',2)]\n",
    "sorted(a, key = lambda x: (x[1],x[0])) # 뒤에 원소를 기준으로 원소 나열"
   ]
  },
  {
   "cell_type": "markdown",
   "id": "45f0e7ee",
   "metadata": {},
   "source": [
    "# 풀이 1. 리스트 컴프리헨션과 Counter 객체 사용\n",
    "- re (정규표현식) 모듈"
   ]
  },
  {
   "cell_type": "code",
   "execution_count": null,
   "id": "0c63cc1a",
   "metadata": {},
   "outputs": [
    {
     "data": {
      "text/plain": [
       "[('ball', 2)]"
      ]
     },
     "execution_count": 18,
     "metadata": {},
     "output_type": "execute_result"
    }
   ],
   "source": [
    "import re\n",
    "from collections import Counter\n",
    "paragraph = \"Bob hit a ball, the hit ball flew far after it was hit.\"\n",
    "banned = ['hit']\n",
    "result = Counter([word for word in re.sub(r'[^\\w]',' ',paragraph).split() if word not in banned])\n",
    "print(result.most_common(1))"
   ]
  }
 ],
 "metadata": {
  "kernelspec": {
   "display_name": "base",
   "language": "python",
   "name": "python3"
  },
  "language_info": {
   "codemirror_mode": {
    "name": "ipython",
    "version": 3
   },
   "file_extension": ".py",
   "mimetype": "text/x-python",
   "name": "python",
   "nbconvert_exporter": "python",
   "pygments_lexer": "ipython3",
   "version": "3.11.7"
  }
 },
 "nbformat": 4,
 "nbformat_minor": 5
}
