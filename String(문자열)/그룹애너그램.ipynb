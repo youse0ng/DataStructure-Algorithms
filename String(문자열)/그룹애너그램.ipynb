{
 "cells": [
  {
   "cell_type": "markdown",
   "id": "e9be953d",
   "metadata": {},
   "source": [
    "문자열 배열을 받아 애너그램 단위로 그룹핑해라.\n",
    "\n",
    "['tea','eat','ate'] 와 같은 단어를 애너그램\n"
   ]
  },
  {
   "cell_type": "markdown",
   "id": "88e00009",
   "metadata": {},
   "source": [
    "입력: ['eat','tea','tan','ate','nat','bat']\n",
    "\n",
    "출력: [\n",
    "    ['ate','eat','tea'],\n",
    "    ['nat','tan'],\n",
    "    ['bat']\n",
    "]\n",
    "\n",
    "문제 풀이: Dict를 이용해서 입력단어들을 정렬해서 dict['정렬된 단어'] = [].append(해당 단어)"
   ]
  },
  {
   "cell_type": "markdown",
   "id": "ea9b3448",
   "metadata": {},
   "source": [
    "# for 문 두개를 이용해서 문제 해결"
   ]
  },
  {
   "cell_type": "code",
   "execution_count": 14,
   "id": "3ba16e58",
   "metadata": {},
   "outputs": [
    {
     "name": "stdout",
     "output_type": "stream",
     "text": [
      "[['eat', 'tea', 'ate'], ['tan', 'nat'], ['bat']]\n"
     ]
    }
   ],
   "source": [
    "strings = ['eat','tea','tan','ate','nat','bat']\n",
    "result = {}\n",
    "for word in strings:\n",
    "    result[''.join(sorted(word))] = []\n",
    "for word in strings:\n",
    "    result[''.join(sorted(word))].append(word)\n",
    "print(list(result.values()))"
   ]
  },
  {
   "cell_type": "markdown",
   "id": "7458d037",
   "metadata": {},
   "source": [
    "# DefaultDict(List)를 이용해 문제 해결\n",
    "\n",
    "- defaultdict를 쓰면 더 코드가 간결해지고 편리해진다."
   ]
  },
  {
   "cell_type": "code",
   "execution_count": 17,
   "id": "f50a9578",
   "metadata": {},
   "outputs": [
    {
     "data": {
      "text/plain": [
       "defaultdict(list,\n",
       "            {'aet': ['eat', 'tea', 'ate'],\n",
       "             'ant': ['tan', 'nat'],\n",
       "             'abt': ['bat']})"
      ]
     },
     "execution_count": 17,
     "metadata": {},
     "output_type": "execute_result"
    }
   ],
   "source": [
    "from collections import defaultdict\n",
    "strings = ['eat','tea','tan','ate','nat','bat']\n",
    "result = defaultdict(list)\n",
    "for word in strings:\n",
    "    result[''.join(sorted(word))].append(word)\n",
    "result"
   ]
  },
  {
   "cell_type": "code",
   "execution_count": null,
   "id": "bd17298f",
   "metadata": {},
   "outputs": [],
   "source": []
  }
 ],
 "metadata": {
  "kernelspec": {
   "display_name": "base",
   "language": "python",
   "name": "python3"
  },
  "language_info": {
   "codemirror_mode": {
    "name": "ipython",
    "version": 3
   },
   "file_extension": ".py",
   "mimetype": "text/x-python",
   "name": "python",
   "nbconvert_exporter": "python",
   "pygments_lexer": "ipython3",
   "version": "3.11.7"
  }
 },
 "nbformat": 4,
 "nbformat_minor": 5
}
