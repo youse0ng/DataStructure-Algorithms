{
 "cells": [
  {
   "cell_type": "markdown",
   "id": "8e8da940",
   "metadata": {},
   "source": [
    "- 4\n",
    "- aaa bbb ccc ddd\n",
    "- bbb ddd\n",
    "- aaa ddd\n",
    "- aaa\n",
    "- aaa bbb"
   ]
  },
  {
   "cell_type": "code",
   "execution_count": 19,
   "id": "4a6c6221",
   "metadata": {},
   "outputs": [
    {
     "name": "stdout",
     "output_type": "stream",
     "text": [
      "a 3\n",
      "b 2\n",
      "d 2\n",
      "c 0\n"
     ]
    }
   ],
   "source": [
    "N = int(input())\n",
    "name = input().split()\n",
    "result = {i:0 for i in name}\n",
    "for _ in range(N):\n",
    "    vote = input().split()\n",
    "    for v in vote:\n",
    "        result[v] += 1\n",
    "sort_result = sorted(result.items(), key= lambda x:x[1],reverse=True)\n",
    "for name, value in sort_result:\n",
    "    print(name, value)\n"
   ]
  }
 ],
 "metadata": {
  "kernelspec": {
   "display_name": "base",
   "language": "python",
   "name": "python3"
  },
  "language_info": {
   "codemirror_mode": {
    "name": "ipython",
    "version": 3
   },
   "file_extension": ".py",
   "mimetype": "text/x-python",
   "name": "python",
   "nbconvert_exporter": "python",
   "pygments_lexer": "ipython3",
   "version": "3.12.4"
  }
 },
 "nbformat": 4,
 "nbformat_minor": 5
}
