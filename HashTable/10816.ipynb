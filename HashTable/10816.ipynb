{
 "cells": [
  {
   "cell_type": "code",
   "execution_count": null,
   "id": "388fb3e3",
   "metadata": {},
   "outputs": [
    {
     "name": "stdout",
     "output_type": "stream",
     "text": [
      "3 0 0 1 2 0 0 2 "
     ]
    }
   ],
   "source": [
    "N = int(input())\n",
    "own_cards = list(map(int,input().split()))\n",
    "M = int(input())\n",
    "question_card = list(map(int,input().split()))\n",
    "\n",
    "count_card = {i:own_cards.count(i) for i in own_cards}\n",
    "for i in question_card:\n",
    "    try:\n",
    "        print(count_card[i], end=' ')\n",
    "    except:\n",
    "        print(0, end=' ')"
   ]
  },
  {
   "cell_type": "code",
   "execution_count": 5,
   "id": "ee7436a5",
   "metadata": {},
   "outputs": [
    {
     "name": "stdout",
     "output_type": "stream",
     "text": [
      "3 0 0 1 2 0 0 2 "
     ]
    }
   ],
   "source": [
    "N = int(input())\n",
    "own_cards = list(map(int,input().split()))\n",
    "M = int(input())\n",
    "question_card = list(map(int,input().split()))\n",
    "result = {}\n",
    "\n",
    "for i in own_cards:\n",
    "    if i in result:\n",
    "        result[i] += 1\n",
    "    else:\n",
    "        result[i] = 1\n",
    "\n",
    "for j in question_card:\n",
    "    if j in result.keys():\n",
    "        print(result[j], end=' ')\n",
    "    else:\n",
    "        print(0,end=' ')"
   ]
  },
  {
   "cell_type": "code",
   "execution_count": 10,
   "id": "46290a06",
   "metadata": {},
   "outputs": [
    {
     "name": "stdout",
     "output_type": "stream",
     "text": [
      "2\n",
      "baesangwook\n",
      "ohhenrie\n"
     ]
    }
   ],
   "source": [
    "N, M = map(int,input().split())\n",
    "unheard = set(input() for _ in range(N)) \n",
    "unseen = set(input() for _ in range(M))\n",
    "\n",
    "print(len(unheard&(unseen)))\n",
    "for i in sorted(unheard&(unseen)):\n",
    "    print(i)"
   ]
  },
  {
   "cell_type": "code",
   "execution_count": null,
   "id": "42962b33",
   "metadata": {},
   "outputs": [],
   "source": []
  }
 ],
 "metadata": {
  "kernelspec": {
   "display_name": "base",
   "language": "python",
   "name": "python3"
  },
  "language_info": {
   "codemirror_mode": {
    "name": "ipython",
    "version": 3
   },
   "file_extension": ".py",
   "mimetype": "text/x-python",
   "name": "python",
   "nbconvert_exporter": "python",
   "pygments_lexer": "ipython3",
   "version": "3.11.7"
  }
 },
 "nbformat": 4,
 "nbformat_minor": 5
}
