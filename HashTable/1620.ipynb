{
 "cells": [
  {
   "cell_type": "code",
   "execution_count": null,
   "id": "1390f767",
   "metadata": {},
   "outputs": [
    {
     "name": "stdout",
     "output_type": "stream",
     "text": [
      "{'kim': 1, 1: 'kim', 'hwang': 2, 2: 'hwang', 'kyu': 3, 3: 'kyu', 'yang': 4, 4: 'yang', 'You': 5, 5: 'You'}\n",
      "4\n",
      "hwang\n",
      "1\n"
     ]
    }
   ],
   "source": [
    "import sys \n",
    "N, M = map(int,sys.stdin.readline().split())\n",
    "result = {}\n",
    "for idx, _ in enumerate(range(N)):\n",
    "    pocketmon_name = sys.stdin.readline()\n",
    "    result[pocketmon_name] = idx+1\n",
    "    result[idx+1] = pocketmon_name\n",
    "for _ in range(M):\n",
    "    question = input()\n",
    "    if question.isdigit():\n",
    "        print(result[int(question)])\n",
    "    else:\n",
    "        print(result[question])"
   ]
  }
 ],
 "metadata": {
  "kernelspec": {
   "display_name": "base",
   "language": "python",
   "name": "python3"
  },
  "language_info": {
   "codemirror_mode": {
    "name": "ipython",
    "version": 3
   },
   "file_extension": ".py",
   "mimetype": "text/x-python",
   "name": "python",
   "nbconvert_exporter": "python",
   "pygments_lexer": "ipython3",
   "version": "3.11.7"
  }
 },
 "nbformat": 4,
 "nbformat_minor": 5
}
