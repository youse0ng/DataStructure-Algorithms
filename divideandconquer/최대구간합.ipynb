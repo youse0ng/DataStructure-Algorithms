{
 "cells": [
  {
   "cell_type": "markdown",
   "id": "be21c5e2",
   "metadata": {},
   "source": [
    "# 1트라이"
   ]
  },
  {
   "cell_type": "code",
   "execution_count": 9,
   "id": "ff429173",
   "metadata": {},
   "outputs": [
    {
     "data": {
      "text/plain": [
       "0"
      ]
     },
     "execution_count": 9,
     "metadata": {},
     "output_type": "execute_result"
    }
   ],
   "source": [
    "from typing import Sequence\n",
    "def max_interval(a:Sequence,left:int,right:int):\n",
    "    if left >= right: # 원소가 하나밖에 없을 때, a[left]만 \n",
    "        return a[left]\n",
    "    m = (left + right) // 2\n",
    "    L = max_interval(a,left,m)\n",
    "    R = max_interval(a,m+1,right)\n",
    "    single = 0\n",
    "    M_left = 0\n",
    "    M_right = 0\n",
    "    # Summation 구하기 (왼쪽 | 오른쪽 => 최대합 구하기)\n",
    "    summation = 0\n",
    "    result = 0\n",
    "    for i in range(left,right+1):\n",
    "        summation += a[i]\n",
    "        result = max(summation,result)\n",
    "    single = result\n",
    "    \n",
    "    result = 0\n",
    "    summation = 0\n",
    "    # m (중간) 0,1,2,...m\n",
    "    for i in range(m,-1,-1):\n",
    "        summation += a[i]\n",
    "        result = max(summation,result)\n",
    "    M_left = result\n",
    "     \n",
    "    result = 0\n",
    "    summation = 0\n",
    "    # m (중간) m+1, m+2, .... right\n",
    "    for i in range(m+1,right+1):\n",
    "        summation += a[i]\n",
    "        result = max(summation,result)\n",
    "    M_right = result\n",
    "    \n",
    "    M = M_left + M_right\n",
    "    return max(single,M)\n",
    "\n",
    "a = list(map(int,input().split()))\n",
    "max_interval(a,0,len(a)-1)"
   ]
  },
  {
   "cell_type": "markdown",
   "id": "bd2d241c",
   "metadata": {},
   "source": [
    "# 2트라이"
   ]
  },
  {
   "cell_type": "code",
   "execution_count": null,
   "id": "93d429f9",
   "metadata": {},
   "outputs": [
    {
     "data": {
      "text/plain": [
       "33"
      ]
     },
     "execution_count": 12,
     "metadata": {},
     "output_type": "execute_result"
    }
   ],
   "source": [
    "from typing import Sequence\n",
    "def max_interval(a:Sequence,left:int,right:int):\n",
    "    if left >= right:\n",
    "        return a[left]\n",
    "    m = (left+right)//2\n",
    "    l = max_interval(a,left,m)\n",
    "    r = max_interval(a,m+1,right)\n",
    "    summation = 0\n",
    "    m_left = 0\n",
    "    m_right = 0\n",
    "    # summation M_left\n",
    "    for i in range(m,-1,-1):\n",
    "        summation += a[i]\n",
    "        m_left = max(summation, m_left)\n",
    "       \n",
    "    # summation M_right \n",
    "    summation = 0\n",
    "    for i in range(m+1,right,-1):\n",
    "        summation += a[i]\n",
    "        m_right = max(summation, m_right)\n",
    "        \n",
    "    m = m_left + m_right\n",
    "    return max(l,r,m)\n",
    "\n",
    "n = int(input())\n",
    "a = list(map(int,input().split()))\n",
    "print(max_interval(a,0,len(a)-1))"
   ]
  },
  {
   "cell_type": "code",
   "execution_count": null,
   "id": "982eed8e",
   "metadata": {},
   "outputs": [],
   "source": []
  }
 ],
 "metadata": {
  "kernelspec": {
   "display_name": "base",
   "language": "python",
   "name": "python3"
  },
  "language_info": {
   "codemirror_mode": {
    "name": "ipython",
    "version": 3
   },
   "file_extension": ".py",
   "mimetype": "text/x-python",
   "name": "python",
   "nbconvert_exporter": "python",
   "pygments_lexer": "ipython3",
   "version": "3.12.4"
  }
 },
 "nbformat": 4,
 "nbformat_minor": 5
}
