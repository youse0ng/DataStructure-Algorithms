{
 "cells": [
  {
   "cell_type": "markdown",
   "id": "32e623bf",
   "metadata": {},
   "source": [
    "분할 정복으로 바이너리 서치 구현하기\n",
    "\n",
    "1. 이미 정렬이 된 리스트를 이용해야함\n",
    "\n",
    "ex) [3,6,9,10,21,39,53], find (21)\n",
    "\n",
    "2. 중간자가 있어야한다. \n",
    "- mid = (start + end) // 2\n",
    "\n",
    "2.1. [3,6,9,10,21,39,53]에서 start = 0 ,end = 6 , mid = 3\n",
    "list[mid] = 10 , 21이 10보다 크므로, 오른쪽만 보면된다.\n",
    "\n",
    "2.2. [3,6,9,10 |21,39,53] start = 4, end = 6, mid = 5\n",
    "list[mid] = 39, 39는 21보다 크므로 왼쪽을 보면된다.\n",
    "\n",
    "2.3. [3,6,9,10| 21 |39,53] start = 4, end = 4, mid =4\n",
    "list[mid] = 21, 21을 찾음"
   ]
  },
  {
   "cell_type": "code",
   "execution_count": null,
   "id": "d804146c",
   "metadata": {},
   "outputs": [
    {
     "name": "stdout",
     "output_type": "stream",
     "text": [
      "찾는 숫자의 인덱스는 4\n"
     ]
    }
   ],
   "source": [
    "def BinarySearch(sortedList, findKey, start, end):\n",
    "    mid = (start + end)//2\n",
    "    if start < end:\n",
    "        if sortedList[mid] == findKey:\n",
    "            return mid\n",
    "        elif sortedList[mid] < findKey:\n",
    "            return BinarySearch(sortedList,findKey,mid+1,end)\n",
    "        else:\n",
    "            return BinarySearch(sortedList,findKey,start,mid-1)\n",
    "    return \"없습니다.\"\n",
    "print(f\"찾는 숫자의 인덱스는 {BinarySearch([3,6,9,10,21,39,53],21,0,6)}\")"
   ]
  }
 ],
 "metadata": {
  "kernelspec": {
   "display_name": "base",
   "language": "python",
   "name": "python3"
  },
  "language_info": {
   "codemirror_mode": {
    "name": "ipython",
    "version": 3
   },
   "file_extension": ".py",
   "mimetype": "text/x-python",
   "name": "python",
   "nbconvert_exporter": "python",
   "pygments_lexer": "ipython3",
   "version": "3.12.4"
  }
 },
 "nbformat": 4,
 "nbformat_minor": 5
}
