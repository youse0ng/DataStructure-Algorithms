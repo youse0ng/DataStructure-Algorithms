{
 "cells": [
  {
   "cell_type": "markdown",
   "id": "beb1fae3",
   "metadata": {},
   "source": [
    "# 분할정복을 활용한 퀵소트\n"
   ]
  },
  {
   "cell_type": "code",
   "execution_count": null,
   "id": "059d331b",
   "metadata": {},
   "outputs": [],
   "source": [
    "def QuickSort(Sequence, left, right):\n",
    "    pl = left\n",
    "    pr = right\n",
    "    pivot = Sequence[(left+right)//2]\n",
    "    while pl <= pr:\n",
    "        while Sequence[pl] < pivot:\n",
    "            pl += 1\n",
    "        while Sequence[pr] > pivot:\n",
    "            pr -= 1\n",
    "        if pl <= pr:\n",
    "            Sequence[pl], Sequence[pr] = Sequence[pr],Sequence[pl]\n",
    "            pr -= 1\n",
    "            pl += 1\n",
    "    \n",
    "    if left < pr:\n",
    "        QuickSort(Sequence,left,pr)\n",
    "    if pl < right:\n",
    "        QuickSort(Sequence,pl,right)\n",
    "    \n",
    "    return Sequence\n",
    "\n",
    "SQ = [5,7,1,4,6,2,3,9,8]\n",
    "\n",
    "print(QuickSort(SQ,0,len(SQ)-1))"
   ]
  },
  {
   "cell_type": "code",
   "execution_count": null,
   "id": "49c6135f",
   "metadata": {},
   "outputs": [],
   "source": []
  }
 ],
 "metadata": {
  "kernelspec": {
   "display_name": "base",
   "language": "python",
   "name": "python3"
  },
  "language_info": {
   "name": "python",
   "version": "3.11.7"
  }
 },
 "nbformat": 4,
 "nbformat_minor": 5
}
