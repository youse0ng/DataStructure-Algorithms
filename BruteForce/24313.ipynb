{
 "cells": [
  {
   "cell_type": "markdown",
   "id": "f35bb9ed",
   "metadata": {},
   "source": [
    "O(g(n)) = {f(n) | 모든 n >= n_0에 대해 f(n) <= c*g(n)인 양의 상수 c와 n_0이 존재한다.}\n",
    "\n",
    "- f(n) = a_1*n + a_0"
   ]
  },
  {
   "cell_type": "markdown",
   "id": "5c07d245",
   "metadata": {},
   "source": [
    "입력 \n",
    "- 7 7 (정수 a_1, a_0)\n",
    "- 8 (c)\n",
    "- 1 (n_0)\n",
    "\n",
    "f(n) = 7n + 7, g(n) = n, n_0 = 1이다. f(1) = 14, c*g(1) = 8x1이므로 아니다."
   ]
  },
  {
   "cell_type": "code",
   "execution_count": null,
   "id": "15c41dbf",
   "metadata": {},
   "outputs": [],
   "source": [
    "a_1,a_0 = map(int,input().split())\n",
    "c = int(input())\n",
    "n_0 = int(input())\n",
    "\n",
    "if a_1 * n_0 + a_0 <= c * n_0 and a_1 <= c:\n",
    "    print(1)\n",
    "else:\n",
    "    print(0)"
   ]
  }
 ],
 "metadata": {
  "language_info": {
   "name": "python"
  }
 },
 "nbformat": 4,
 "nbformat_minor": 5
}
