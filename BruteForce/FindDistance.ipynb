{
 "cells": [
  {
   "cell_type": "markdown",
   "id": "c7170929",
   "metadata": {},
   "source": [
    "Given two integer arrays arr1 and arr2, and the integer d, return the distance value between the two arrays.  The distance value is defined as the number of elements arr1[i] such that there is not any element arr2[j] where |arr1[i]-arr2[j]| <= d.  "
   ]
  },
  {
   "cell_type": "code",
   "execution_count": 12,
   "id": "e932a2c7",
   "metadata": {},
   "outputs": [
    {
     "name": "stdout",
     "output_type": "stream",
     "text": [
      "value: 4\n",
      "10\n",
      "9\n",
      "1\n",
      "8\n",
      "value: 5\n",
      "10\n",
      "9\n",
      "1\n",
      "8\n",
      "value: 8\n",
      "10\n",
      "result = 2\n"
     ]
    }
   ],
   "source": [
    "# arr1 = [4,6,9] | arr2 = [10,6,8,4]\n",
    "# |4-10| |\n",
    "class Solution:\n",
    "    def findTheDistanceValue(self, arr1: list[int], arr2: list[int], d: int) -> int:\n",
    "        result = 0 \n",
    "        for value1 in arr1:\n",
    "            print(f'value: {value1}')\n",
    "            for value2 in arr2:\n",
    "                print(value2)\n",
    "                if d >= abs(value1 - value2):\n",
    "                    break\n",
    "            else:\n",
    "                result += 1\n",
    "        return result\n",
    "                \n",
    "a = Solution()\n",
    "result = a.findTheDistanceValue([4,5,8],[10,9,1,8],2)\n",
    "print(f'result = {result}')"
   ]
  },
  {
   "cell_type": "code",
   "execution_count": null,
   "id": "47adc1dc",
   "metadata": {},
   "outputs": [],
   "source": []
  }
 ],
 "metadata": {
  "kernelspec": {
   "display_name": "base",
   "language": "python",
   "name": "python3"
  },
  "language_info": {
   "codemirror_mode": {
    "name": "ipython",
    "version": 3
   },
   "file_extension": ".py",
   "mimetype": "text/x-python",
   "name": "python",
   "nbconvert_exporter": "python",
   "pygments_lexer": "ipython3",
   "version": "3.12.4"
  }
 },
 "nbformat": 4,
 "nbformat_minor": 5
}
