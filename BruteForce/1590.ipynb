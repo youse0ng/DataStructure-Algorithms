{
 "cells": [
  {
   "cell_type": "markdown",
   "id": "6c753434",
   "metadata": {},
   "source": [
    "- 1 285\n",
    "- 150 50 10\n",
    "\n",
    "출력: 15\n",
    "\n",
    "- 1 123456\n",
    "- 123456 10000 1\n",
    "\n",
    "출력: 0\n",
    "\n",
    "- 3 1\n",
    "- 270758 196 67\n",
    "- 904526 8930 66\n",
    "- 121164 3160 56\n",
    "\n",
    "출력: 121163"
   ]
  },
  {
   "cell_type": "code",
   "execution_count": 27,
   "id": "a93f676f",
   "metadata": {},
   "outputs": [
    {
     "name": "stdout",
     "output_type": "stream",
     "text": [
      "0\n"
     ]
    }
   ],
   "source": [
    "N, arrival_time = map(int,input().split())\n",
    "result = []\n",
    "for _ in range(N):\n",
    "    start_time, interval_time, buses = map(int,input().split())\n",
    "    next_time = 0\n",
    "    times = 1\n",
    "    if arrival_time == start_time:\n",
    "        print(0)\n",
    "        break\n",
    "    elif arrival_time > start_time:\n",
    "        next_time = start_time\n",
    "        while times < buses and next_time <= arrival_time:\n",
    "            next_time += interval_time\n",
    "            times += 1\n",
    "            if next_time - arrival_time >= 0:\n",
    "                result.append(next_time - arrival_time)\n",
    "    else:\n",
    "        result.append(start_time - arrival_time)\n",
    "else:\n",
    "    if not len(result):\n",
    "        print(-1)\n",
    "    else: \n",
    "        print(min(result))"
   ]
  }
 ],
 "metadata": {
  "kernelspec": {
   "display_name": "base",
   "language": "python",
   "name": "python3"
  },
  "language_info": {
   "codemirror_mode": {
    "name": "ipython",
    "version": 3
   },
   "file_extension": ".py",
   "mimetype": "text/x-python",
   "name": "python",
   "nbconvert_exporter": "python",
   "pygments_lexer": "ipython3",
   "version": "3.12.4"
  }
 },
 "nbformat": 4,
 "nbformat_minor": 5
}
