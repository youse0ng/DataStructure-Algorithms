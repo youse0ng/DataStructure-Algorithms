{
 "cells": [
  {
   "cell_type": "markdown",
   "id": "220c3fc4",
   "metadata": {},
   "source": [
    "9개 중에 7개를 뽑아서 100이 되어야함,\n",
    "\n",
    "23 8 9 10 39 11 15 17 20 22\n",
    "\n",
    "() + () + () + () + () + () + () = 100\n",
    "\n",
    "1. Brute Force"
   ]
  },
  {
   "cell_type": "code",
   "execution_count": 10,
   "id": "148efe7d",
   "metadata": {},
   "outputs": [
    {
     "name": "stdout",
     "output_type": "stream",
     "text": [
      "7\n",
      "8\n",
      "10\n",
      "13\n",
      "19\n",
      "20\n",
      "23\n"
     ]
    }
   ],
   "source": [
    "import itertools\n",
    "for comb in list(itertools.combinations([int(input()) for _ in range(9)],7)):\n",
    "    if sum(comb) == 100:\n",
    "        for i in sorted(comb):\n",
    "            print(i)\n",
    "        break"
   ]
  }
 ],
 "metadata": {
  "kernelspec": {
   "display_name": "base",
   "language": "python",
   "name": "python3"
  },
  "language_info": {
   "codemirror_mode": {
    "name": "ipython",
    "version": 3
   },
   "file_extension": ".py",
   "mimetype": "text/x-python",
   "name": "python",
   "nbconvert_exporter": "python",
   "pygments_lexer": "ipython3",
   "version": "3.12.4"
  }
 },
 "nbformat": 4,
 "nbformat_minor": 5
}
