{
 "cells": [
  {
   "cell_type": "markdown",
   "id": "d31f8a8a",
   "metadata": {},
   "source": [
    "# 강의실 배정 문제\n",
    "\n",
    "많은 수의 강의를 듣고 싶은데, 어떤 강의를 선택해야 강의수를 최대화할 수 있는지 찾아야하는 문제이다. \n",
    "\n",
    "입력: \n",
    "- 1 3 (수업 시작 시간, 수업 끝나는 시간) \n",
    "- 2 4 (Start, Finish)\n",
    "- 3 5 (Start, Finish)\n",
    "\n",
    "출력:\n",
    "- 2"
   ]
  },
  {
   "cell_type": "markdown",
   "id": "f124dfd7",
   "metadata": {},
   "source": [
    "Greedy 풀이법\n",
    "- 가장 빨리 끝나는 강의부터 배정\n",
    "    - F을 기준으로 정렬"
   ]
  },
  {
   "cell_type": "markdown",
   "id": "15613d6e",
   "metadata": {},
   "source": [
    "# Dict를 이용해서 구현 (실패)\n",
    "- (3 5)와 (3 8)이라는 값이 들어올 때, Schedule[3]=5가 Schedule[3]=8이라는 값으로 덮어씌기 때문에, Dict 자료구조는 아닌 것 같다."
   ]
  },
  {
   "cell_type": "code",
   "execution_count": null,
   "id": "ebc506c2",
   "metadata": {},
   "outputs": [
    {
     "name": "stdout",
     "output_type": "stream",
     "text": [
      "{1: 4, 0: 6, 3: 8, 5: 9, 6: 10, 8: 12, 2: 13, 12: 14}\n",
      "['1~4', '5~9', '12~14']\n",
      "3\n"
     ]
    }
   ],
   "source": [
    "N = int(input()) # 강의 개수\n",
    "Schedule = {} \n",
    "L = [] # 추가할 Lecture\n",
    "\n",
    "\n",
    "# Finish를 기준으로 정렬\n",
    "for _ in range(N): \n",
    "    S, F = map(int,input().split())\n",
    "    Schedule[S] = F\n",
    "Schedule = dict(sorted(Schedule.items(),key = lambda x: x[1])) # {1: 3, 2: 4, 3: 5}\n",
    "print(Schedule)\n",
    "\n",
    "\n",
    "for i in Schedule: # 모든 강의 탐색 (모든 강의 시작 시간)\n",
    "    if not L: # L이 아무 것도 없다면\n",
    "        L.append(f'{i}~{Schedule[i]}') # 처음에 가장 빨리 끝났던 것을 강의를 L에 추가하고 시작\n",
    "        k = i # L에 마지막으로 추가된 강의의 키 값 저장\n",
    "        continue\n",
    "    if i < Schedule[k]: # 강의 시작 시간이 마지막으로 추가되었던 강의의 끝 시간보다 작다면, 즉 (기존 수강신청했던 강의의 시간 내에 지금 강의 시작이 껴있다면 추가 X)\n",
    "        continue\n",
    "    elif i >= Schedule[k]:\n",
    "        L.append(f'{i}~{Schedule[i]}')\n",
    "        k = i\n",
    "\n",
    "print(L)\n",
    "print(len(L))"
   ]
  },
  {
   "cell_type": "markdown",
   "id": "7c34f4ee",
   "metadata": {},
   "source": [
    "1 3 / 2 4 / 3 5"
   ]
  },
  {
   "cell_type": "code",
   "execution_count": null,
   "id": "2998e88a",
   "metadata": {},
   "outputs": [
    {
     "name": "stdout",
     "output_type": "stream",
     "text": [
      "[0, 2]\n"
     ]
    }
   ],
   "source": [
    "N = int(input())\n",
    "S = [] # 강의 시작 시간 \n",
    "F = [] # 강의 끝 시간\n",
    "selected_lecture = []\n",
    "last_add = 0 # Lecture에 마지막으로 추가된 강의\n",
    "for _ in range(N):\n",
    "    s,f = map(int,input().split())\n",
    "    S.append(s)\n",
    "    F.append(f)\n",
    "k = 0 # Lecture에 막 추가된 강의 순번\n",
    "# 끝나는 시간을 기준으로 정렬\n",
    "sortedLecture = sorted(list(zip(S,F)),key=lambda x: x[1])\n",
    "S,F = [i[0] for i in sortedLecture], [i[1] for i in sortedLecture]\n",
    "\n",
    "selected_lecture.append(0)\n",
    "for i in range(1,len(S)): # 1,2,3 ~ 10 (N이 11이라면) 모든 강의 탐색\n",
    "    if S[i] < F[k]: # 현재 강의의 시작 시간이 막 추가된 강의의 끝 시간보다 작다면, (즉, 강의 시간이 겹친다.)\n",
    "        continue\n",
    "    elif S[i] >= F[k]:\n",
    "        selected_lecture.append(i)\n",
    "        k = i\n",
    "print(len(selected_lecture))"
   ]
  },
  {
   "cell_type": "code",
   "execution_count": null,
   "id": "8ad65056",
   "metadata": {},
   "outputs": [],
   "source": []
  }
 ],
 "metadata": {
  "kernelspec": {
   "display_name": "base",
   "language": "python",
   "name": "python3"
  },
  "language_info": {
   "codemirror_mode": {
    "name": "ipython",
    "version": 3
   },
   "file_extension": ".py",
   "mimetype": "text/x-python",
   "name": "python",
   "nbconvert_exporter": "python",
   "pygments_lexer": "ipython3",
   "version": "3.11.7"
  }
 },
 "nbformat": 4,
 "nbformat_minor": 5
}
