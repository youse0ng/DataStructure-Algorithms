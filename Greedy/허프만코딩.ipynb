{
 "cells": [
  {
   "cell_type": "code",
   "execution_count": null,
   "id": "a34f3e18",
   "metadata": {},
   "outputs": [
    {
     "data": {
      "text/plain": [
       "{'A': '0', 'B': '10', 'D': '110', 'C': '111'}"
      ]
     },
     "execution_count": 26,
     "metadata": {},
     "output_type": "execute_result"
    }
   ],
   "source": [
    "import heapq\n",
    "from collections import Counter\n",
    "\n",
    "class Node:\n",
    "    def __init__(self,char,freq): # 문자와 빈도수\n",
    "        self.char = char\n",
    "        self.freq = freq\n",
    "        self.left = self.right = None # 왼쪽, 오른쪽 노드를 가르킬 변수 \n",
    "    def __lt__(self,other): # 두 노드 간의 비교 (A:Node, B:Node)\n",
    "        return self.freq < other.freq # A<B, A>B 비교 가능\n",
    "    \n",
    "def build_decodetree(text): # decodeTree 만들기\n",
    "    heap = [Node(char,freq) for char,freq in Counter(text).items()] # Counter('ABBAA') => ('A':3, 'B':2)\n",
    "    for node in heap: # [Node('A',3), Node('B',2)]\n",
    "        heapq.heappush(heap,heapq.heappop(heap)) # heapq은 최소 힙을 default\n",
    "    while len(heap)>1:\n",
    "        a,b = heapq.heappop(heap), heapq.heappop(heap) # 제일 작은 두 개 추출\n",
    "        merged = Node(None,a.freq+b.freq)\n",
    "        merged.left, merged.right = a,b # Node('',)\n",
    "        heapq.heappush(heap,merged)\n",
    "    return heap[0]\n",
    "\n",
    "def encode(decodetree,code=\"\",codebook={}): #left는 '0'으로 코딩, right는 '1'로 코딩\n",
    "    if decodetree:\n",
    "        if decodetree.char:\n",
    "            codebook[decodetree.char] = code\n",
    "        encode(decodetree.left,code + \"0\", codebook)\n",
    "        encode(decodetree.right, code + \"1\", codebook)\n",
    "    return codebook\n",
    "\n",
    "text = \"AAAABBBCCD\"\n",
    "root = build_decodetree(text)\n",
    "codebook = encode(root)\n",
    "codebook\n",
    "\n"
   ]
  },
  {
   "cell_type": "code",
   "execution_count": null,
   "id": "a5355bf1",
   "metadata": {},
   "outputs": [],
   "source": []
  }
 ],
 "metadata": {
  "kernelspec": {
   "display_name": "base",
   "language": "python",
   "name": "python3"
  },
  "language_info": {
   "codemirror_mode": {
    "name": "ipython",
    "version": 3
   },
   "file_extension": ".py",
   "mimetype": "text/x-python",
   "name": "python",
   "nbconvert_exporter": "python",
   "pygments_lexer": "ipython3",
   "version": "3.11.7"
  }
 },
 "nbformat": 4,
 "nbformat_minor": 5
}
