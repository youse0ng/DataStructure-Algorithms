{
 "cells": [
  {
   "cell_type": "markdown",
   "metadata": {},
   "source": [
    "# 힙성질을 만족하는 트리\n",
    "\n",
    "특징\n",
    "- 부모의 노드 키 값이 항상 자식노드보다 크다 (최대 힙)\n",
    "- 부모의 노드 키 값이 항상 자식노드보다 작다 (최소 힙)\n",
    "- 형제 노드끼리는 대소관계가 없음\n",
    "\n",
    "힙: 리스트(a) 구현\n",
    "- 해당 노드의 부모 노드 : a[(i-1)//2]\n",
    "- 왼쪽 노드 찾기: a[i*2+1]\n",
    "- 오른쪽 노드 찾기: a[i*2 +2]\n"
   ]
  },
  {
   "cell_type": "code",
   "execution_count": 2,
   "metadata": {},
   "outputs": [],
   "source": [
    "def down_heap(a: list, left:int, right:int): # a[left] ~ a[right]까지 힙 요건이 충족되어있지 않다고 가정되었을 때, 힙 요건 구성하기\n",
    "    temp = a[left] # 루트 노드\n",
    "    \n",
    "    parent = left # left는 가장 큰 parent를 가짐\n",
    "    while parent < (right+1) // 2: # \n",
    "        cl = parent * 2 + 1 # 왼쪽 자식\n",
    "        cr = parent * 2 + 2 # 오른쪽 자식\n",
    "        child = cr if cr <= right and a[cr] > a[cl] else cl # 큰 값을 선택\n",
    "        \n",
    "        if temp >= a[child]: # 루트 노드가 \n",
    "            break\n",
    "        a[parent] = a[child]\n",
    "        parent = child\n",
    "    a[parent] = temp\n",
    "\n",
    "down_heap([6,4,3,7,1,9,8],2,6)"
   ]
  }
 ],
 "metadata": {
  "kernelspec": {
   "display_name": "base",
   "language": "python",
   "name": "python3"
  },
  "language_info": {
   "codemirror_mode": {
    "name": "ipython",
    "version": 3
   },
   "file_extension": ".py",
   "mimetype": "text/x-python",
   "name": "python",
   "nbconvert_exporter": "python",
   "pygments_lexer": "ipython3",
   "version": "3.12.4"
  }
 },
 "nbformat": 4,
 "nbformat_minor": 2
}
