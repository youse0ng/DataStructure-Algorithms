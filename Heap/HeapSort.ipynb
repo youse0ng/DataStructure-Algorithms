{
 "cells": [
  {
   "cell_type": "markdown",
   "metadata": {},
   "source": [
    "# 힙성질을 만족하는 트리\n",
    "\n",
    "- make-heap(heapify) : 리스트의 마지막부터 시작\n",
    "\n",
    "\n",
    "특징\n",
    "- 부모의 노드 키 값이 항상 자식노드보다 크다 (최대 힙)\n",
    "- 부모의 노드 키 값이 항상 자식노드보다 작다 (최소 힙)\n",
    "- 형제 노드끼리는 대소관계가 없음\n",
    "\n",
    "힙: 리스트(a) 구현\n",
    "- 해당 노드의 부모 노드 : a[(i-1)//2]\n",
    "- 왼쪽 노드 찾기: a[i*2+1]\n",
    "- 오른쪽 노드 찾기: a[i*2 +2]\n"
   ]
  },
  {
   "cell_type": "code",
   "execution_count": 4,
   "metadata": {},
   "outputs": [
    {
     "data": {
      "text/plain": [
       "[1, 2, 3, 6, 8, 10, 11, 12, 15]"
      ]
     },
     "execution_count": 4,
     "metadata": {},
     "output_type": "execute_result"
    }
   ],
   "source": [
    "def heapSort(a:list):\n",
    "    def down_heap(a: list, left:int, right:int): # a[left] ~ a[right]까지 힙 요건이 충족되어있지 않다고 가정되었을 때, 힙 요건 구성하기\n",
    "        temp = a[left] # 루트 노드\n",
    "        \n",
    "        parent = left # left는 가장 큰 parent를 가짐\n",
    "        while parent < (right+1) // 2: #  \n",
    "            cl = parent * 2 + 1 # 왼쪽 자식\n",
    "            cr = parent * 2 + 2 # 오른쪽 자식\n",
    "            child = cr if cr <= right and a[cr] > a[cl] else cl # 큰 값을 선택\n",
    "            \n",
    "            if temp >= a[child]: # 루트 노드가 자식 노드보다 더 크면 내려갈 이유가 없음 \n",
    "                break\n",
    "            a[parent] = a[child] # 자식 노드가 더 크면 교환\n",
    "            parent = child \n",
    "        a[parent] = temp # 교환된 기존의 부모노드값은 자식노드로 이동\n",
    "\n",
    "    n = len(a)\n",
    "    \n",
    "    for i in range((n-1)//2,-1,-1): # 리프노드가 아닌 부모 노드만 Make heap 적용 \n",
    "        # n이 7이면, 부모 노드: 0,1,2 이다.\n",
    "        down_heap(a,i,n-1)\n",
    "    \n",
    "    for i in range(n-1,0,-1):\n",
    "        a[0],a[i] = a[i],a[0]\n",
    "        down_heap(a,0,i-1)\n",
    "        \n",
    "    return a\n",
    "\n",
    "heapSort([2,8,6,1,10,15,3,12,11])"
   ]
  },
  {
   "cell_type": "code",
   "execution_count": null,
   "metadata": {},
   "outputs": [],
   "source": []
  }
 ],
 "metadata": {
  "kernelspec": {
   "display_name": "base",
   "language": "python",
   "name": "python3"
  },
  "language_info": {
   "codemirror_mode": {
    "name": "ipython",
    "version": 3
   },
   "file_extension": ".py",
   "mimetype": "text/x-python",
   "name": "python",
   "nbconvert_exporter": "python",
   "pygments_lexer": "ipython3",
   "version": "3.12.4"
  }
 },
 "nbformat": 4,
 "nbformat_minor": 2
}
