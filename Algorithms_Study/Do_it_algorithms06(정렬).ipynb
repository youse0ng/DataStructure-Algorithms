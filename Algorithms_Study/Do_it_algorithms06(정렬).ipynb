{
  "nbformat": 4,
  "nbformat_minor": 0,
  "metadata": {
    "colab": {
      "private_outputs": true,
      "provenance": [],
      "toc_visible": true,
      "authorship_tag": "ABX9TyPfeyJXQ4TCi920c0iVPnCg",
      "include_colab_link": true
    },
    "kernelspec": {
      "name": "python3",
      "display_name": "Python 3"
    },
    "language_info": {
      "name": "python"
    }
  },
  "cells": [
    {
      "cell_type": "markdown",
      "metadata": {
        "id": "view-in-github",
        "colab_type": "text"
      },
      "source": [
        "<a href=\"https://colab.research.google.com/github/youse0ng/Algorithms_Study/blob/main/Do_it_algorithms06(%EC%A0%95%EB%A0%AC).ipynb\" target=\"_parent\"><img src=\"https://colab.research.google.com/assets/colab-badge.svg\" alt=\"Open In Colab\"/></a>"
      ]
    },
    {
      "cell_type": "markdown",
      "source": [
        "# 06-1 정렬 알고리즘\n",
        "\n",
        "데이터를 일정한 순서로 정렬하는 알고리즘을 배워보자"
      ],
      "metadata": {
        "id": "Cz01Gw4aCmEq"
      }
    },
    {
      "cell_type": "markdown",
      "source": [
        "## 정렬이란?\n",
        "\n",
        "이름,학번,학점 등의 key를 항목값의 대소 관계에 따라 데이터 집합을 일정한 순서로 바꾸어 늘어놓는 작업을 말한다.\n",
        "\n",
        "데이터를 정렬하면 더 쉽게 검색할 수 있다.\n",
        "\n",
        "예를 들어, 사전에 단어가 가나다 순이나 알파벳 순으로 정렬되어 있지 않으면 찾기 어려울 것이다."
      ],
      "metadata": {
        "id": "I4PiQZVKMbNB"
      }
    },
    {
      "cell_type": "markdown",
      "source": [
        "* 안정적인 정렬 알고리즘\n",
        "\n",
        "  같은 값의 원소의 순서를 정렬한 후에도 유지되는 것\n",
        "\n",
        "* 안정적이지 않은 알고리즘\n",
        "\n",
        "  정렬한 후에도 원래의 순서가 유지된다는 보장을 할 수 없다."
      ],
      "metadata": {
        "id": "ZGbCILd2Mlyx"
      }
    },
    {
      "cell_type": "markdown",
      "source": [
        "## 버블 정렬\n",
        "\n",
        "이웃한 두 원소의 대소 관계를 비교하여 필요에 따라 교환을 반복하는 알고리즘으로,\n",
        "\n",
        "단순 교환 정렬이라고도 한다."
      ],
      "metadata": {
        "id": "N_W5wQ-BMmD6"
      }
    },
    {
      "cell_type": "code",
      "source": [
        "from typing import MutableSequence\n",
        "\n",
        "def bubble_sort(a:MutableSequence) -> None:\n",
        "  \"\"\"버블 정렬\"\"\"\n",
        "  n = len(a)\n",
        "  for i in range(n-1):\n",
        "    for j in range(n-1,i,-1):\n",
        "      if a[j-1] >a[j]:\n",
        "        a[j-1],a[j]=a[j],a[j-1]\n",
        "\n",
        "if __name__ =='__main__':\n",
        "  print('버블 정렬을 수행합니다.')\n",
        "  num=int(input(\"원소 수를 입력하세여.: \"))\n",
        "  x=[None]*num\n",
        "\n",
        "  for i in range(num):\n",
        "    x[i]=int(input(f'x[{i}]: '))\n",
        "\n",
        "  bubble_sort(x)\n",
        "\n",
        "  print('오름차순으로 정렬됐음')\n",
        "  for i in range(num):\n",
        "    print(f'x[{i}]: {x[i]}')"
      ],
      "metadata": {
        "id": "dE-Ni5qfMmNU"
      },
      "execution_count": null,
      "outputs": []
    },
    {
      "cell_type": "code",
      "source": [
        "for i in range(n-1):\n",
        "  for j in range(n-1,i,-1):\n",
        "    if a[j-1] > a[j]:\n",
        "      a[j],a[j-1]=a[j-1],a[j]\n"
      ],
      "metadata": {
        "id": "4A8ONAXEMmsN"
      },
      "execution_count": null,
      "outputs": []
    },
    {
      "cell_type": "code",
      "source": [
        "from typing import MutableSequence\n",
        "\n",
        "def bubble_sort_verbose(a:MutableSequence) -> None:\n",
        "  \"\"\"버블 정렬(정렬 과정 출력)\"\"\"\n",
        "  ccnt = 0 # 비교횟수\n",
        "  scnt = 0 # 교환횟수\n",
        "  n = len(a)\n",
        "  for i in range(n-1):\n",
        "    print(f'패스 {i+1}')\n",
        "    for j in range(n-1,i,-1):\n",
        "      ccnt+=1\n",
        "      for m in range(0,n-1):\n",
        "        print(f\"{a[m]:2}\" + (' ' if m != j-1 else\n",
        "                             ' +' if a[j-1] > a[j] else ' -'),\n",
        "                            end='')\n",
        "      if a[j-1] > a[j]:\n",
        "        a[j],a[j-1]=a[j-1],a[j]\n",
        "        scnt+=1\n",
        "      print(f'{a[n-1]:2}')\n",
        "      for m in range(0,n-1):\n",
        "        print(f'{a[m]:2}',end=' ')\n",
        "      print(f'{a[n-1]:2}')\n",
        "    print(f'비교를 {ccnt}번 했습니다.')\n",
        "    print(f'교환을 {scnt}번 했습니다.')\n",
        "\n",
        "bubble_sort_verbose([6,4,3,7,1,9,8])"
      ],
      "metadata": {
        "id": "p4YCo_rkMm0j"
      },
      "execution_count": null,
      "outputs": []
    },
    {
      "cell_type": "markdown",
      "source": [
        "## 단순 선택 정렬\n",
        "\n",
        "가장 작은 원소부터 선택해 알맞은 위치로 옮기는 작업을\n",
        "반복하며 정렬하는 알고리즘"
      ],
      "metadata": {
        "id": "7xl4I3r46lnK"
      }
    },
    {
      "cell_type": "code",
      "source": [
        "def selection_sort(a)->None:\n",
        "  \"\"\"단순 선택 정렬\"\"\"\n",
        "  n=len(a)\n",
        "  for i in range(n-1):\n",
        "    min=i\n",
        "    for j in range(i+1,n):\n",
        "      if a[min] > a[j]:\n",
        "        min=j\n",
        "    a[i],a[min]=a[min],a[i]"
      ],
      "metadata": {
        "id": "PTciUnrV_A8R"
      },
      "execution_count": null,
      "outputs": []
    },
    {
      "cell_type": "markdown",
      "source": [
        "## 단순 삽입 정렬\n",
        "\n",
        "주목한 원소보다 더 앞쪽에서 알맞은 위치로 삽입하여 정렬하는 알고리즘이다\n"
      ],
      "metadata": {
        "id": "sauxpq9VMizz"
      }
    },
    {
      "cell_type": "code",
      "source": [
        "from typing import MutableSequence\n",
        "def insertion_sort(a: MutableSequence) -> None:\n",
        "  n=len(a)\n",
        "  for i in range(1,n):\n",
        "    tmp=a[i]\n",
        "    j=i\n",
        "    while j>0 and a[j-1]>tmp:\n",
        "      a[j]=a[j-1]\n",
        "      j-=1\n",
        "    a[j]=tmp\n",
        "\n",
        "if __name__=='__main__':\n",
        "  print(\"단순 삽입 정렬을 수행합니다.\")\n",
        "  num = int(input(\"원소 수를 입력하세여: \"))\n",
        "  x=[None]*num\n",
        "\n",
        "  for i in range(num):\n",
        "    x[i] = int(input(f'x[{i}]: '))\n",
        "\n",
        "  insertion_sort(x)\n",
        "\n",
        "  print('오름 차순으로 정렬했습니다.')\n",
        "  for i in range(num):\n",
        "    print(f'x[{i}] = {x[i]}')"
      ],
      "metadata": {
        "id": "9j-vPf60MjK8"
      },
      "execution_count": null,
      "outputs": []
    },
    {
      "cell_type": "markdown",
      "source": [
        "## 셸 정렬"
      ],
      "metadata": {
        "id": "LtWHcxfsMjYG"
      }
    },
    {
      "cell_type": "code",
      "source": [
        "from typing import MutableSequence\n",
        "\n",
        "def shell_sort(a: MutableSequence) -> None:\n",
        "  '''셸 정렬'''\n",
        "  n = len(a)\n",
        "  h = n // 2\n",
        "  while h > 0:\n",
        "    for i in range(h,n):\n",
        "      j = i - h\n",
        "      tmp=a[i]\n",
        "      while j>=0 and a[j] > tmp:\n",
        "        a[j+h] = a[j]\n",
        "        j-=h\n",
        "        a[j+h]=tmp\n",
        "    h//=2\n"
      ],
      "metadata": {
        "id": "8Zpj1K1zMjkf"
      },
      "execution_count": null,
      "outputs": []
    },
    {
      "cell_type": "markdown",
      "source": [
        "알고리즘 코딩을 외워야하는건가 ..? 이론은 알겠는데, 코드로 구현을 못하겠다..\n",
        "구현한거 해석도 안되고\n",
        "\n",
        "아니면 이해했다고 착각을 하는 건가?"
      ],
      "metadata": {
        "id": "hVNHnV3oMjva"
      }
    },
    {
      "cell_type": "code",
      "source": [],
      "metadata": {
        "id": "_RlemCyGMj6j"
      },
      "execution_count": null,
      "outputs": []
    },
    {
      "cell_type": "code",
      "source": [],
      "metadata": {
        "id": "XLi5iR9fMkEu"
      },
      "execution_count": null,
      "outputs": []
    },
    {
      "cell_type": "code",
      "source": [],
      "metadata": {
        "id": "yCUN5nKyMkOl"
      },
      "execution_count": null,
      "outputs": []
    },
    {
      "cell_type": "code",
      "source": [],
      "metadata": {
        "id": "lEMz8g0SMkY4"
      },
      "execution_count": null,
      "outputs": []
    },
    {
      "cell_type": "code",
      "source": [],
      "metadata": {
        "id": "W-nHMYutMdsU"
      },
      "execution_count": null,
      "outputs": []
    },
    {
      "cell_type": "code",
      "source": [],
      "metadata": {
        "id": "VYRTnebcMeKU"
      },
      "execution_count": null,
      "outputs": []
    },
    {
      "cell_type": "code",
      "source": [],
      "metadata": {
        "id": "30JL7XStMe08"
      },
      "execution_count": null,
      "outputs": []
    },
    {
      "cell_type": "code",
      "source": [],
      "metadata": {
        "id": "p50a5BkoMe4d"
      },
      "execution_count": null,
      "outputs": []
    },
    {
      "cell_type": "code",
      "source": [],
      "metadata": {
        "id": "8Eju0mdEMfkE"
      },
      "execution_count": null,
      "outputs": []
    },
    {
      "cell_type": "code",
      "source": [],
      "metadata": {
        "id": "lyOI9_lSMaUG"
      },
      "execution_count": null,
      "outputs": []
    },
    {
      "cell_type": "code",
      "source": [],
      "metadata": {
        "id": "kwY35WpIMaQB"
      },
      "execution_count": null,
      "outputs": []
    }
  ]
}