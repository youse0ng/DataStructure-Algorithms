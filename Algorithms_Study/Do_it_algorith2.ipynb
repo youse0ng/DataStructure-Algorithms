{
 "cells": [
  {
   "cell_type": "markdown",
   "metadata": {
    "colab_type": "text",
    "id": "view-in-github"
   },
   "source": [
    "<a href=\"https://colab.research.google.com/github/youse0ng/Algorithms_Study/blob/main/Do_it_algorith2.ipynb\" target=\"_parent\"><img src=\"https://colab.research.google.com/assets/colab-badge.svg\" alt=\"Open In Colab\"/></a>"
   ]
  },
  {
   "cell_type": "markdown",
   "metadata": {
    "id": "cQBaRqIEGUuy"
   },
   "source": [
    "# 02-1 자료구조와 배열\n",
    "**튜플과 리스트**"
   ]
  },
  {
   "cell_type": "markdown",
   "metadata": {
    "id": "nIQlEXz2Gjpb"
   },
   "source": [
    "## 배열의 개념 알아보기"
   ]
  },
  {
   "cell_type": "markdown",
   "metadata": {
    "id": "bkNl-v78GqUd"
   },
   "source": [
    "### 학생 5명의 시험점수를 입력받아 합계와 평균을 출력하기.\n"
   ]
  },
  {
   "cell_type": "code",
   "execution_count": null,
   "metadata": {
    "id": "NSO2iwB5GvXr"
   },
   "outputs": [],
   "source": [
    "print(\"학생 그룹의 점수의 합계와 평균을 구합니다.\")\n",
    "\n",
    "score1=int(input(\"1번 학생의 점수를 입력하세요.:\"))\n",
    "score2=int(input(\"2번 학생의 점수를 입력하세요.:\"))\n",
    "score3=int(input(\"3번 학생의 점수를 입력하세요.:\"))\n",
    "score4=int(input(\"4번 학생의 점수를 입력하세요.:\"))\n",
    "score5=int(input(\"5번 학생의 점수를 입력하세요.:\"))\n",
    "\n",
    "total=0\n",
    "total+=score1\n",
    "total+=score2\n",
    "total+=score3\n",
    "total+=score4\n",
    "total+=score5\n",
    "\n",
    "print(f\"합계는 {total}입니다. 평균은 {total/5}입니다.\")\n",
    "\n",
    "# 이런 코딩은 다른 요구사항이 생겼을때, 코드 자체를 수정해야한다. EX) 1. 학생 수를 변경하는 경우  2. 특정 학생의 시험 점수를 확인하는 경우, 3. 최저 최고점을 구하거나 정렬이 필요한 경우\n",
    "# 따라서 묶음 단위로 값을 저장하는 배열이라는 자료구조를 써야한다."
   ]
  },
  {
   "cell_type": "markdown",
   "metadata": {
    "id": "oNI_6T64IBJE"
   },
   "source": [
    "### 배열의 장점\n",
    "배열 내의 원소의 갯수를 늘리거나 줄이는 것이 쉽다.\n",
    "인덱스를 이용하여 [n]번째 원소에 접근할 수 있어 EX) 2,3번을 해결할 수 있다.\n",
    "서로 다른 자료형 int, float형 등 다양한 어떤 자료형도 상관없이 원소로 들어갈 수 있다.\n",
    "\n",
    "배열은 Tuple과 List로 구현할 수 있다.\n",
    "Data Container라고 불리며, **둘의 차이점은 원소를 변경할 수 있는지 없는지에 따라 차이가 있다.**"
   ]
  },
  {
   "cell_type": "markdown",
   "metadata": {
    "id": "42HmgLgyIoXV"
   },
   "source": [
    "## List의 기초\n",
    "\n",
    "List는 원소를 변경할 수 있는 Mutable List형 객체다.\n",
    "list01=[]으로 빈 리스트를 선언할 수 있고,\n",
    "`list()` 내장 함수를 이용해서 **문자열이나 튜플등 다양한 자료형 객체를 원소로** 하는 리스트를 생성할 수 있다."
   ]
  },
  {
   "cell_type": "code",
   "execution_count": null,
   "metadata": {
    "id": "ITCszxB8J4jZ"
   },
   "outputs": [],
   "source": [
    "list01=[]\n",
    "list02=list()\n",
    "list03=list('abc') # 문자열의 각 문자로부터 원소를 생성\n",
    "list04=list([1,2,3]) #리스트로부터 원소를 생성\n",
    "list05=list((1,2,3)) #튜플로부터 원소를 생성\n",
    "list06=list({1,2,3}) #집합으로부터 원소를 생성\n",
    "\n",
    "list07=list(range(6)) # [0,1,2,3,4,5]\n",
    "\n",
    "# 리스트의 원소의 갯수는 리스트를 만들기 전에 반드시 정해야함.\n",
    "# 원소값을 정하지않은 리스트는 None으로 사용하여 만들 수 있다.\n",
    "list08=[None]*5 #[None, None, None, None, None]"
   ]
  },
  {
   "cell_type": "markdown",
   "metadata": {
    "id": "bZVTY062MqPf"
   },
   "source": [
    "## Tuple의 기초\n",
    "Tuple은 원소를 변경할 수 없는 Immutable 자료형입니다.\n",
    "tuple01=()로 빈 튜플을 선언할 수 있고,\n",
    "원소가 1개있는 경우\n",
    "tuple02=1, 또는 tuple03=(1,) 처럼 마지막에 , 를 붙여줘야합니다.\n",
    "쉼표가 없다면 Tuple이아닌 단순 변수로 여기기 때문에 , 를 붙여야합니다.\n"
   ]
  },
  {
   "cell_type": "code",
   "execution_count": null,
   "metadata": {
    "id": "8gS1jf4RNZuy"
   },
   "outputs": [],
   "source": [
    "tuple01=() # 빈 튜플\n",
    "tuple02=1, # (1,)\n",
    "tuple03=(1,) # (1,)\n",
    "tuple04=1,2,3 #(1,2,3)\n",
    "tuple05=1,2,3,\n",
    "tuple06=(1,2,3)\n",
    "tuple07=(1,2,3,)\n",
    "tuple08=tuple(range(7)) # 이터러블 객체인 range를 tuple로 바꾸기"
   ]
  },
  {
   "cell_type": "markdown",
   "metadata": {
    "id": "2IBNV2tmPVqA"
   },
   "source": [
    "## List와 Tuple 풀어내기\n",
    "\n",
    "---\n",
    "좌변에는 여러 개의 변수를 놓고 우변에는 리스트나 튜플을 놓으면,\n",
    "우변의 원소를 좌변의 변수에 한번에 대입이 가능하다.\n",
    "\n",
    "이와 같이 리스트나 튜플의 원솟값들을 풀어 여러 변수에 대입하는 것을 Unpack 이라고 한다\n",
    "\n"
   ]
  },
  {
   "cell_type": "markdown",
   "metadata": {
    "id": "hQVfgzS7Pqoa"
   },
   "source": [
    "### Unpack\n"
   ]
  },
  {
   "cell_type": "code",
   "execution_count": null,
   "metadata": {
    "id": "fm1aNTwMP-CW"
   },
   "outputs": [],
   "source": [
    "x=[1,2,3]\n",
    "a,b,c=x\n",
    "a,b,c # (1,2,3)\n",
    "\n",
    "y=(4,5,6)\n",
    "d,e,f=y\n",
    "d,e,f # (4,5,6)"
   ]
  },
  {
   "cell_type": "markdown",
   "metadata": {
    "id": "Ko7v_R9BP6Z5"
   },
   "source": [
    "## 인덱스로 원소에 접근하기\n",
    "튜플이나 리스트의 원소에 접근할 때는 인덱스를 사용하면 된다.\n"
   ]
  },
  {
   "cell_type": "markdown",
   "metadata": {
    "id": "pfM-wCAQQStb"
   },
   "source": [
    "### 인덱스식 사용하기"
   ]
  },
  {
   "cell_type": "code",
   "execution_count": null,
   "metadata": {
    "id": "wGO3Nzz5QVz1"
   },
   "outputs": [],
   "source": [
    "x=[11,22,33,44,55,66,77]\n",
    "x[2] # 33 3번째 원소 출력\n",
    "x[-3] # 55 뒤에서 3번째 원소 출력\n",
    "\n",
    "x[-4]=3.14 # 뒤에서 4번째 요소인 44를 3.14로 대입"
   ]
  },
  {
   "cell_type": "markdown",
   "metadata": {
    "id": "BlaSghvqQyhb"
   },
   "source": [
    "## 슬라이스식으로 원소에 접근하기\n",
    "리스트 또는 튜플의 원소 일부를 연속해서 또는 일정한 간격으로 꺼내 새로운 리스트 또는 튜플을 만드는 것을 슬라이스라고 한다.\n",
    "\n",
    "\n"
   ]
  },
  {
   "cell_type": "markdown",
   "metadata": {
    "id": "H_mCQV4UQ4nP"
   },
   "source": [
    "### 슬라이스식으로 원소 꺼내기\n",
    "s[i:j] s[i]부터 s[j-1]까지 나열합니다.\n",
    "s[i:j:k] s[i]부터 s[j-1]까지 k씩 건너뛰며 나열합니다.\n"
   ]
  },
  {
   "cell_type": "code",
   "execution_count": null,
   "metadata": {
    "id": "Z6y2CQ6iREit"
   },
   "outputs": [],
   "source": [
    "s=[11,22,33,44,55,66,77]\n",
    "s[0:6] # 리스트 s를 인덱스 0번 부터 인덱스 5번까지 출력합니다.\n",
    "\n",
    "s[0:7:2] # 리스트 s의 0번째 원소부터 6번째 원소중 2씩 건너뛰며 원소를 출력\n",
    "[11,33,55,77]\n",
    "\n",
    "s[:] #[11, 22, 33, 44, 55, 66, 77] 모든 원소 출력\n",
    "s[:4] #[11,22,33,44] 원소중 맨앞부터 4개를 출력\n",
    "s[3:] # s의 원소중 s[3]부터 맨끝까지 출력 [44, 55, 66, 77]\n",
    "s[-3:] # s[-3]부터 마지막까지 출력 [55, 66, 77]\n",
    "s[::2] # s의 원소 중 맨앞부터 k개씩 건너뛰며 출력 [11,33,55,77]\n",
    "s[::-1] #리스트의 원소 중 맨끝부터 전부 출력\n",
    "s[::-2] # 리스트의 원소를 맨 끝부터 2칸씩 건너뛰며 출력"
   ]
  },
  {
   "cell_type": "markdown",
   "metadata": {
    "id": "4HKf1m6XmsCi"
   },
   "source": [
    "## 자료구조의 개념 알아보기\n",
    "\n",
    "논리적인 관계로 이루어진 데이터 구성을 말합니다.\n",
    "\n",
    "자료구조: 데이터 단위와 데이터 자체 사이의 물리적 또는 논리적인 관계\n",
    "\n",
    "즉 , 데이터가 모여 있는 구조를 말한다.\n",
    "\n",
    "자료 구조를 알아야하는 이유는 컴퓨터에서 처리해야하는 많은 데이터를 모아 효율적으로 관리하고 구조화하는데 있다."
   ]
  },
  {
   "cell_type": "markdown",
   "metadata": {
    "id": "gi4eSWWam1th"
   },
   "source": [
    "리스트와 튜플을 다양하게 사용해 보며 두 자료형의 중요한 사항 몇 가지를 알아보자."
   ]
  },
  {
   "cell_type": "markdown",
   "metadata": {
    "id": "JCUSXDSxnf2M"
   },
   "source": [
    "### 리스트와 튜플\n",
    "1. len() 함수로 배열의 원소 수 구하기\n",
    "2. min(),max()로 배열의 최소 최대값 구하기\n",
    "3. 빈 배열 판단하기\n",
    "4. 비교 연산자로 배열의 대소 또는 등가 관계 판단하기"
   ]
  },
  {
   "cell_type": "markdown",
   "metadata": {
    "id": "3c2YeHespGcj"
   },
   "source": [
    "#### 1. len() 함수로 배열의 원소 수 구하기"
   ]
  },
  {
   "cell_type": "code",
   "execution_count": null,
   "metadata": {
    "id": "SGqsb2n6nsIy"
   },
   "outputs": [],
   "source": [
    "# 1. len() 함수로 배열의 원소 수 구하기\n",
    "x=[15,64,1,3.14,[32,55],'abc']\n",
    "len(x) # 6을 출력"
   ]
  },
  {
   "cell_type": "markdown",
   "metadata": {
    "id": "aetQJd83pJwb"
   },
   "source": [
    "#### 2. min(),max()로 배열의 최소 최대값 구하기"
   ]
  },
  {
   "cell_type": "code",
   "execution_count": null,
   "metadata": {
    "id": "fHO-riF3oI5I"
   },
   "outputs": [],
   "source": [
    "# 2. min(),max()로 배열의 최소 최대값 구하기\n",
    "x=[1,4,5,10,99,4,5,-4,3]\n",
    "min(x),max(x)"
   ]
  },
  {
   "cell_type": "markdown",
   "metadata": {
    "id": "Xar3w2xRpMmE"
   },
   "source": [
    "#### 3. 빈 배열 판단하기"
   ]
  },
  {
   "cell_type": "code",
   "execution_count": null,
   "metadata": {
    "id": "RXgmbEuLoKV6"
   },
   "outputs": [],
   "source": [
    "# 3. 빈 배열 판단하기\n",
    "# 배열의 원소가 하나도 없는지 확인하고 싶다면 배열을 참조하는 변수를 조건식에 그대로 사용하면된다.\n",
    "# 배열이 비어있다면 조건식의 결과는 False이다.\n",
    "\n",
    "if x:\n",
    "  # x가 비어 있지 않으면(True) 실행\n",
    "else:\n",
    "  # x가 비어 있으면(False) 실행"
   ]
  },
  {
   "cell_type": "markdown",
   "metadata": {
    "id": "p_4CB2fppQaO"
   },
   "source": [
    "#### 비교 연산자로 배열의 대소 또는 등가 관계 판단하기"
   ]
  },
  {
   "cell_type": "code",
   "execution_count": null,
   "metadata": {
    "id": "kZpEqmYSpC-S"
   },
   "outputs": [],
   "source": [
    "# 비교 연산자로 배열의 대소 또는 등가 관계 판단하기\n",
    "[1,2,3]==[1,2,3] # True\n",
    "[1,2,3]<[1,2,4] # True\n",
    "[3,1,1]<[1,4,4] # False 맨처음 원소부터 비교하므로 False를 출력한다.\n",
    "[1,2,3,4]<[1,2,3,4] # False\n",
    "[1,2,3,4]<=[1,2,3,4] # True\n",
    "[1,2,3] < [1,2,3,5] # True\n",
    "[1,2,3]<[1,2,3,5]<[1,2,3,5,6] # True\n",
    "\n",
    "# 맨 앞 원소부터 차례로 비교하면서 원소의 값이 같으면 다음 원소를 비교\n",
    "# 만약 어느 원소 값이 크면 그 배열이 큰 것으로 판단\n",
    "# 또는 배열의 원소 수가 다른 경우에는 원소 수가 많은 배열을 더 크다고 판단한다."
   ]
  },
  {
   "cell_type": "markdown",
   "metadata": {
    "id": "Yo1M4tg3bx2a"
   },
   "source": [
    "# 배열이란?\n",
    "\n",
    "배열을 사용하는 기본 알고리즘을 알아보자."
   ]
  },
  {
   "cell_type": "markdown",
   "metadata": {
    "id": "yUC7eCJZb2Hj"
   },
   "source": [
    "## 배열 원소의 최댓값 구하기 (스캔)\n",
    "\n",
    "배열 원소를 하나씩 차례로 주목하여 살펴보는 방식을 알고리즘 용어로 스캔이라고 한다.\n"
   ]
  },
  {
   "cell_type": "code",
   "execution_count": 1,
   "metadata": {
    "id": "8CzmHVP1b8do"
   },
   "outputs": [
    {
     "name": "stdout",
     "output_type": "stream",
     "text": [
      "배열의 최댓값을 구합니다.\n",
      "최댓값은 10입니다.\n"
     ]
    }
   ],
   "source": [
    "from typing import Sequence,Any\n",
    "def max_of(array:Sequence) -> Any:\n",
    "  maximum=array[0] # 초기값 할당 \n",
    "  for i in range(1,len(array)): # array 원소들 훑기 (원소 인덱스 1번째부터 인덱스 len(array) - 1 까지)\n",
    "    if array[i] > maximum: # 만약 array[i]이 maximum보다 크면 \n",
    "      maximum=array[i] # maximum값에 array[i] 할당\n",
    "  return maximum # 모든 array를 훑으면 maximum값 반환\n",
    "\n",
    "a=max_of([10,70,40,99,23,66,300])\n",
    "\n",
    "if __name__=='__main__':\n",
    "  print(\"배열의 최댓값을 구합니다.\")\n",
    "  num=int(input(\"원소의 수를 입력하세요.\"))\n",
    "  x=[None]*num # 원소가 num개인 리스트를 생성\n",
    "\n",
    "  for i in range(num):\n",
    "    x[i]=int(input(f\"x[{i}] 값을 입력하세요: \"))\n",
    "\n",
    "  print(f\"최댓값은 {max_of(x)}입니다.\")"
   ]
  },
  {
   "cell_type": "markdown",
   "metadata": {
    "id": "SIJiDES9nt59"
   },
   "source": [
    "__name__은 모듈 이름을 나타내는 변수이고 작성규칙은 다음과 같다.\n",
    "\n",
    "1. 스크립트 프로그램이 직접 실행될 때 변수 __name__은 __main__이다\n",
    "2. 스크립트 프로그램이 임포트될 때 변수 __name__은 원래의 모듈이름이다.\n",
    "\n",
    "모든 것을 객체로 다루는 파이썬에서는 모듈도 당연히 객체이다.\n",
    "\n",
    "모듈은 프로그램이 처음 임포트되는 시점에 그 모듈 객체가 생성되면서 초기화하는 구조이다.\n",
    "\n",
    "따라서 if문은 **max.py가 직접 시작한 경우에만** 참이되어 if문의 수이트문을 수행할 수 있다.\n",
    "\n",
    "만약 다른 스크립트 프로그램에서 max를 임포트하여 쓰는 경우 거짓이 되므로 if문은 실행이 되지 않는다.\n",
    "\n",
    "모듈 객체에는 `__name__` 이외에도 `__loader__`, `__package__`, `__spec__`, `__path__`, `__file__`등이 존재한다."
   ]
  },
  {
   "cell_type": "code",
   "execution_count": null,
   "metadata": {
    "id": "KhATKmmio52u"
   },
   "outputs": [],
   "source": [
    "# 다음 코드는 위의 작성된 코드를 import하여 사용할 것이므로 max.py와 같은 경로에 저장해야한다.\n",
    "\n",
    "#from max import max_of\n",
    "print('배열의 최댓값을 구합니다.')\n",
    "print('주의: \"End\"를 입력하면 종료합니다.')\n",
    "\n",
    "number=0\n",
    "x=[]\n",
    "\n",
    "while True:\n",
    "  s=input(f'x[{number}]값을 입력하시오: ')\n",
    "  if s==\"End\":\n",
    "    break\n",
    "  x.append(int(s))\n",
    "  number+=1\n",
    "\n",
    "print(f\"{number}개를 입력하였습니다.\")\n",
    "print(f\"최댓값은 {max_of(x)} 입니다.\")"
   ]
  },
  {
   "cell_type": "markdown",
   "metadata": {
    "id": "o18g5AsJyV1a"
   },
   "source": [
    "## 배열의 원솟값을 난수로 결정하기\n",
    "\n",
    "배열의 원소 수, 최댓값, 최소값은 입력받고, 최댓값과 최솟값 안에서 배열을 구성하는 원솟값은 난수로 결정하는 프로그램을 짜보자.\n",
    "\n"
   ]
  },
  {
   "cell_type": "code",
   "execution_count": null,
   "metadata": {
    "id": "CxNZi5VqqNul"
   },
   "outputs": [],
   "source": [
    "import random\n",
    "#from max import max_of\n",
    "\n",
    "print(\"난수의 최댓값을 구합니다.\")\n",
    "num=int(input(\"배열의 원소 수를 입력하세요: \"))\n",
    "hi=int(input(\"최댓값을 입력하세요: \"))\n",
    "lo=int(input(\"최소값을 입력하세요: \"))\n",
    "\n",
    "x=[]\n",
    "for _ in range(num):\n",
    "  random_int=random.randint(a=lo,b=hi)\n",
    "  x.append(random_int)\n",
    "\n",
    "y=[None]* num\n",
    "for i in range(num):\n",
    "  y[i]=(random.randint(a=lo,b=hi))\n",
    "\n",
    "\n",
    "print(f\"{x} 이 생성되었습니다\")\n",
    "print(f\"{x} 중 최댓값은 {max_of(x) }입니다.\")"
   ]
  },
  {
   "cell_type": "markdown",
   "metadata": {
    "id": "8PX7iJSsz9a3"
   },
   "source": [
    "## 배열 원소를 역순으로 정렬하기"
   ]
  },
  {
   "cell_type": "code",
   "execution_count": null,
   "metadata": {
    "id": "BDurUHW9z97Y"
   },
   "outputs": [
    {
     "name": "stdout",
     "output_type": "stream",
     "text": [
      "[13, 16, 14, 25, 23]\n",
      "[23, 25, 14, 16, 13]\n"
     ]
    }
   ],
   "source": [
    "import random\n",
    "n=int(input(\"원소의 갯수를 입력하시오: \")) # 원소개 몇 개 할지 입력\n",
    "\n",
    "a=[None]*n # 입력받은 수만큼 list 원소 개수 만들기\n",
    "for q in range(n):\n",
    "  a[q]=random.randint(10,30) # randint(10 ~ 30)사이의 정수 랜덤하게 추출\n",
    "\n",
    "print(a)\n",
    "\n",
    "for i in range(n//2):\n",
    "  a[i],a[n-i-1] = a[n-i-1],a[i] # n-i-1 (오른쪽 인덱스)부터 탐색\n",
    "\n",
    "print(a)"
   ]
  },
  {
   "cell_type": "markdown",
   "metadata": {
    "id": "nf4bepZ1z95Y"
   },
   "source": [
    "함수화 시키기"
   ]
  },
  {
   "cell_type": "code",
   "execution_count": null,
   "metadata": {
    "id": "NnSJfInVz913"
   },
   "outputs": [],
   "source": [
    "from typing import Any,MutableSequence\n",
    "\n",
    "def reverse_array(a:MutableSequence)->None:\n",
    "  \"\"\"\n",
    "  뮤터블 시퀀스 a의 원소를 역순으로 정렬\n",
    "  \"\"\"\n",
    "  n=len(a)\n",
    "  for i in range(n//2):\n",
    "    a[i],a[n-i-1]=a[n-i-1],a[i]\n",
    "\n",
    "if __name__==\"__main__\":\n",
    "  print(\"배열 원소를 역순으로 정렬합니다.\")\n",
    "  nx=int(input(\"원소 수를 입력하세여\"))\n",
    "\n",
    "  x=[None]*nx\n",
    "\n",
    "  for i in range(nx):\n",
    "    x[i]=int(input(f'x[{i}]값을 입력하세요'))\n",
    "\n",
    "  reverse_array(x)\n",
    "\n",
    "  print('배열 원소를 역순으로 정렬했습니다')\n",
    "\n",
    "  for i in range(nx):\n",
    "    print(f\"x[{i}]={x[i]}\")"
   ]
  },
  {
   "cell_type": "code",
   "execution_count": null,
   "metadata": {
    "id": "u4yCVADpz9zx"
   },
   "outputs": [
    {
     "data": {
      "text/plain": [
       "[4, 3, 2, 1, 0]"
      ]
     },
     "execution_count": 8,
     "metadata": {},
     "output_type": "execute_result"
    },
    {
     "ename": "",
     "evalue": "",
     "output_type": "error",
     "traceback": [
      "\u001b[1;31mThe Kernel crashed while executing code in the current cell or a previous cell. \n",
      "\u001b[1;31mPlease review the code in the cell(s) to identify a possible cause of the failure. \n",
      "\u001b[1;31mClick <a href='https://aka.ms/vscodeJupyterKernelCrash'>here</a> for more info. \n",
      "\u001b[1;31mView Jupyter <a href='command:jupyter.viewOutput'>log</a> for further details."
     ]
    }
   ],
   "source": [
    "y=list(reversed(range(0,5)))\n",
    "# reversed 는 역순으로 정렬하는 이터러블 객체를 생성한다.\n",
    "y"
   ]
  },
  {
   "cell_type": "markdown",
   "metadata": {
    "id": "uHA4gMVUz9wA"
   },
   "source": [
    "# 기수 변환하기 (n진수 구하기)\n",
    "\n"
   ]
  },
  {
   "cell_type": "code",
   "execution_count": 1,
   "metadata": {
    "id": "DMEnaTH8z9t2"
   },
   "outputs": [
    {
     "name": "stdout",
     "output_type": "stream",
     "text": [
      "5\n",
      "3\n"
     ]
    },
    {
     "data": {
      "text/plain": [
       "'35'"
      ]
     },
     "execution_count": 1,
     "metadata": {},
     "output_type": "execute_result"
    }
   ],
   "source": [
    "def card_conv(x:int,r:int) -> str:\n",
    "  \"\"\"\n",
    "  정수값 x를 r진수로 변환한 뒤 그 수를 나타내는 문자열 반환\n",
    "  \"\"\"\n",
    "  d='' # 변환 후 문자열\n",
    "  dchar='0123456789ABCDEFGHIJKLMNOPQRSTUVWXYZ'\n",
    "\n",
    "  while x > 0:\n",
    "    print(x%r)\n",
    "    d+=dchar[x%r]\n",
    "    # d=d+dchar[x%r]\n",
    "    x//=r\n",
    "    # x=x//r\n",
    "\n",
    "  return d[::-1]\n",
    "\n",
    "card_conv(53,16)"
   ]
  },
  {
   "cell_type": "code",
   "execution_count": null,
   "metadata": {
    "id": "TGloi38Zz9l4"
   },
   "outputs": [],
   "source": [
    "if __name__=='__main__':\n",
    "  print(\"10진수를 n진수로 변환합니다.\")\n",
    "\n",
    "  while True:\n",
    "    while True: # 음이 아닌 정수값을 받기\n",
    "      no=int(input(\"변환할 값으로 음이 아닌 정수를 입력하세요. \"))\n",
    "      if no > 0:\n",
    "        break\n",
    "\n",
    "    while True: # 2 ~ 36진수의 정숫값을 입력받음\n",
    "      cd=int(input(\"어떤 진수로 변환할까요? \"))\n",
    "      if 2 <= cd <= 36:\n",
    "        break\n",
    "\n",
    "    print(f\"{cd}진수로는 {card_conv(no,cd)} 입니다.\")\n",
    "\n",
    "    retry=input('한번 더 변환을 할까요??? (Y --- 예 / N --- 아니오) : ')\n",
    "    if retry in {'N','n'}:\n",
    "      break"
   ]
  }
 ],
 "metadata": {
  "colab": {
   "authorship_tag": "ABX9TyOTGfje6Zp5oIig+z0mXGWH",
   "include_colab_link": true,
   "private_outputs": true,
   "provenance": [],
   "toc_visible": true
  },
  "kernelspec": {
   "display_name": "base",
   "language": "python",
   "name": "python3"
  },
  "language_info": {
   "codemirror_mode": {
    "name": "ipython",
    "version": 3
   },
   "file_extension": ".py",
   "mimetype": "text/x-python",
   "name": "python",
   "nbconvert_exporter": "python",
   "pygments_lexer": "ipython3",
   "version": "3.11.7"
  }
 },
 "nbformat": 4,
 "nbformat_minor": 0
}
