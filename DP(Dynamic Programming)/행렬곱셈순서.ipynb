{
 "cells": [
  {
   "cell_type": "markdown",
   "id": "64869e18",
   "metadata": {},
   "source": [
    "# 행렬의 곱셈 순서"
   ]
  },
  {
   "cell_type": "markdown",
   "id": "d0cf5ec4",
   "metadata": {},
   "source": [
    "입력:\n",
    "- 2 X 3\n",
    "- 3 X 4\n",
    "- 4 X 2\n",
    "\n",
    "1. 24 + 16 = 40\n",
    "2. 24 + 12 = 36\n",
    "\n",
    "min = 36"
   ]
  },
  {
   "cell_type": "code",
   "execution_count": null,
   "id": "fc0e96c1",
   "metadata": {},
   "outputs": [],
   "source": [
    "N = int(input())\n",
    "matrix = []\n",
    "for _ in range(N): # 연산량 계산 M'과 M''을 계산하기 위한 테이블 \n",
    "    a,b = map(int,input().split())\n",
    "    matrix.append(a)\n",
    "matrix.append(b)\n",
    "\n",
    "DP_TABLE = [[0]*(N+1) for _ in range(N+1)]# DP 테이블 초기화\n",
    "for cnt in range(1,N): # 괄호치려는 구간 (1 ~ N-1)\n",
    "    for start in range(1,N-cnt+1): # 구간의 시작점 (1 ~ N)\n",
    "        end = start+cnt # 마지막 끝\n",
    "        DP_TABLE[start][end] = 2**32\n",
    "        for mid in range(start, end):\n",
    "            DP_TABLE[start][end] = min(DP_TABLE[start][end],DP_TABLE[start][mid] + DP_TABLE[mid+1][end] + matrix[start-1]*matrix[mid]*matrix[end])\n",
    "print(DP_TABLE[1][N])"
   ]
  },
  {
   "cell_type": "markdown",
   "id": "9b08cd54",
   "metadata": {},
   "source": [
    "- cnt: 곱하려는 행렬의 개수 - 1입니다 (즉, 구간 길이).\n",
    "- start: 구간의 시작점 (1-based index로 DP 배열 사용 중).\n",
    "- end = start + cnt: 해당 구간의 끝점\n",
    "\n",
    "예시:\n",
    "N = 4개의 행렬이라고 가정하면 (matrix는 길이 5):\n",
    "- cnt = 1 (2개의 행렬을 곱할 때):\n",
    "    - 가능한 구간: (1,2), (2,3), (3,4)\n",
    "    - start는 1부터 N - cnt = 3 까지 → range(1, 4)\n",
    "\n",
    "- cnt = 2 (3개의 행렬을 곱할 때):\n",
    "    - 구간: (1,3), (2,4)\n",
    "    - start는 range(1, 3)\n",
    "\n",
    "- cnt = 3 (4개의 행렬 전체를 곱할 때):\n",
    "    - 구간: (1,4)\n",
    "    - start는 range(1, 2)\n",
    "\n",
    "따라서 start는 끝점(end)이 배열 범위를 넘지 않도록 하기 위해 N - cnt + 1까지 반복하는 거예요."
   ]
  }
 ],
 "metadata": {
  "kernelspec": {
   "display_name": "base",
   "language": "python",
   "name": "python3"
  },
  "language_info": {
   "codemirror_mode": {
    "name": "ipython",
    "version": 3
   },
   "file_extension": ".py",
   "mimetype": "text/x-python",
   "name": "python",
   "nbconvert_exporter": "python",
   "pygments_lexer": "ipython3",
   "version": "3.12.4"
  }
 },
 "nbformat": 4,
 "nbformat_minor": 5
}
