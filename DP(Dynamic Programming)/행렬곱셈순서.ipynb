{
 "cells": [
  {
   "cell_type": "markdown",
   "id": "a111124c",
   "metadata": {},
   "source": [
    "# 행렬곱셈순서\n",
    "- "
   ]
  }
 ],
 "metadata": {
  "language_info": {
   "name": "python"
  }
 },
 "nbformat": 4,
 "nbformat_minor": 5
}
