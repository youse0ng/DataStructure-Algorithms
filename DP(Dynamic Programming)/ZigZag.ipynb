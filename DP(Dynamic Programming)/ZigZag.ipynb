{
 "cells": [
  {
   "cell_type": "code",
   "execution_count": null,
   "id": "a980362e",
   "metadata": {},
   "outputs": [
    {
     "data": {
      "text/plain": [
       "6"
      ]
     },
     "execution_count": 14,
     "metadata": {},
     "output_type": "execute_result"
    }
   ],
   "source": [
    "zigZag = list(map(int,input().split()))\n",
    "Low = [1] * len(zigZag)\n",
    "High = [1] * len(zigZag)\n",
    "\n",
    "for k in range(1,len(zigZag)):\n",
    "    for j in range(k):\n",
    "        if zigZag[k] > zigZag[j]:\n",
    "            High[k] = max(Low[j]+1,High[k])\n",
    "        if zigZag[k] < zigZag[j]:\n",
    "            Low[k] = max(High[j]+1,Low[k])\n",
    "\n",
    "max(max(Low), max(High))"
   ]
  }
 ],
 "metadata": {
  "kernelspec": {
   "display_name": "base",
   "language": "python",
   "name": "python3"
  },
  "language_info": {
   "codemirror_mode": {
    "name": "ipython",
    "version": 3
   },
   "file_extension": ".py",
   "mimetype": "text/x-python",
   "name": "python",
   "nbconvert_exporter": "python",
   "pygments_lexer": "ipython3",
   "version": "3.11.7"
  }
 },
 "nbformat": 4,
 "nbformat_minor": 5
}
