{
 "cells": [
  {
   "cell_type": "markdown",
   "id": "7bf92951",
   "metadata": {},
   "source": [
    "# DP 문제 풀이 방법\n",
    "1. 큰 문제를 작은 문제로 분할해서 해결될 수 있는지 고려\n",
    "2. 큰 문제의 해를 부분 문제의 해의 점화식\n",
    "3. DP 테이블에 작은 문제들을 저장\n",
    "4. 항상 정확성을 증명"
   ]
  },
  {
   "cell_type": "markdown",
   "id": "09568b3a",
   "metadata": {},
   "source": [
    "# 최대구간합 - Dynamic Programming\n",
    "\n",
    "Ex) A = [-1,1,3,-4,5,-4,6,-2]\n",
    "\n",
    "A[2]로 끝나는 최대구간 값의 계산은\n",
    "- max(A[2]+A[1], A[2]+A[1]+A[0])\n",
    "\n",
    "A[6]으로 끝나는 최대구간 값의 계산은\n",
    "- A[5]로 끝나는 최대 구간의 합 + A[6]를 구하면 구할 수 있다."
   ]
  },
  {
   "cell_type": "code",
   "execution_count": 10,
   "id": "043a00a2",
   "metadata": {},
   "outputs": [
    {
     "data": {
      "text/plain": [
       "7"
      ]
     },
     "execution_count": 10,
     "metadata": {},
     "output_type": "execute_result"
    }
   ],
   "source": [
    "# 최대구간합\n",
    "def max_interval(a:list):\n",
    "    S = [None] * len(a) # DP 테이블\n",
    "    S[0] = a[0]\n",
    "    for i in range(1,len(a)):\n",
    "        S[i] = max(S[i-1]+a[i],a[i])\n",
    "\n",
    "    return max(S)\n",
    "\n",
    "a=[-1,1,3,-4,5,-4,6,-2]\n",
    "\n",
    "max_interval(a)"
   ]
  },
  {
   "cell_type": "code",
   "execution_count": null,
   "id": "954825cc",
   "metadata": {},
   "outputs": [],
   "source": []
  }
 ],
 "metadata": {
  "kernelspec": {
   "display_name": "base",
   "language": "python",
   "name": "python3"
  },
  "language_info": {
   "codemirror_mode": {
    "name": "ipython",
    "version": 3
   },
   "file_extension": ".py",
   "mimetype": "text/x-python",
   "name": "python",
   "nbconvert_exporter": "python",
   "pygments_lexer": "ipython3",
   "version": "3.11.7"
  }
 },
 "nbformat": 4,
 "nbformat_minor": 5
}
