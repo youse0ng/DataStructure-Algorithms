{
 "cells": [
  {
   "cell_type": "markdown",
   "id": "958a7598",
   "metadata": {},
   "source": [
    "# LCS (최장 공통 부문자열)\n",
    "- X: ABCDEF \n",
    "- Y: GBCDFE \n",
    "\n",
    "LCS란 건너 뛰어 공통되면서, 가장 긴 부분 문자열의 길\n",
    "- $ X_i = x_1 x_2 ... x_i $ => i개의 문자열\n",
    "- $ Y_j = y_1 y_2 ... y_j $ => j개의 문자열\n",
    "\n",
    "$ LCS(x_i,y_j) $는 두 개의 갈래로 나뉜다.\n",
    "\n",
    "- if $x_i == y_j$ 인 경우,\n",
    "    1. 최장 공통 부문자열을 마지막 문자열이 갖고 있으므로 길이 += 1을 해준다. \n",
    "    2. 그 나머지 문자열에 대해서 다시 LCS를 적용\n",
    "    - $LCS(x_{i-1},y_{j-1}) + 1$ \n",
    "- if $x_i \\neq y_j$ 인 경우,\n",
    "    - $LCS(x_{i-1},y_j)$\n",
    "        - $x_{i-1},y_j$ LCS 확인\n",
    "    - $LCS(x_i, y_{j-1})$\n",
    "        - $x_i, y_{j-1}$ LCS 확인\n",
    "    - 둘 중 제일 큰 길이를 선택해야한다.\n",
    "        - $max(LCS(x_{i-1},y_j), LCS(x_i, y_{j-1}))$\n",
    "- DP Table: 2차원 List로 지정, 이름은 LCS\n",
    "- LCS[0][0]은 0"
   ]
  },
  {
   "cell_type": "code",
   "execution_count": 15,
   "id": "fc4e7aef",
   "metadata": {},
   "outputs": [
    {
     "data": {
      "text/plain": [
       "4"
      ]
     },
     "execution_count": 15,
     "metadata": {},
     "output_type": "execute_result"
    }
   ],
   "source": [
    "X = input()\n",
    "Y = input() \n",
    "def LCS(X:str,Y:str):\n",
    "    \"\"\"X와 Y의 최장 공통 부문자열의 길이 반환\"\"\"\n",
    "    DP_TABLE = [[0] * (len(Y)+1) for _ in range(len(X)+1)] # DP 초기화\n",
    "    for i in range(len(X)): # A B C D E F (0,1,2,3,4,5)\n",
    "        for j in range(len(Y)): # G B C D F E (0,1,2,3,4,5)\n",
    "            if X[i]==Y[j]:\n",
    "                DP_TABLE[i+1][j+1] = DP_TABLE[i][j] + 1\n",
    "            else: # x와 y가 같지 않은 경우\n",
    "                DP_TABLE[i+1][j+1] = max(DP_TABLE[i][j+1], DP_TABLE[i+1][j])\n",
    "    return DP_TABLE[len(X)][len(Y)]\n",
    "print(LCS(X,Y))\n"
   ]
  }
 ],
 "metadata": {
  "kernelspec": {
   "display_name": "base",
   "language": "python",
   "name": "python3"
  },
  "language_info": {
   "codemirror_mode": {
    "name": "ipython",
    "version": 3
   },
   "file_extension": ".py",
   "mimetype": "text/x-python",
   "name": "python",
   "nbconvert_exporter": "python",
   "pygments_lexer": "ipython3",
   "version": "3.11.7"
  }
 },
 "nbformat": 4,
 "nbformat_minor": 5
}
