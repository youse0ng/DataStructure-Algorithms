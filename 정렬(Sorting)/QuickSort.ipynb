{
 "cells": [
  {
   "cell_type": "code",
   "execution_count": null,
   "id": "e65e52f5",
   "metadata": {},
   "outputs": [
    {
     "name": "stdout",
     "output_type": "stream",
     "text": [
      "배열을 나눕니다.\n",
      "피벗은 4입니다.\n",
      "피벗 이하인 그룹입니다.\n",
      "1 3 2\n"
     ]
    }
   ],
   "source": [
    "from typing import MutableSequence\n",
    "\n",
    "def partition(a: MutableSequence) -> None:\n",
    "    \"\"\"배열을 나누어 출력\"\"\"\n",
    "    n = len(a)\n",
    "    pl = 0 # 왼쪽 커서\n",
    "    pr = n-1 # 오른쪽 커서\n",
    "    x = n // 2 # 피봇 (그룹을 나누는 기준이 되는 인덱스)\n",
    "\n",
    "    while pl <= pr: # 그룹을 나누는 과정 (PL과 PR이 교차하지 않을 때까지만 수행)\n",
    "        while a[pl] < x: pl+=1 # a[pl]이 피봇보다 작으면, 그대로 있어야 하니까, 다음꺼 수행 pl+=1\n",
    "        while a[pr] > x: pr-=1 # a[pr]이 피봇보다 크면, 그대로 있어야 됨, 다음꺼 수행 pr-=1\n",
    "        if pl <= pr:\n",
    "            a[pl],a[pr] = a[pr],a[pl] # 교환 피봇보다 작은 값은 왼쪽으로, 피봇보다 큰 값은 오른쪽으로\n",
    "            pl+=1 # 오른쪽으로 탐색\n",
    "            pr-=1 # 왼쪽으로 탐색\n",
    "\n",
    "    print(f'피벗은 {a[x]}입니다.')\n",
    "    print('피벗 이하인 그룹입니다.')\n",
    "    print(*a[0:pl])\n",
    "    \n",
    "    if pl > pr+1:\n",
    "        print('피벗과 일치하는 그룹입니다.')\n",
    "        print(*a[pr+1:pl])\n",
    "\n",
    "        print('피벗 이상인 그룹입니다.')\n",
    "        print(*a[pr+1:n])\n",
    "        \n",
    "if __name__=='__main__':\n",
    "    print(\"배열을 나눕니다.\")\n",
    "    num = int(input(\"원소 수를 입력하세요.: \"))\n",
    "    x = [None]*num \n",
    "\n",
    "    for i in range(num):\n",
    "        x[i] = int(input(f'x[{i}]: '))\n",
    "    \n",
    "    partition(x)"
   ]
  },
  {
   "cell_type": "code",
   "execution_count": null,
   "id": "436bcb01",
   "metadata": {},
   "outputs": [],
   "source": []
  }
 ],
 "metadata": {
  "kernelspec": {
   "display_name": "base",
   "language": "python",
   "name": "python3"
  },
  "language_info": {
   "codemirror_mode": {
    "name": "ipython",
    "version": 3
   },
   "file_extension": ".py",
   "mimetype": "text/x-python",
   "name": "python",
   "nbconvert_exporter": "python",
   "pygments_lexer": "ipython3",
   "version": "3.11.7"
  }
 },
 "nbformat": 4,
 "nbformat_minor": 5
}
