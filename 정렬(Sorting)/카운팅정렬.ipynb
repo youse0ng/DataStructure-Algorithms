{
 "cells": [
  {
   "cell_type": "code",
   "execution_count": 8,
   "id": "a19c9642",
   "metadata": {},
   "outputs": [
    {
     "data": {
      "text/plain": [
       "[1, 1, 2, 2, 3, 3, 4, 5, 5, 7]"
      ]
     },
     "execution_count": 8,
     "metadata": {},
     "output_type": "execute_result"
    }
   ],
   "source": [
    "def counting_sort(A,k):\n",
    "    B = [-1] * len(A) # output Array\n",
    "    C = [0] * (k+1)\n",
    "\n",
    "    for a in A:\n",
    "        C[a] += 1\n",
    "\n",
    "    for i in range(k): # 누적합\n",
    "        C[i+1] += C[i]\n",
    "\n",
    "    for j in reversed(range(len(A))):\n",
    "        B[C[A[j]] - 1] = A[j] # -1은 C 누적합에 -1\n",
    "        C[A[j]] -= 1\n",
    "\n",
    "    return B\n",
    "\n",
    "N = int(input())\n",
    "A = [int(input()) for _ in range(N)]\n",
    "counting_sort(A,max(A))"
   ]
  },
  {
   "cell_type": "code",
   "execution_count": 27,
   "id": "0de87538",
   "metadata": {},
   "outputs": [
    {
     "name": "stdout",
     "output_type": "stream",
     "text": [
      "1\n",
      "1\n",
      "2\n",
      "2\n",
      "3\n",
      "3\n",
      "4\n",
      "5\n",
      "5\n",
      "7\n"
     ]
    }
   ],
   "source": [
    "N = int(input())\n",
    "A = [int(input()) for _ in range(N)]\n",
    "\n",
    "K = max(A)\n",
    "B = [0] * len(A)\n",
    "C = [0] * (K+1)\n",
    "\n",
    "for a in A:\n",
    "    C[a] += 1\n",
    "\n",
    "for i in range(len(C)-1):\n",
    "    C[i+1] += C[i]\n",
    "\n",
    "for i in reversed(range(len(A))):\n",
    "    B[C[A[i]] - 1] = A[i]\n",
    "    C[A[i]] -= 1\n",
    "\n",
    "for i in B:\n",
    "    print(i)"
   ]
  },
  {
   "cell_type": "code",
   "execution_count": null,
   "id": "7f07f84d",
   "metadata": {},
   "outputs": [],
   "source": []
  }
 ],
 "metadata": {
  "kernelspec": {
   "display_name": "base",
   "language": "python",
   "name": "python3"
  },
  "language_info": {
   "codemirror_mode": {
    "name": "ipython",
    "version": 3
   },
   "file_extension": ".py",
   "mimetype": "text/x-python",
   "name": "python",
   "nbconvert_exporter": "python",
   "pygments_lexer": "ipython3",
   "version": "3.11.7"
  }
 },
 "nbformat": 4,
 "nbformat_minor": 5
}
