{
 "cells": [
  {
   "cell_type": "code",
   "execution_count": 5,
   "id": "70391db2",
   "metadata": {},
   "outputs": [
    {
     "name": "stdout",
     "output_type": "stream",
     "text": [
      "34\n",
      "30\n"
     ]
    }
   ],
   "source": [
    "a = sorted([int(input()) for _ in range(5)])\n",
    "print(sum(a)//5)\n",
    "print(a[2])"
   ]
  },
  {
   "cell_type": "code",
   "execution_count": 5,
   "id": "504bb7b4",
   "metadata": {},
   "outputs": [
    {
     "name": "stdout",
     "output_type": "stream",
     "text": [
      "3\n"
     ]
    }
   ],
   "source": [
    "N,M = map(int,input().split())\n",
    "primary = set()\n",
    "result = 0 \n",
    "for _ in range(N):\n",
    "    primary.add(input())\n",
    "for _ in range(M):\n",
    "    checkstring = input()\n",
    "    if checkstring in primary:\n",
    "        result +=1 \n",
    "print(result)"
   ]
  },
  {
   "cell_type": "code",
   "execution_count": null,
   "id": "232b0cd6",
   "metadata": {},
   "outputs": [],
   "source": []
  }
 ],
 "metadata": {
  "kernelspec": {
   "display_name": "base",
   "language": "python",
   "name": "python3"
  },
  "language_info": {
   "codemirror_mode": {
    "name": "ipython",
    "version": 3
   },
   "file_extension": ".py",
   "mimetype": "text/x-python",
   "name": "python",
   "nbconvert_exporter": "python",
   "pygments_lexer": "ipython3",
   "version": "3.11.7"
  }
 },
 "nbformat": 4,
 "nbformat_minor": 5
}
