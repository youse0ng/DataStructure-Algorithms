{
 "cells": [
  {
   "cell_type": "markdown",
   "id": "3481e2d2",
   "metadata": {},
   "source": [
    "# 나이순 정렬\n",
    "- 입력 순서를 넣어주자!"
   ]
  },
  {
   "cell_type": "code",
   "execution_count": null,
   "id": "5967d6ce",
   "metadata": {},
   "outputs": [
    {
     "name": "stdout",
     "output_type": "stream",
     "text": [
      "20 Sunyoung\n",
      "21 Junkyu\n",
      "21 Dohyun\n"
     ]
    }
   ],
   "source": [
    "N = int(input())\n",
    "result = []\n",
    "for idx in range(N):\n",
    "    age, name = input().split()\n",
    "    result.append((int(age), name, idx))\n",
    "for age, name, _ in sorted(result, key = lambda x: (x[0],x[2])):\n",
    "    print(age, name)"
   ]
  }
 ],
 "metadata": {
  "kernelspec": {
   "display_name": "base",
   "language": "python",
   "name": "python3"
  },
  "language_info": {
   "codemirror_mode": {
    "name": "ipython",
    "version": 3
   },
   "file_extension": ".py",
   "mimetype": "text/x-python",
   "name": "python",
   "nbconvert_exporter": "python",
   "pygments_lexer": "ipython3",
   "version": "3.11.7"
  }
 },
 "nbformat": 4,
 "nbformat_minor": 5
}
