{
 "cells": [
  {
   "cell_type": "markdown",
   "id": "4e1f7e04",
   "metadata": {},
   "source": [
    "# 버블 정렬을 이용한 문제 해결 풀이"
   ]
  },
  {
   "cell_type": "code",
   "execution_count": null,
   "id": "d8ea28d9",
   "metadata": {},
   "outputs": [
    {
     "name": "stdout",
     "output_type": "stream",
     "text": [
      "[87, 89, 91, 100, 100]\n",
      "91\n"
     ]
    }
   ],
   "source": [
    "N, k = map(int,input().split())\n",
    "a = list(map(int,input().split()))\n",
    "length = len(a) \n",
    "for i in range(0,length): # 버블 정렬 ! O(n^2) 시간 복잡도도\n",
    "    for j in range(0,length-i-1):\n",
    "        if a[j] > a[j+1]:\n",
    "            a[j],a[j+1] = a[j+1],a[j]\n",
    "print(a[-k])"
   ]
  }
 ],
 "metadata": {
  "kernelspec": {
   "display_name": "base",
   "language": "python",
   "name": "python3"
  },
  "language_info": {
   "codemirror_mode": {
    "name": "ipython",
    "version": 3
   },
   "file_extension": ".py",
   "mimetype": "text/x-python",
   "name": "python",
   "nbconvert_exporter": "python",
   "pygments_lexer": "ipython3",
   "version": "3.11.7"
  }
 },
 "nbformat": 4,
 "nbformat_minor": 5
}
