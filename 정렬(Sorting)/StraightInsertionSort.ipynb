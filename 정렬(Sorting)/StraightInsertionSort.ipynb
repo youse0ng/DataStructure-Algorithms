{
 "cells": [
  {
   "cell_type": "code",
   "execution_count": null,
   "id": "a4a951f3",
   "metadata": {},
   "outputs": [],
   "source": [
    "from typing import MutableSequence\n",
    "\n",
    "def insertion_sort(a:MutableSequence) -> None:\n",
    "    \"\"\"단순 삽입 정렬\"\"\"\n",
    "    n = len(a)\n",
    "    for i in range(1,n):\n",
    "        j = i # 주목하는 요소\n",
    "        tmp = a[i] # 주목하는 요소는 a[i]\n",
    "        while j > 0 and  a[j-1] > tmp: # j는 정렬된 곳을 탐색한다. 정렬되지 않은 부분에서 가장 왼쪽인 요소를 정렬된 곳들을 탐색하면서 비교하면서 적당한 곳을 찾아 끼워놓음음\n",
    "            a[j] = a[j-1] # j-1은 정렬되지 않은 부분이다.\n",
    "            j -= 1\n",
    "        a[j] = tmp"
   ]
  }
 ],
 "metadata": {
  "language_info": {
   "name": "python"
  }
 },
 "nbformat": 4,
 "nbformat_minor": 5
}
