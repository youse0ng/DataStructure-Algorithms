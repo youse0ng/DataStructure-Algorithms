{
 "cells": [
  {
   "cell_type": "markdown",
   "id": "378f2fc4",
   "metadata": {},
   "source": [
    "# 버블 정렬"
   ]
  },
  {
   "cell_type": "code",
   "execution_count": null,
   "id": "e524eaec",
   "metadata": {},
   "outputs": [],
   "source": [
    "import sys\n",
    "N = int(sys.stdin.readline())\n",
    "a = [int(sys.stdin.readline()) for _ in range(N)]\n",
    "length = len(a)\n",
    "for i in range(length):\n",
    "    for j in range(0,length - i - 1):\n",
    "        if a[j] > a[j+1]:\n",
    "            a[j+1], a[j] = a[j],a[j+1]\n",
    "\n",
    "for i in a:\n",
    "    print(i)"
   ]
  },
  {
   "cell_type": "code",
   "execution_count": 3,
   "id": "cd8a30a9",
   "metadata": {},
   "outputs": [
    {
     "name": "stdout",
     "output_type": "stream",
     "text": [
      "1\n",
      "1\n",
      "2\n",
      "2\n",
      "3\n",
      "3\n",
      "4\n",
      "5\n",
      "5\n",
      "7\n"
     ]
    }
   ],
   "source": [
    "N = int(input())\n",
    "a = [int(input()) for _ in range(N)]\n",
    "n = len(a)\n",
    "def heapify_down(a,left,right):\n",
    "    temp = a[left] # 루트 노드\n",
    "    parent = left\n",
    "    \n",
    "    while parent < (right + 1) // 2:\n",
    "        cl = parent * 2 + 1\n",
    "        cr = cl + 1\n",
    "        child = cr if cr <= right and a[cr] > a[cl] else cl\n",
    "        if a[child] < temp:\n",
    "            break\n",
    "        a[parent] = a[child]\n",
    "        parent = child\n",
    "    a[parent] = temp\n",
    "    \n",
    "for i in range((n-1)//2,-1,-1):\n",
    "    heapify_down(a,i,n-1)\n",
    "\n",
    "for j in range(n-1,0,-1):\n",
    "    a[j],a[0] = a[0],a[j]\n",
    "    heapify_down(a,0,j-1)\n",
    "    \n",
    "for i in a:\n",
    "    print(i)"
   ]
  },
  {
   "cell_type": "code",
   "execution_count": null,
   "id": "e1774b06",
   "metadata": {},
   "outputs": [
    {
     "name": "stdout",
     "output_type": "stream",
     "text": [
      "1\n",
      "1\n",
      "2\n",
      "2\n",
      "3\n",
      "3\n",
      "4\n",
      "5\n",
      "5\n",
      "7\n"
     ]
    },
    {
     "ename": "",
     "evalue": "",
     "output_type": "error",
     "traceback": [
      "\u001b[1;31mThe Kernel crashed while executing code in the current cell or a previous cell. \n",
      "\u001b[1;31mPlease review the code in the cell(s) to identify a possible cause of the failure. \n",
      "\u001b[1;31mClick <a href='https://aka.ms/vscodeJupyterKernelCrash'>here</a> for more info. \n",
      "\u001b[1;31mView Jupyter <a href='command:jupyter.viewOutput'>log</a> for further details."
     ]
    }
   ],
   "source": [
    "N = int(input())\n",
    "a = sorted([int(input()) for _ in range(N)])\n",
    "for i in a:\n",
    "    print(i)"
   ]
  }
 ],
 "metadata": {
  "kernelspec": {
   "display_name": "base",
   "language": "python",
   "name": "python3"
  },
  "language_info": {
   "codemirror_mode": {
    "name": "ipython",
    "version": 3
   },
   "file_extension": ".py",
   "mimetype": "text/x-python",
   "name": "python",
   "nbconvert_exporter": "python",
   "pygments_lexer": "ipython3",
   "version": "3.12.4"
  }
 },
 "nbformat": 4,
 "nbformat_minor": 5
}
