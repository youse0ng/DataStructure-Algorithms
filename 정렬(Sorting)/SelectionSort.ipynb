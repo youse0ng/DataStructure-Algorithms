{
 "cells": [
  {
   "cell_type": "code",
   "execution_count": null,
   "id": "795a95d6",
   "metadata": {},
   "outputs": [],
   "source": [
    "from typing import MutableSequence\n",
    "\n",
    "def selection_sort(a: MutableSequence) -> None:\n",
    "    \"\"\"단순 선택 정렬\"\"\"\n",
    "    n = len(a)\n",
    "    for i in range(n-1):\n",
    "        min = i # 정렬할 부분에서 가장 작은 원소의 인덱스\n",
    "        for j in range(i+1,n): # 정렬되지 않은 부분에서 가장 작은 원소를 찾는 작업업\n",
    "            if a[j] < a[min]:\n",
    "                min = j \n",
    "        a[i],a[min]=a[min],a[i] # 정렬할 부분에서 맨 앞의 원소와 가장 작은 원소를 교환"
   ]
  }
 ],
 "metadata": {
  "language_info": {
   "name": "python"
  }
 },
 "nbformat": 4,
 "nbformat_minor": 5
}
