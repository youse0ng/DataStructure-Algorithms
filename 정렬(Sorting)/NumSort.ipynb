{
 "cells": [
  {
   "cell_type": "markdown",
   "id": "5edc1a2f",
   "metadata": {},
   "source": [
    "# 힙 정렬로 수 정렬하기"
   ]
  },
  {
   "cell_type": "code",
   "execution_count": null,
   "id": "36c17654",
   "metadata": {},
   "outputs": [
    {
     "name": "stdout",
     "output_type": "stream",
     "text": [
      "[6, 4, 3, 7, 1, 9, 8]\n",
      "[9, 7, 8, 4, 1, 3, 6]\n",
      "[1, 3, 4, 6, 7, 8, 9]\n"
     ]
    }
   ],
   "source": [
    "from typing import MutableSequence\n",
    "def down_heap(a:MutableSequence, left: int, right: int) -> None:\n",
    "    \"\"\"a[left] ~ a[right]를 힙으로 만들기\"\"\"\n",
    "    temp = a[left] # 루트\n",
    "\n",
    "    parent = left # parent \n",
    "    while parent < (right + 1) // 2:\n",
    "        cl = parent * 2 + 1 # 왼쪽 노드 \n",
    "        cr = cl+1 # 오른쪽 노드\n",
    "        child = cr if cr <= right and a[cl] < a[cr] else cl # 왼쪽 노드와 오른쪽 노드 비교\n",
    "        if temp >= a[child]:\n",
    "            break\n",
    "        a[parent] = a[child] # 루트노드와 자식노드에서 더 큰 값으로 교체 (Max Heap)\n",
    "        parent = child # parent = child (cr, cl 중 더 큰 값을 가진 커서로 대입)\n",
    "    a[parent] = temp\n",
    "\n",
    "a = [6,4,3,7,1,9,8]\n",
    "n = len(a)\n",
    "\n",
    "print(a)\n",
    "\n",
    "for i in range((n-1) // 2 ,-1,-1):\n",
    "    down_heap(a,i,n-1)\n",
    "\n",
    "print(a)\n",
    "\n",
    "for i in range(n-1,0,-1):\n",
    "    a[0],a[i] = a[i],a[0] # 최대값인 a[0]과 마지막 원소를 교환\n",
    "    down_heap(a,0,i-1) # a[0] ~ a[i-1]을 힙으로 만들기\n",
    "\n",
    "print(a)"
   ]
  },
  {
   "cell_type": "markdown",
   "id": "c3cd8898",
   "metadata": {},
   "source": [
    "# 힙 정렬의 특징\n",
    "- List로 Heap 구현\n",
    "- MaxHeap의 성질을 하에 힙 정렬 진행\n",
    "- 정렬이 완성되면, a[0]과 마지막 원소를 변경하면서 다시 또 힙을 정렬 \n",
    "- 위 과정을 반복\n"
   ]
  },
  {
   "cell_type": "markdown",
   "id": "2839e0a9",
   "metadata": {},
   "source": [
    "6 4 3 7 1 9 8"
   ]
  },
  {
   "cell_type": "code",
   "execution_count": null,
   "id": "1032812d",
   "metadata": {},
   "outputs": [
    {
     "name": "stdout",
     "output_type": "stream",
     "text": [
      "[6, 4, 3, 7, 1, 9, 8]\n",
      "[9, 7, 8, 4, 1, 3, 6]\n",
      "[1, 3, 4, 6, 7, 8, 9]\n"
     ]
    }
   ],
   "source": [
    "N = int(input())\n",
    "not_sorted = list()\n",
    "for _ in range(N):\n",
    "    not_sorted.append(int(input()))\n",
    "\n",
    "def heapify_down(a,left,right):\n",
    "    temp = a[left] # 루트 노드\n",
    "    parent = left\n",
    "\n",
    "    while parent < (right + 1) // 2:\n",
    "        cl = parent * 2 + 1\n",
    "        cr = cl + 1\n",
    "        child = cr if cr <= right and a[cr] > a[cl] else cl # 자식 노드 중에 큰 노드 선택\n",
    "        if temp > a[child]: # 부모 노드가 더 크면 break\n",
    "            break\n",
    "        a[parent] = a[child] # 자식과 부모 노드 교환\n",
    "        parent = child \n",
    "    a[parent] = temp # whild문을 지나면, a[child] = temp\n",
    "\n",
    "n = len(not_sorted)\n",
    "print(not_sorted)\n",
    "\n",
    "for i in range((n-1)//2,-1,-1):\n",
    "    heapify_down(not_sorted,i,n-1) # maxHeap을 마치고\n",
    "\n",
    "print(not_sorted)\n",
    "\n",
    "for i in range(n-1,0,-1): # Heap 정렬\n",
    "    not_sorted[i],not_sorted[0] = not_sorted[0],not_sorted[i] # a[0] 과 마지막 원소 교체체\n",
    "    heapify_down(not_sorted,0,i-1) # 다시 힙정렬\n",
    "\n",
    "print(not_sorted)"
   ]
  }
 ],
 "metadata": {
  "kernelspec": {
   "display_name": "base",
   "language": "python",
   "name": "python3"
  },
  "language_info": {
   "codemirror_mode": {
    "name": "ipython",
    "version": 3
   },
   "file_extension": ".py",
   "mimetype": "text/x-python",
   "name": "python",
   "nbconvert_exporter": "python",
   "pygments_lexer": "ipython3",
   "version": "3.11.7"
  }
 },
 "nbformat": 4,
 "nbformat_minor": 5
}
