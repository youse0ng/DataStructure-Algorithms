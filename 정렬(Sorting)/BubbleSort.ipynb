{
 "cells": [
  {
   "cell_type": "code",
   "execution_count": null,
   "id": "bfa2c43b",
   "metadata": {},
   "outputs": [],
   "source": [
    "from typing import MutableSequence\n",
    "def Bubble_Sort(a: MutableSequence) -> None:\n",
    "    \"\"\"버블 정렬\"\"\"\n",
    "    n = len(a) # 정렬하고자 하는 Sequence의 크기\n",
    "    for i in range(n-1):\n",
    "        for j in range(n-1, i ,-1):\n",
    "            if a[j-1] > a[j]:\n",
    "                a[j-1],a[j] = a[j],a[j-1]\n",
    "\n",
    "if __name__ == '__main__':\n",
    "    print('버블 정렬을 수행합니다.')\n",
    "    num = int(input('원소 수를 입력하세요.: '))\n",
    "    x = [None] * num # 원소 수가 num인 배열을 생성\n",
    "\n",
    "    for i in range(num):\n",
    "        x[i] = int(input(f'x[{i}]: '))\n",
    "\n",
    "    Bubble_Sort(x) # 배열 x를 버블 정렬\n",
    "\n",
    "    print(\"오름차순으로 정렬했습니다.\")\n",
    "    for i in range(num):\n",
    "        print(f'x[{i}] = {x[i]}')\n"
   ]
  }
 ],
 "metadata": {
  "language_info": {
   "name": "python"
  }
 },
 "nbformat": 4,
 "nbformat_minor": 5
}
