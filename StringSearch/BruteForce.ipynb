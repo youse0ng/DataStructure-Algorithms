{
 "cells": [
  {
   "cell_type": "markdown",
   "id": "8a91b61a",
   "metadata": {},
   "source": [
    "# 브루트 포스 \n",
    "- 선형 검색을 단순하게 확장해서 만든 알고리즘"
   ]
  },
  {
   "cell_type": "code",
   "execution_count": null,
   "id": "5beef63e",
   "metadata": {},
   "outputs": [],
   "source": [
    "def bf_match(txt:str,pattern:str) -> int:\n",
    "    \"\"\"브루트 포스로 문자열 검색\"\"\"\n",
    "    pt = 0 # txt를 따라가는 커서\n",
    "    pp = 0 # pattern을 따라가는 커서\n",
    "\n",
    "    while pt != len(txt) and pp != len(pattern):\n",
    "        if txt[pt] == pattern[pp]:\n",
    "            pp += 1\n",
    "            pt += 1\n",
    "        else:\n",
    "            pt = pt - pp + 1\n",
    "            pp = 0\n",
    "    return pt - pp if pp == len(pattern) else -1\n",
    "            \n"
   ]
  }
 ],
 "metadata": {
  "kernelspec": {
   "display_name": "base",
   "language": "python",
   "name": "python3"
  },
  "language_info": {
   "name": "python",
   "version": "3.11.7"
  }
 },
 "nbformat": 4,
 "nbformat_minor": 5
}
