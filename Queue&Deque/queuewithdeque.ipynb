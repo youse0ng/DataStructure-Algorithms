{
 "cells": [
  {
   "cell_type": "code",
   "execution_count": 8,
   "id": "4c4b8671",
   "metadata": {},
   "outputs": [
    {
     "name": "stdout",
     "output_type": "stream",
     "text": [
      "1\n",
      "2\n",
      "2\n",
      "0\n",
      "1\n",
      "2\n",
      "-1\n",
      "0\n",
      "1\n",
      "-1\n",
      "0\n",
      "3\n"
     ]
    }
   ],
   "source": [
    "from collections import deque\n",
    "N = int(input())\n",
    "queue = deque()\n",
    "for _ in range(N):\n",
    "    order = list(input().split())\n",
    "    if order[0] == 'push':\n",
    "        queue.append(int(order[1]))\n",
    "    elif order[0] == 'front':\n",
    "        if queue:\n",
    "            print(queue[0])\n",
    "        else:\n",
    "            print(-1)\n",
    "    elif order[0] == 'back':\n",
    "        if queue:\n",
    "            print(queue[-1])\n",
    "        else:\n",
    "            print(-1)\n",
    "    elif order[0] == 'size':\n",
    "        print(len(queue))\n",
    "    elif order[0] == 'empty':\n",
    "        if queue:\n",
    "            print(0)\n",
    "        else:\n",
    "            print(1)\n",
    "    elif order[0] == 'pop':\n",
    "        if queue:\n",
    "            print(queue.popleft())\n",
    "        else:\n",
    "            print(-1)\n",
    "\n"
   ]
  },
  {
   "cell_type": "code",
   "execution_count": null,
   "id": "689c5619",
   "metadata": {},
   "outputs": [],
   "source": [
    "import sys\n",
    "sys.stdin.readline()"
   ]
  },
  {
   "cell_type": "code",
   "execution_count": null,
   "id": "7c9be9cb",
   "metadata": {},
   "outputs": [
    {
     "name": "stdout",
     "output_type": "stream",
     "text": [
      "플레이 횟수: 4\n"
     ]
    }
   ],
   "source": [
    "# 최대 몇번 플레이할 수 있는가?\n",
    "# for문을 돌면서 already_played에 있는 건 플레이에 참여 X\n",
    "# Y:2,F:3,O:4\n",
    "N,game = input().split()\n",
    "plays = 0\n",
    "already_played = set()\n",
    "on_game_player = []\n",
    "for _ in range(int(N)):\n",
    "    player = input()\n",
    "    if player in already_played:\n",
    "        continue\n",
    "    else:\n",
    "        on_game_player.append(player)\n",
    "        already_played.add(player)\n",
    "    if game == 'Y':\n",
    "        if len(on_game_player) == 1:\n",
    "            on_game_player.clear()\n",
    "            plays += 1\n",
    "    elif game == 'F':\n",
    "        if len(on_game_player) == 2:\n",
    "            on_game_player.clear()\n",
    "            plays += 1\n",
    "    elif game == 'O':\n",
    "        if len(on_game_player) == 3:\n",
    "            on_game_player.clear()\n",
    "            plays += 1\n",
    "    # print(f'대기방: {on_game_player}')\n",
    "    # print(f'이미 게임을 한 자: {already_played}')\n",
    "print(plays)"
   ]
  },
  {
   "cell_type": "code",
   "execution_count": null,
   "id": "f7fc4341",
   "metadata": {},
   "outputs": [],
   "source": []
  }
 ],
 "metadata": {
  "kernelspec": {
   "display_name": "base",
   "language": "python",
   "name": "python3"
  },
  "language_info": {
   "codemirror_mode": {
    "name": "ipython",
    "version": 3
   },
   "file_extension": ".py",
   "mimetype": "text/x-python",
   "name": "python",
   "nbconvert_exporter": "python",
   "pygments_lexer": "ipython3",
   "version": "3.11.7"
  }
 },
 "nbformat": 4,
 "nbformat_minor": 5
}
