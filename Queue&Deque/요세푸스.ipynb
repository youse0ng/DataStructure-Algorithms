{
 "cells": [
  {
   "cell_type": "markdown",
   "id": "487cdc3c",
   "metadata": {},
   "source": [
    "# 큐로 요세푸스 풀기"
   ]
  },
  {
   "cell_type": "code",
   "execution_count": 8,
   "id": "b30455e2",
   "metadata": {},
   "outputs": [
    {
     "name": "stdout",
     "output_type": "stream",
     "text": [
      "<3, 6, 2, 7, 5, 1, 4>\n"
     ]
    }
   ],
   "source": [
    "from collections import deque\n",
    "N, k = map(int,input().split())\n",
    "queue = deque([i for i in range(1,N+1)])\n",
    "result = []\n",
    "while len(queue) > 0:\n",
    "    for _ in range(k-1):\n",
    "        popout = queue.popleft()\n",
    "        queue.append(popout)\n",
    "    result.append(str(queue.popleft()))\n",
    "print(f\"<{', '.join(result)}>\")\n"
   ]
  }
 ],
 "metadata": {
  "kernelspec": {
   "display_name": "base",
   "language": "python",
   "name": "python3"
  },
  "language_info": {
   "codemirror_mode": {
    "name": "ipython",
    "version": 3
   },
   "file_extension": ".py",
   "mimetype": "text/x-python",
   "name": "python",
   "nbconvert_exporter": "python",
   "pygments_lexer": "ipython3",
   "version": "3.11.7"
  }
 },
 "nbformat": 4,
 "nbformat_minor": 5
}
