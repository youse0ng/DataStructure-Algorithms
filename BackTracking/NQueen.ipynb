{
 "cells": [
  {
   "cell_type": "markdown",
   "id": "18ea07aa",
   "metadata": {},
   "source": [
    "# NQueens 문제"
   ]
  },
  {
   "cell_type": "code",
   "execution_count": null,
   "id": "5a48619d",
   "metadata": {},
   "outputs": [],
   "source": [
    "N = int(input()) # 입력 N X N 체스판\n",
    "def NQueens(k,N): # k는 행\n",
    "    result =[]\n",
    "    x = []\n",
    "    if k >= N: # 모든 행을 탐색했다.\n",
    "        return result\n",
    "    for column in range(N): # 0 ~ N-1 (칼럼)\n",
    "        \n"
   ]
  }
 ],
 "metadata": {
  "kernelspec": {
   "display_name": "base",
   "language": "python",
   "name": "python3"
  },
  "language_info": {
   "codemirror_mode": {
    "name": "ipython",
    "version": 3
   },
   "file_extension": ".py",
   "mimetype": "text/x-python",
   "name": "python",
   "nbconvert_exporter": "python",
   "pygments_lexer": "ipython3",
   "version": "3.11.7"
  }
 },
 "nbformat": 4,
 "nbformat_minor": 5
}
