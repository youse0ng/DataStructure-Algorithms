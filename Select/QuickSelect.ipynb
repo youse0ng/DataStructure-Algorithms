{
 "cells": [
  {
   "cell_type": "code",
   "execution_count": 18,
   "id": "a58034bd",
   "metadata": {},
   "outputs": [
    {
     "name": "stdout",
     "output_type": "stream",
     "text": [
      "9\n"
     ]
    }
   ],
   "source": [
    "def QuickSelect(List, k):\n",
    "    # 1. p는 Pivot값 출력\n",
    "    p = List[0]\n",
    "    # 2. A,B,M => 리스트로 만들어서 P보다 크면 A, 크면 B, p와 같으면 M\n",
    "    A,B,M = [],[],[]\n",
    "    for element in List:\n",
    "        if element > p:\n",
    "            B.append(element)\n",
    "        elif element < p:\n",
    "            A.append(element)\n",
    "        else:\n",
    "            M.append(element)\n",
    "    # 3. if |A| > k, k번쨰 원소는 |A|에 존재한다.\n",
    "    # 3. if |A| + |M| < k, k는 B에 존재한다.\n",
    "    if len(A) > k: # K번째 원소는 |A|에 존재\n",
    "        return QuickSelect(A,k)\n",
    "    elif len(A) + len(M) < k: # k는 B에 존재\n",
    "        return QuickSelect(B, k-len(A)-len(M))\n",
    "    else:\n",
    "        return p\n",
    "\n",
    "print(QuickSelect([6,5,1,7,9,3,8,10,2],8))"
   ]
  }
 ],
 "metadata": {
  "kernelspec": {
   "display_name": "base",
   "language": "python",
   "name": "python3"
  },
  "language_info": {
   "codemirror_mode": {
    "name": "ipython",
    "version": 3
   },
   "file_extension": ".py",
   "mimetype": "text/x-python",
   "name": "python",
   "nbconvert_exporter": "python",
   "pygments_lexer": "ipython3",
   "version": "3.11.7"
  }
 },
 "nbformat": 4,
 "nbformat_minor": 5
}
