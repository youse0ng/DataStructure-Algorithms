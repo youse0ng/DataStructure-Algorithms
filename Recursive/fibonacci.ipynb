{
 "cells": [
  {
   "cell_type": "code",
   "execution_count": null,
   "id": "b68bd97f",
   "metadata": {},
   "outputs": [
    {
     "name": "stdout",
     "output_type": "stream",
     "text": [
      "3\n"
     ]
    }
   ],
   "source": [
    "def fibonacci(int):\n",
    "    \"\"\"10번째 피보나치 수열을 구하라.\"\"\"\n",
    "    n = int\n",
    "    if n <= 2 and n != 0:\n",
    "        return 1\n",
    "    elif n == 0:\n",
    "        return 0\n",
    "    return fibonacci(n-1) + fibonacci(n-2)\n",
    "n = int(input())\n",
    "print(fibonacci(n))"
   ]
  }
 ],
 "metadata": {
  "kernelspec": {
   "display_name": "base",
   "language": "python",
   "name": "python3"
  },
  "language_info": {
   "codemirror_mode": {
    "name": "ipython",
    "version": 3
   },
   "file_extension": ".py",
   "mimetype": "text/x-python",
   "name": "python",
   "nbconvert_exporter": "python",
   "pygments_lexer": "ipython3",
   "version": "3.12.4"
  }
 },
 "nbformat": 4,
 "nbformat_minor": 5
}
