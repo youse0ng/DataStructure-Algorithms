{
 "cells": [
  {
   "cell_type": "code",
   "execution_count": 25,
   "id": "e11aae3d",
   "metadata": {},
   "outputs": [
    {
     "name": "stdout",
     "output_type": "stream",
     "text": [
      "1 2\n",
      "1 3\n",
      "1 3\n",
      "0 2\n",
      "0 1\n"
     ]
    }
   ],
   "source": [
    "def ispalindrome(string,l,r,count=1):\n",
    "    if string[l] != string[r]:\n",
    "        return 0, count\n",
    "    elif string[l] == string[r] and (l < r):\n",
    "        return ispalindrome(string,l+1,r-1,count+1)\n",
    "    elif l >= r:\n",
    "        return 1, count\n",
    "\n",
    "N = int(input())\n",
    "for _ in range(N):\n",
    "    string = input()\n",
    "    l,r = 0, len(string)-1\n",
    "    result, count = ispalindrome(string,l,r)\n",
    "    print(result,count)"
   ]
  },
  {
   "cell_type": "code",
   "execution_count": null,
   "id": "94ca2ae9",
   "metadata": {},
   "outputs": [],
   "source": []
  }
 ],
 "metadata": {
  "kernelspec": {
   "display_name": "base",
   "language": "python",
   "name": "python3"
  },
  "language_info": {
   "codemirror_mode": {
    "name": "ipython",
    "version": 3
   },
   "file_extension": ".py",
   "mimetype": "text/x-python",
   "name": "python",
   "nbconvert_exporter": "python",
   "pygments_lexer": "ipython3",
   "version": "3.12.4"
  }
 },
 "nbformat": 4,
 "nbformat_minor": 5
}
