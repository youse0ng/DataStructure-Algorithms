{
 "cells": [
  {
   "cell_type": "markdown",
   "id": "890b6dc6",
   "metadata": {},
   "source": [
    "# 5!\n",
    "=> 1 * 2 * 3 * 4 * 5\n",
    "\n",
    "=> 2! * 3 * 4 * 5\n",
    "\n",
    "=> 3! * 4 * 5\n",
    "\n",
    "=> 4! * 5\n",
    "\n",
    "등으로 표현될 수 있다."
   ]
  },
  {
   "cell_type": "code",
   "execution_count": null,
   "id": "08a580f4",
   "metadata": {},
   "outputs": [
    {
     "data": {
      "text/plain": [
       "3628800"
      ]
     },
     "execution_count": 2,
     "metadata": {},
     "output_type": "execute_result"
    }
   ],
   "source": [
    "def factorial(N):\n",
    "    if N == 1:\n",
    "        return 1\n",
    "    else:\n",
    "        return N * factorial(N-1)\n"
   ]
  },
  {
   "cell_type": "markdown",
   "id": "8dca5a75",
   "metadata": {},
   "source": [
    "내 코드는 N이 0이 들어오면 if 문에 걸리지 않고 runtime error가 나게 된다."
   ]
  }
 ],
 "metadata": {
  "kernelspec": {
   "display_name": "base",
   "language": "python",
   "name": "python3"
  },
  "language_info": {
   "codemirror_mode": {
    "name": "ipython",
    "version": 3
   },
   "file_extension": ".py",
   "mimetype": "text/x-python",
   "name": "python",
   "nbconvert_exporter": "python",
   "pygments_lexer": "ipython3",
   "version": "3.11.7"
  }
 },
 "nbformat": 4,
 "nbformat_minor": 5
}
