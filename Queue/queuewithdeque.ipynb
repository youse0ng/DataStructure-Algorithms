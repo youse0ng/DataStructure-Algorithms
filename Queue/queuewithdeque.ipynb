{
 "cells": [
  {
   "cell_type": "code",
   "execution_count": null,
   "id": "4c4b8671",
   "metadata": {},
   "outputs": [],
   "source": [
    "from collections import deque\n",
    "N = int(input)\n",
    "for _ in range(N):\n",
    "    order = list(input().split())\n",
    "    print(order)    "
   ]
  },
  {
   "cell_type": "code",
   "execution_count": null,
   "id": "154626ef",
   "metadata": {},
   "outputs": [],
   "source": []
  }
 ],
 "metadata": {
  "kernelspec": {
   "display_name": "base",
   "language": "python",
   "name": "python3"
  },
  "language_info": {
   "name": "python",
   "version": "3.11.7"
  }
 },
 "nbformat": 4,
 "nbformat_minor": 5
}
