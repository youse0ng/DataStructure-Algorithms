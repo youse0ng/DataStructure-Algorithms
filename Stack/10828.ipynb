{
 "cells": [
  {
   "cell_type": "markdown",
   "id": "baf66530",
   "metadata": {},
   "source": [
    "정수를 저장하는 스택\n",
    "\n",
    "- push X: 정수 X를 스택에 넣는 연산이다.\n",
    "- pop: 스택에서 가장 위에 있는 정수를 빼고, 그 수를 출력한다. 만약 스택에 들어있는 정수가 없는 경우에는 -1을 출력한다.\n",
    "- size: 스택에 들어있는 정수의 개수를 출력한다.\n",
    "- empty: 스택이 비어있으면 1, 아니면 0을 출력한다.\n",
    "- top: 스택의 가장 위에 있는 정수를 출력한다. 만약 스택에 들어있는 정수가 없는 경우에는 -1을 출력한다."
   ]
  },
  {
   "cell_type": "code",
   "execution_count": null,
   "id": "5441e6b6",
   "metadata": {},
   "outputs": [
    {
     "name": "stdout",
     "output_type": "stream",
     "text": [
      "2\n",
      "2\n",
      "0\n",
      "2\n",
      "1\n",
      "-1\n",
      "0\n",
      "1\n",
      "-1\n",
      "0\n",
      "3\n"
     ]
    }
   ],
   "source": [
    "N = int(input())\n",
    "result = []\n",
    "for _ in range(N):\n",
    "    command = input().split()\n",
    "    if command[0] == 'push':\n",
    "        result.append(command[1])\n",
    "    elif command[0] == 'top':\n",
    "        if len(result) <= 0:\n",
    "            print(-1)\n",
    "        else:\n",
    "            print(result[-1])\n",
    "    elif command[0] == 'size':\n",
    "        print(len(result))\n",
    "    elif command[0] == 'empty':\n",
    "        if len(result) <=0:\n",
    "            print(1)\n",
    "        else:\n",
    "            print(0)\n",
    "    elif command[0] == 'pop':\n",
    "        if len(result) <= 0:\n",
    "            print(-1)\n",
    "        else:\n",
    "            print(result.pop())"
   ]
  }
 ],
 "metadata": {
  "kernelspec": {
   "display_name": "base",
   "language": "python",
   "name": "python3"
  },
  "language_info": {
   "codemirror_mode": {
    "name": "ipython",
    "version": 3
   },
   "file_extension": ".py",
   "mimetype": "text/x-python",
   "name": "python",
   "nbconvert_exporter": "python",
   "pygments_lexer": "ipython3",
   "version": "3.12.4"
  }
 },
 "nbformat": 4,
 "nbformat_minor": 5
}
