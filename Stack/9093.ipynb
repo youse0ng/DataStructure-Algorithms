{
 "cells": [
  {
   "cell_type": "markdown",
   "id": "65199b77",
   "metadata": {},
   "source": [
    "# 단어 뒤집기\n",
    "\n",
    "문장이 주어졌을 때, 단어를 모두 뒤집어서 출력하는 프로그램을 작성하시오. 단, 단어의 순서는 바꿀 수 없다. 단어는 영어 알파벳으로만 이루어져 있다.\n",
    "\n",
    "입력:\n",
    "- I am happy today\n",
    "- We want to win the first prize\n",
    "\n",
    "출력:\n",
    "- I ma yppah yadot\n",
    "- eW tnaw ot niw eht tsrif ezirp"
   ]
  },
  {
   "cell_type": "markdown",
   "id": "86f2eb6c",
   "metadata": {},
   "source": [
    "# 문자열 풀이"
   ]
  },
  {
   "cell_type": "code",
   "execution_count": 5,
   "id": "9341a7a7",
   "metadata": {},
   "outputs": [
    {
     "name": "stdout",
     "output_type": "stream",
     "text": [
      "I ma yppah yadot \n",
      "eW tnaw ot niw eht tsrif ezirp \n"
     ]
    }
   ],
   "source": [
    "N = int(input())\n",
    "\n",
    "for _ in range(N):\n",
    "    x = input().split()\n",
    "    for strings in x:\n",
    "        print(strings[::-1],end=' ')\n",
    "    print()\n"
   ]
  },
  {
   "cell_type": "markdown",
   "id": "5ac84e6d",
   "metadata": {},
   "source": [
    "# 스택 풀이 (O(n^3))"
   ]
  },
  {
   "cell_type": "code",
   "execution_count": null,
   "id": "a4de79ea",
   "metadata": {},
   "outputs": [
    {
     "name": "stdout",
     "output_type": "stream",
     "text": [
      "I ma yppah \n",
      "ew evah eeffoc \n"
     ]
    }
   ],
   "source": [
    "N = int(input())\n",
    "for _ in range(N):\n",
    "    x = input().split()\n",
    "    for strings in x:\n",
    "        strings = list(strings)\n",
    "        for _ in range(len(strings)):\n",
    "            print(strings.pop(),end='')\n",
    "        print(end=' ')\n",
    "    print()\n",
    "        "
   ]
  }
 ],
 "metadata": {
  "kernelspec": {
   "display_name": "base",
   "language": "python",
   "name": "python3"
  },
  "language_info": {
   "codemirror_mode": {
    "name": "ipython",
    "version": 3
   },
   "file_extension": ".py",
   "mimetype": "text/x-python",
   "name": "python",
   "nbconvert_exporter": "python",
   "pygments_lexer": "ipython3",
   "version": "3.11.7"
  }
 },
 "nbformat": 4,
 "nbformat_minor": 5
}
