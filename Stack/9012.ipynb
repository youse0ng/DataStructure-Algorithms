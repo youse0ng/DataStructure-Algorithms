{
 "cells": [
  {
   "cell_type": "markdown",
   "id": "fe6bdf87",
   "metadata": {},
   "source": [
    "# 문제\n",
    "\n",
    "VPS : \"()\"를 만족하는 문자열을 말한다.\n",
    "\n",
    "VPS를 'x'라고 했을 때, \"(x)\" 도 하나의 VPS로 치부한다.\n",
    "\n",
    "\"(\"와 \")\" 위치 정보도 중요하고, 출현 개수가 서로 같아야 한다.\n",
    "\n",
    "문제풀이:\n",
    "( 다음에 )가 오면 바로 앞에꺼 pop? 해서 최종적으로 남는게 있다면, NO 남는게없으면 YES"
   ]
  },
  {
   "cell_type": "code",
   "execution_count": 28,
   "id": "4b8b479c",
   "metadata": {},
   "outputs": [
    {
     "name": "stdout",
     "output_type": "stream",
     "text": [
      "NO\n",
      "NO\n",
      "YES\n",
      "NO\n",
      "YES\n",
      "NO\n"
     ]
    }
   ],
   "source": [
    "N = int(input())\n",
    "for _ in range(N):\n",
    "    result = []\n",
    "    string = input()\n",
    "    if len(string)%2 == 1: # 문자 길이가 홀수이면 NO \"((())\"와 같이 이루어져 홀수면 무조건 NO이다.\n",
    "        print('NO')\n",
    "    else:\n",
    "        for ps in string:\n",
    "            if len(result) == 0 or ps == \"(\": # [] 비어있고, ps=\"(\" 이면 추가\n",
    "                result.append(ps)\n",
    "            elif ps == \")\" and result[-1] == \"(\":\n",
    "                result.pop()            \n",
    "        if len(result) == 0:\n",
    "            print(\"YES\")\n",
    "        else:\n",
    "            print('NO')"
   ]
  },
  {
   "cell_type": "code",
   "execution_count": null,
   "id": "1a1d2466",
   "metadata": {},
   "outputs": [],
   "source": []
  }
 ],
 "metadata": {
  "kernelspec": {
   "display_name": "base",
   "language": "python",
   "name": "python3"
  },
  "language_info": {
   "codemirror_mode": {
    "name": "ipython",
    "version": 3
   },
   "file_extension": ".py",
   "mimetype": "text/x-python",
   "name": "python",
   "nbconvert_exporter": "python",
   "pygments_lexer": "ipython3",
   "version": "3.11.7"
  }
 },
 "nbformat": 4,
 "nbformat_minor": 5
}
