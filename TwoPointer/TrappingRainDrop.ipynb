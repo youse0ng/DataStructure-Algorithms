{
 "cells": [
  {
   "cell_type": "code",
   "execution_count": null,
   "id": "fa4aa9c6",
   "metadata": {},
   "outputs": [
    {
     "name": "stdout",
     "output_type": "stream",
     "text": [
      "height[left]: 0\n",
      "height[right]: 1\n",
      "left_max:0\n",
      "right_max: 1\n",
      "volume: 0\n",
      "\n",
      "height[left]: 1\n",
      "height[right]: 1\n",
      "left_max:1\n",
      "right_max: 1\n",
      "volume: 0\n",
      "\n",
      "height[left]: 0\n",
      "height[right]: 1\n",
      "left_max:1\n",
      "right_max: 1\n",
      "volume: 1\n",
      "\n",
      "height[left]: 2\n",
      "height[right]: 1\n",
      "left_max:2\n",
      "right_max: 1\n",
      "volume: 1\n",
      "\n",
      "height[left]: 2\n",
      "height[right]: 2\n",
      "left_max:2\n",
      "right_max: 2\n",
      "volume: 1\n",
      "\n",
      "height[left]: 1\n",
      "height[right]: 2\n",
      "left_max:2\n",
      "right_max: 2\n",
      "volume: 2\n",
      "\n",
      "height[left]: 0\n",
      "height[right]: 2\n",
      "left_max:2\n",
      "right_max: 2\n",
      "volume: 4\n",
      "\n",
      "height[left]: 1\n",
      "height[right]: 2\n",
      "left_max:2\n",
      "right_max: 2\n",
      "volume: 5\n",
      "\n",
      "height[left]: 3\n",
      "height[right]: 2\n",
      "left_max:3\n",
      "right_max: 2\n",
      "volume: 5\n",
      "\n",
      "height[left]: 3\n",
      "height[right]: 1\n",
      "left_max:3\n",
      "right_max: 2\n",
      "volume: 6\n",
      "\n",
      "height[left]: 3\n",
      "height[right]: 2\n",
      "left_max:3\n",
      "right_max: 2\n",
      "volume: 6\n",
      "\n"
     ]
    },
    {
     "data": {
      "text/plain": [
       "6"
      ]
     },
     "execution_count": 9,
     "metadata": {},
     "output_type": "execute_result"
    }
   ],
   "source": [
    "def trap(height:list)-> int:\n",
    "    if not height:\n",
    "        return 0\n",
    "\n",
    "    volume = 0\n",
    "    left,right = 0, len(height)-1 # 맨 왼쪽 인덱스, 맨 오른쪽 인덱스\n",
    "    left_max,right_max = height[left],height[right] # 왼쪽 요소, 오른쪽 요소\n",
    "\n",
    "    while left < right: # \n",
    "        left_max, right_max = max(height[left],left_max), max(height[right],right_max) \n",
    "        # left_max는 왼쪽에서 가장 큰 기둥을 계속해서 설정,\n",
    "        # right_max는 오른쪽에서 가장 큰 기둥을 계속해서 갱신,\n",
    "        # 왼쪽 가장 큰 기둥과 현재 보고 있는 기둥의 높이 차이 만큼 고인 물이 생기니 그 차이 만큼 더해줌\n",
    "        # 오른쪽도 동일\n",
    "        print(f'height[left]: {height[left]}')\n",
    "        print(f'height[right]: {height[right]}')\n",
    "        print(f'left_max:{left_max}')\n",
    "        print(f'right_max: {right_max}')\n",
    "        # 더 높은 쪽을 향해 투 포인터 이동\n",
    "        if left_max <= right_max:\n",
    "            volume += left_max - height[left]\n",
    "            left += 1\n",
    "        else:\n",
    "            volume += right_max -height[right]\n",
    "            right -=1\n",
    "        print(f'volume: {volume}')\n",
    "        print()\n",
    "    return volume\n",
    "\n",
    "print(trap([0,1,0,2,1,0,1,3,2,1,2,1]))"
   ]
  },
  {
   "cell_type": "code",
   "execution_count": 12,
   "id": "587d2d6e",
   "metadata": {},
   "outputs": [
    {
     "name": "stdout",
     "output_type": "stream",
     "text": [
      "5\n"
     ]
    }
   ],
   "source": [
    "def trap(height):\n",
    "    volume = 0\n",
    "    left,right = 0, len(height)-1\n",
    "    left_max,right_max = height[left], height[right]\n",
    "    \n",
    "    while left < right:\n",
    "        left_max, right_max = max(height[left],left_max), max(height[right],right_max)\n",
    "        \n",
    "        if left_max <= right_max:\n",
    "            volume += left_max - height[left]\n",
    "            left += 1\n",
    "        else: \n",
    "            volume += right_max - height[right]\n",
    "            right -= 1\n",
    "    return volume\n",
    "\n",
    "h,l = map(int,input().split())\n",
    "height = list(map(int,input().split()))\n",
    "print(trap(height))"
   ]
  },
  {
   "cell_type": "code",
   "execution_count": null,
   "id": "7a51b5ca",
   "metadata": {},
   "outputs": [],
   "source": []
  }
 ],
 "metadata": {
  "kernelspec": {
   "display_name": "base",
   "language": "python",
   "name": "python3"
  },
  "language_info": {
   "codemirror_mode": {
    "name": "ipython",
    "version": 3
   },
   "file_extension": ".py",
   "mimetype": "text/x-python",
   "name": "python",
   "nbconvert_exporter": "python",
   "pygments_lexer": "ipython3",
   "version": "3.11.7"
  }
 },
 "nbformat": 4,
 "nbformat_minor": 5
}
