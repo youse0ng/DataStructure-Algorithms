{
  "nbformat": 4,
  "nbformat_minor": 0,
  "metadata": {
    "colab": {
      "private_outputs": true,
      "provenance": [],
      "toc_visible": true,
      "authorship_tag": "ABX9TyNCuXV8lYyo6Y8FMTa2RuoA",
      "include_colab_link": true
    },
    "kernelspec": {
      "name": "python3",
      "display_name": "Python 3"
    },
    "language_info": {
      "name": "python"
    }
  },
  "cells": [
    {
      "cell_type": "markdown",
      "metadata": {
        "id": "view-in-github",
        "colab_type": "text"
      },
      "source": [
        "<a href=\"https://colab.research.google.com/github/youse0ng/Algorithms_Study/blob/main/Do_it_algorithms_05(%EC%9E%AC%EA%B7%80%EC%95%8C%EA%B3%A0%EB%A6%AC%EC%A6%98).ipynb\" target=\"_parent\"><img src=\"https://colab.research.google.com/assets/colab-badge.svg\" alt=\"Open In Colab\"/></a>"
      ]
    },
    {
      "cell_type": "markdown",
      "source": [
        "# 팩토리얼\n",
        "\n",
        "재귀를 사용하는 대표적인 예로 양의 정수 곱을 구하는 팩토리얼 문제가 있다.\n",
        "\n",
        "팩토리얼의 재귀적 정의\n",
        "\n",
        "* 0! =1\n",
        "* n>0이면 n!= n *(n-1)!"
      ],
      "metadata": {
        "id": "ULlNHy10wMN5"
      }
    },
    {
      "cell_type": "markdown",
      "source": [
        "예를 들어, 10!(10의 팩토리얼)은 10 * (10-1)!로 구할 수 있고,\n",
        "\n",
        "다시 9!는 9*8!로 구할 수 있다."
      ],
      "metadata": {
        "id": "IVy6LVUAxCLT"
      }
    },
    {
      "cell_type": "code",
      "source": [
        "def factorial(n:int) -> int:\n",
        "  \"\"\"양의 정수 n의 팩토리얼 값을 재귀적으로 구함\"\"\"\n",
        "  if n > 0:\n",
        "    return n * factorial(n-1)\n",
        "  else:\n",
        "    return 1\n",
        "\n",
        "if __name__ == '__main__':\n",
        "  n=int(input('출력할 팩토리얼 값을 구하시오. '))\n",
        "  print(f'{n}의 팩토리얼은 {factorial(n)}입니다.')"
      ],
      "metadata": {
        "id": "QjZsMnyGxuSL"
      },
      "execution_count": null,
      "outputs": []
    },
    {
      "cell_type": "markdown",
      "source": [
        "# 유클리드 호제법 알아보기"
      ],
      "metadata": {
        "id": "l4loUuyildJM"
      }
    },
    {
      "cell_type": "code",
      "source": [
        "# 유클리드 호제법으로 최대 공약수 구하기\n",
        "\n",
        "def gcd(x:int,y:int) ->int:\n",
        "  \"\"\"정수값 x와 y의 최대 공약수를 반환\"\"\"\n",
        "  if y==0:\n",
        "    return x\n",
        "  else:\n",
        "    return gcd(y,x%y)\n",
        "\n",
        "if __name__=='__main__':\n",
        "  print('두 정수값의 최대 공약수를 구합니다.')\n",
        "\n",
        "x=int(input(\"첫 번째 정수값을 입력하시오.: \"))\n",
        "y=int(input('두 번째 정수값을 입력하시오.: '))\n",
        "\n",
        "print(f'두 정수값의 최대 공약수는 {gcd(x,y)}입니다. ')"
      ],
      "metadata": {
        "id": "5mxLRFfPlmQr"
      },
      "execution_count": null,
      "outputs": []
    },
    {
      "cell_type": "markdown",
      "source": [
        "# 05-2 재귀 알고리즘 분석\n",
        "\n",
        "재귀 알고리즘을 분석하는 방법으로 하향식 분석과 상향식 분석을 살피고,\n",
        "\n",
        "재귀 알고리즘을 비재귀적으로 구현하는 방법을 알아보자."
      ],
      "metadata": {
        "id": "c1oRkntkrg51"
      }
    },
    {
      "cell_type": "markdown",
      "source": [
        "## 재귀 알고리즘의 2가지 분석 방법"
      ],
      "metadata": {
        "id": "tSQwSFjErsML"
      }
    },
    {
      "cell_type": "code",
      "source": [
        "def recur(n:int) -> int:\n",
        "  \"\"\"순수한 재귀함수 recur의 구현\"\"\"\n",
        "  if n>0:\n",
        "    recur(n-1)\n",
        "    print(n)\n",
        "    recur(n-2)\n",
        "\n",
        "x=int(input('정수값을 입력하시오.: '))\n",
        "\n",
        "recur(x)"
      ],
      "metadata": {
        "id": "Nxmt2Hk8r0Ya"
      },
      "execution_count": null,
      "outputs": []
    },
    {
      "cell_type": "markdown",
      "source": [
        "# 하노이의 탑"
      ],
      "metadata": {
        "id": "a303y8QU6ubq"
      }
    },
    {
      "cell_type": "code",
      "source": [
        "'''하노이의 탑 구현하기'''\n",
        "\n",
        "def move(no:int,x:int,y:int) -> None:\n",
        "  \"\"\"x기둥에서 y기둥으로 옮김\"\"\"\n",
        "\n",
        "  if no>1:\n",
        "    move(no-1,x,6-x-y) # 중간 기둥으로 옮김\n",
        "\n",
        "  print(f'원반 [{no}]을(를) {x}기둥에서 {y}기둥으로 옮깁니다.')\n",
        "\n",
        "  if no > 1:\n",
        "    move(no-1,6-x-y,y) # 중간 기둥에서 끝기둥으로 옮김\n",
        "\n",
        "print('하노이의 탑을 구현')\n",
        "n = int(input('원반의 개수를 입력하시오.'))\n",
        "\n",
        "move(n,1,3) # 1기둥에 쌓인 원반을 n개를 3기둥으로 옮김"
      ],
      "metadata": {
        "id": "7QBe2AySSwbp"
      },
      "execution_count": null,
      "outputs": []
    },
    {
      "cell_type": "markdown",
      "source": [
        "재귀는 계속해서 보자... 너무어렵다"
      ],
      "metadata": {
        "id": "GQblACU3qr5G"
      }
    }
  ]
}