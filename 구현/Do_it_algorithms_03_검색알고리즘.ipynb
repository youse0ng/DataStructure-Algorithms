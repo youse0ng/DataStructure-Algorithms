{
 "cells": [
  {
   "cell_type": "markdown",
   "metadata": {
    "colab_type": "text",
    "id": "view-in-github"
   },
   "source": [
    "<a href=\"https://colab.research.google.com/github/youse0ng/Algorithms_Study/blob/main/Do_it_algorithms_03_%EA%B2%80%EC%83%89%EC%95%8C%EA%B3%A0%EB%A6%AC%EC%A6%98.ipynb\" target=\"_parent\"><img src=\"https://colab.research.google.com/assets/colab-badge.svg\" alt=\"Open In Colab\"/></a>"
   ]
  },
  {
   "cell_type": "markdown",
   "metadata": {
    "id": "plZstJAKwZVV"
   },
   "source": [
    "# 03-1 검색 알고리즘이란?\n"
   ]
  },
  {
   "cell_type": "markdown",
   "metadata": {
    "id": "Qis-kcmRwobn"
   },
   "source": [
    "검색과 키\n",
    "\n",
    "주소록을 검색한다고 가정해볼때, 검색 조건은 다음과 같을 수 있다.\n",
    "\n",
    "- 국적인 한국\n",
    "- 나이가 21세이상 27세 미만\n",
    "- 이름에 '민' 자가 들어간 사람을 찾습니다.\n",
    "\n",
    "이 검색 조건은 모두 어떠한 항목에 주목하고 있다. 이렇게 주목하는 항목을 Key라고한다.\n",
    "\n",
    "국적으로 검색하는 경우 국적이 Key이고 나이로 검색하는 경우 나이가 key인 것이다.\n",
    "\n",
    "대부분의 키는 데이터의 일부이다.\n",
    "위의 주소록 검색 조건을 수행하려면 다음과 같은 Key를 지정해야한다.\n",
    "\n",
    "- 국적: 키값과 일치하도록 지정\n",
    "- 나이: 키값의 구간을 지정\n",
    "- 문자: 키값에 가깝도록 지정\n"
   ]
  },
  {
   "cell_type": "markdown",
   "metadata": {
    "id": "-9_wcl8C6TUC"
   },
   "source": [
    "검색의 종류는 3가지\n",
    "\n",
    "검색은 어떤 조건을 만족하는 데이터를 찾는 것\n",
    "\n",
    "- 배열 검색\n",
    "- 연결리스트 검색\n",
    "- 이진 검색트리 검색\n",
    "\n",
    "우리가 이번 시간에 배울건 배열검색이다.\n",
    "알고리즘은 다음과 같다.\n",
    "- 선형 검색: 무작위로 늘어놓은 데이터 집합에서 검색수행\n",
    "- 이진 검색: 일정한 규칙으로 늘어놓은 데이터 집합에서 아주 빠른 검색 수행\n",
    "- 해시법: 추가 삭제가 자주 일어나는 데이터 집합에서 아주 빠른 검색 수행\n",
    "  - 체인법: 같은 해시값 데이터를 연결리스트로 연결\n",
    "  - 오픈주소법: 데이터를 위한 해시값이 충돌할 때 재해시하는 법\n"
   ]
  },
  {
   "cell_type": "markdown",
   "metadata": {
    "id": "nI6pS-Ct7CpX"
   },
   "source": [
    "# 03-2 선형 검색\n",
    "\n",
    "배열 검색에서 가장 기본적인 알고리즘"
   ]
  },
  {
   "cell_type": "markdown",
   "metadata": {
    "id": "H3K25wV376jA"
   },
   "source": [
    "선형 검색이란 직선 모양으로 늘어선 배열에서 검색하는 경우에 원하는 키값을 가진 원소를 찾을 때까지 맨앞부터 스캔하여 순서대로 검색하는 알고리즘\n",
    "\n",
    "선형 검색의 종료 조건은\n",
    "- 검색할 값을 찾지 못하고 배열의 맨 끝을 지난 경우\n",
    "- 검색할 값과 같은 원소를 찾는 경우\n",
    "\n",
    "\n"
   ]
  },
  {
   "cell_type": "code",
   "execution_count": 18,
   "metadata": {
    "id": "Nu7yfjeY8zyO"
   },
   "outputs": [
    {
     "ename": "SyntaxError",
     "evalue": "invalid syntax (474423842.py, line 3)",
     "output_type": "error",
     "traceback": [
      "\u001b[1;36m  Cell \u001b[1;32mIn[18], line 3\u001b[1;36m\u001b[0m\n\u001b[1;33m    if i == len(a) # i==len(a)가 성립하면 스캔 종료 # 배열 내 원소 다 돌았을 때\u001b[0m\n\u001b[1;37m                   ^\u001b[0m\n\u001b[1;31mSyntaxError\u001b[0m\u001b[1;31m:\u001b[0m invalid syntax\n"
     ]
    }
   ],
   "source": [
    "i = 0\n",
    "while True:\n",
    "  if i == len(a) # i==len(a)가 성립하면 스캔 종료 # 배열 내 원소 다 돌았을 때\n",
    "    # 검색 실패\n",
    "  if a[i] == key: # a[i] == key가 성립하면 스캔 종료 # 해당하는 키 찾으면 반환\n",
    "    # 검색 성공\n",
    "  i+=1\n"
   ]
  },
  {
   "cell_type": "markdown",
   "metadata": {
    "id": "5c2MxyTn_KjP"
   },
   "source": [
    "## 실습 3-1\n",
    "while 문으로 작성한 선형 검색알고리즘"
   ]
  },
  {
   "cell_type": "code",
   "execution_count": null,
   "metadata": {
    "id": "62J8aKOg_Ry_"
   },
   "outputs": [
    {
     "name": "stdout",
     "output_type": "stream",
     "text": [
      "검색값은 x[4]에 있습니다.\n"
     ]
    }
   ],
   "source": [
    "from typing import Any, Sequence\n",
    "\n",
    "def seq_search(a:Sequence, key:Any) -> int:\n",
    "  \"\"\"시퀀스a 에서 key와 값이 같은 원소를 선형 검색\n",
    "     내가 찾고자하는 Key값을 a(sequence)에 존재하는가?\n",
    "  \"\"\"\n",
    "  i=0 # 인덱스 조회를 위한 i\n",
    "\n",
    "  while True:\n",
    "    if i == len(a): # Sequence 자료형의 크기와 i의 크기가 같다면 return -1 반환 (검색에 실패했음)\n",
    "      return -1\n",
    "    if a[i]==key: # 선형으로 Sequence를 조회 | 원하는 키값이 있으면\n",
    "      return i # 인덱스 반환\n",
    "    i += 1\n",
    "\n",
    "if __name__ == \"__main__\":\n",
    "  num=int(input('원소 수를 입력하시오: '))\n",
    "  x=[None] * num\n",
    "\n",
    "  for i in range(num):\n",
    "    x[i] = int(input(f\"x[{i}]: \"))\n",
    "\n",
    "  ky=int(input(\"검색할 값을 입력하세여: \"))\n",
    "\n",
    "  idx=seq_search(x,ky)\n",
    "\n",
    "  if idx == -1 :\n",
    "    print(\"검색하신 원소가 없습니다\")\n",
    "\n",
    "  else:\n",
    "    print(f\"검색값은 x[{idx}]에 있습니다.\")"
   ]
  },
  {
   "cell_type": "markdown",
   "metadata": {
    "id": "acoeewKfF0Fm"
   },
   "source": [
    "## 실습 3-2\n",
    "For 문으로 작성한 선형 검색알고리즘"
   ]
  },
  {
   "cell_type": "code",
   "execution_count": null,
   "metadata": {
    "id": "LXpBtdYoF0Du"
   },
   "outputs": [],
   "source": [
    "# for 문으로 작성한 선형검색알고리즘\n",
    "\n",
    "from typing import Any,Sequence\n",
    "\n",
    "def seq_search(a: Sequence, key:Any) -> int:\n",
    "  \"\"\"시퀀스 a에서 key와 값이 같은 원소를 선형검색\"\"\"\n",
    "  for i in range(len(a)):\n",
    "    if a[i] == key:\n",
    "      return i # 검색 성공한 인덱스 반환\n",
    "  return -1"
   ]
  },
  {
   "cell_type": "code",
   "execution_count": null,
   "metadata": {
    "id": "hCYBPNZZHiHf"
   },
   "outputs": [
    {
     "name": "stdout",
     "output_type": "stream",
     "text": [
      "실수를 검색합니다.\n",
      "주의 : 'End'를 입력하면 종료합니다.\n",
      "검색값은 x[0]에 존재합니다.\n"
     ]
    }
   ],
   "source": [
    "# seq_search() 함수로 실수검색하기\n",
    "# from search_while import seq_search\n",
    "\n",
    "print('실수를 검색합니다.')\n",
    "print(\"주의 : 'End'를 입력하면 종료합니다.\")\n",
    "\n",
    "number=0\n",
    "x=[]\n",
    "\n",
    "while True:\n",
    "  s=input(f'x[{number}]: ')\n",
    "  if (s == 'End') or (s == 'end'):\n",
    "    break\n",
    "  x.append(float(s))\n",
    "  number += 1\n",
    "\n",
    "ky = float(input('검색할 값을 입력하시오: '))\n",
    "\n",
    "idx = seq_search(a=x,key=ky)\n",
    "\n",
    "if idx == -1:\n",
    "  print(\"검색하시는 원소가 존재하지 않습니다.\")\n",
    "else:\n",
    "  print(f\"검색값은 x[{idx}]에 존재합니다.\")"
   ]
  },
  {
   "cell_type": "code",
   "execution_count": null,
   "metadata": {
    "id": "K-Vfd3ooJ0l6"
   },
   "outputs": [
    {
     "name": "stdout",
     "output_type": "stream",
     "text": [
      "(4, 7, 5.6, 2, 3.14, 1)에서 5.6의 인덱스는 2\n",
      "(4, 7, 5.6, 2, 3.14, 1)에서 'n'의 인덱스는 4\n",
      "(4, 7, 5.6, 2, 3.14, 1)에서 'dts'의 인덱스는 0\n"
     ]
    },
    {
     "ename": "",
     "evalue": "",
     "output_type": "error",
     "traceback": [
      "\u001b[1;31mThe Kernel crashed while executing code in the current cell or a previous cell. \n",
      "\u001b[1;31mPlease review the code in the cell(s) to identify a possible cause of the failure. \n",
      "\u001b[1;31mClick <a href='https://aka.ms/vscodeJupyterKernelCrash'>here</a> for more info. \n",
      "\u001b[1;31mView Jupyter <a href='command:jupyter.viewOutput'>log</a> for further details."
     ]
    }
   ],
   "source": [
    "# Seq_search() 함수로 특정 인덱스 검색\n",
    "\n",
    "t=(4,7,5.6,2,3.14,1)\n",
    "s='string'\n",
    "a=['dts','ACC','FLAC']\n",
    "\n",
    "print(f\"{t}에서 5.6의 인덱스는 {seq_search(a=t,key=5.6)}\")\n",
    "print(f\"{t}에서 'n'의 인덱스는 {seq_search(a=s,key='n')}\")\n",
    "print(f\"{t}에서 'dts'의 인덱스는 {seq_search(a=a,key='dts')}\")"
   ]
  },
  {
   "cell_type": "markdown",
   "metadata": {
    "id": "WEuBOKgHLIxV"
   },
   "source": [
    "# 보초법\n",
    "선형 검색은 반복할 때 마다 2가지 종료 조건을 체크한다.\n",
    "\n",
    "단순한 판단이지만, 이과정을 계속 반복하면 종료 조건을 검사하는 비용을 무시할 수 없다.\n",
    "\n",
    "이 비용을 반으로 줄이는 방법이 앞으로 배울 보초법이다. sentinel method\n",
    "\n"
   ]
  },
  {
   "cell_type": "markdown",
   "metadata": {
    "id": "XjVM2REkLb4k"
   },
   "source": [
    "원래 데이터에서 검색할 값을 배열의 맨 끝에 추가 : Sentinel (검색할 값을 마지막에 추가 !!)"
   ]
  },
  {
   "cell_type": "markdown",
   "metadata": {
    "id": "KW8FUFwYYyQh"
   },
   "source": [
    "## 실습 3-3"
   ]
  },
  {
   "cell_type": "code",
   "execution_count": null,
   "metadata": {
    "id": "4c-UhTmhYyO8"
   },
   "outputs": [
    {
     "name": "stdout",
     "output_type": "stream",
     "text": [
      "검색할 값이 리스트 내에 존재하지 않습니다.\n"
     ]
    }
   ],
   "source": [
    "# 선형 실습 알고리즘을 보초법으로 수정\n",
    "\n",
    "from typing import Any, Sequence\n",
    "import copy\n",
    "\n",
    "def seq_search(seq:Sequence,key:Any) -> int:\n",
    "  \"\"\"시퀀스 seq에서 key와 일치하는 원소를 선형 검색(보초법)\"\"\"\n",
    "\n",
    "  a=copy.deepcopy(seq) # seq 깊은 복사\n",
    "  a.append(key) # 보조 key 추가\n",
    "\n",
    "  i=0\n",
    "  while True:\n",
    "    if a[i]==key:\n",
    "      break\n",
    "    i+=1 # 검색에 성공하면, while 문을 종료.\n",
    "\n",
    "  return -1 if i == len(seq) else i\n",
    "\n",
    "if __name__ == \"__main__\":\n",
    "  num=int(input(\"원소 수를 입력하세요: \"))\n",
    "  x=[None] * num\n",
    "\n",
    "  for i in range(num):\n",
    "    x[i] = int(input(f\"x[{i}]: \")) # x 리스트 추가하기.\n",
    "\n",
    "  ky=int(input(\"검색할 값을 입력하세요.: \")) # 검색할 키 ky 입력받기\n",
    "\n",
    "  idx=seq_search(x,ky)\n",
    "\n",
    "  if idx == -1:\n",
    "    print(\"검색할 값이 리스트 내에 존재하지 않습니다.\")\n",
    "\n",
    "  else:\n",
    "    print(f\"검색값이 x[{idx}]에 있습니다.\")"
   ]
  },
  {
   "cell_type": "markdown",
   "metadata": {
    "id": "Mph4mv1WYyM0"
   },
   "source": [
    "# 03-3 이진 검색\n",
    "\n",
    "이진 검색 알고리즘을 사용하려면 배열의 데이터가 정렬(sort) 되어 있어야한다.\n",
    "이진검색은 선형 검색보단 빠르게 검색할 수 있다.\n",
    "\n",
    "이진 검색은 원소가 오름차순이나 내림차순으로 정렬된 배열에서 좀더 효율적으로 검색할 수 있는 알고리즘이다.\n",
    "\n"
   ]
  },
  {
   "cell_type": "markdown",
   "metadata": {
    "id": "Lyd3299JYyK-"
   },
   "source": [
    "이진 검색에서 검색 범위를 좁히는 과정을 정리하면\n",
    "pc는 중앙 인덱스, pl 맨 앞 인덱스, pr은 맨 뒤 인덱스\n",
    "\n",
    "- a[pc] < key : 중앙(pc)에서 오른쪽한칸 이동하여 새로운 왼쪽 끝을 pl로 지정 검색 범위를 뒷쪽으로 포함\n",
    "- a[pc] > key : 중앙(pc)에서 왼쪽으로 한칸 이동하여 새로운 오른쪽 끝을 pr로 지정하여, 검색 범위를 앞쪽 절반으로 좁힘.\n",
    "\n",
    "이진 검색의 종료 조건:\n",
    "- a[pc]와 key가 일치하는 경우\n",
    "- 검색 범위가 더 이상 없는 경우\n"
   ]
  },
  {
   "cell_type": "markdown",
   "metadata": {
    "id": "r2nhwoIkYyJR"
   },
   "source": [
    "## 이진 검색\n"
   ]
  },
  {
   "cell_type": "markdown",
   "metadata": {
    "id": "q7vmakgtYyHO"
   },
   "source": [
    "### 실습 3-4"
   ]
  },
  {
   "cell_type": "code",
   "execution_count": null,
   "metadata": {
    "id": "wTuaMkqqYyFp"
   },
   "outputs": [],
   "source": [
    "# 이진 검색 알고리즘\n",
    "\n",
    "from typing import Any,Sequence\n",
    "\n",
    "def bin_search(a:Sequence, key:Any) -> int:\n",
    "  \"\"\"시퀀스 a에서 key와 일치하는 원소를 이진 검색\"\"\"\n",
    "  pl=0 # 검색 범위 맨 앞 원소의 인덱스\n",
    "  pr=len(a)-1 # 검색 범위 맨 끝 원소의 인덱스\n",
    "\n",
    "  while True:\n",
    "    pc=(pl+pr)//2\n",
    "    if a[pc] == key:\n",
    "      return pc\n",
    "    elif a[pc] < key:\n",
    "      pl=pc+1\n",
    "    else:\n",
    "      pr=pc-1\n",
    "    if pl > pr: # 검색 실패\n",
    "      break\n",
    "    return -1\n",
    "\n",
    "if __name__ == \"__main__\":\n",
    "  num=int(input(\"원소 수를 입력하시오 : \"))\n",
    "  x=[None] * num\n",
    "\n",
    "  print(\"배열 데이터를 오름차순으로 정렬합니다.\")\n",
    "\n",
    "  x[0]=int(input(\"x[0]: \"))\n",
    "\n",
    "  for i in range(1,num):\n",
    "    while True:\n",
    "      x[i]=int(input(f'x[{i}]: '))\n",
    "      if x[i] >= x[i-1]: # 바로 직전에 입력한 원소값보다 큰 값을 입력 (정렬? 위해서)\n",
    "        break\n",
    "\n",
    "  ky=int(input(\"검색할 값을 입력하시오: \"))\n",
    "\n",
    "  idx=bin_search(x,ky)\n",
    "\n",
    "  if idx == -1:\n",
    "    print('검색할 값이 존재하지 않습니다.')\n",
    "\n",
    "  else:\n",
    "    print(f\"검색할 값이 x[{idx}]에 존재합니다.\")"
   ]
  },
  {
   "cell_type": "code",
   "execution_count": null,
   "metadata": {},
   "outputs": [
    {
     "name": "stdout",
     "output_type": "stream",
     "text": [
      "43\n",
      "조회 결과 없음\n"
     ]
    },
    {
     "ename": "",
     "evalue": "",
     "output_type": "error",
     "traceback": [
      "\u001b[1;31mThe Kernel crashed while executing code in the current cell or a previous cell. \n",
      "\u001b[1;31mPlease review the code in the cell(s) to identify a possible cause of the failure. \n",
      "\u001b[1;31mClick <a href='https://aka.ms/vscodeJupyterKernelCrash'>here</a> for more info. \n",
      "\u001b[1;31mView Jupyter <a href='command:jupyter.viewOutput'>log</a> for further details."
     ]
    }
   ],
   "source": [
    "a = [1,3,12,45]\n",
    "pl = 0\n",
    "pr = len(a)\n",
    "key = int(input())\n",
    "print(key)\n",
    "while True:\n",
    "    pc = (pl+pr)//2\n",
    "    if a[pc] == key:\n",
    "        print(pc)Z\n",
    "        break\n",
    "    elif a[pc] < key:\n",
    "        pl = pc+1\n",
    "    elif a[pc] > key:\n",
    "        pr = pc-1\n",
    "    if pr<pl: \n",
    "        print('조회 결과 없음')\n",
    "        break\n"
   ]
  },
  {
   "cell_type": "markdown",
   "metadata": {
    "id": "og3akEDoYx-g"
   },
   "source": [
    "# 03-4 해시법\n",
    "검색과 더불어 ! 데이터의 추가와 삭제도 효율적으로 수행할 수 있는 해시법을 알아보자\n",
    "\n"
   ]
  },
  {
   "cell_type": "markdown",
   "metadata": {
    "id": "gHJR4V-dDhdh"
   },
   "source": [
    "##체인법"
   ]
  },
  {
   "cell_type": "code",
   "execution_count": null,
   "metadata": {
    "id": "I8udSMe9-4WM"
   },
   "outputs": [],
   "source": [
    "# 체인법으로 해시함수 구현하기\n",
    "\n",
    "from __future__ import annotations\n",
    "from typing import Any,Type\n",
    "import hashlib\n",
    "\n",
    "class Node:\n",
    "  '''해시를 구성하는 노드'''\n",
    "  def __init__(self, key:Any, value:Any, next:Node) -> None:\n",
    "    '''초기화'''\n",
    "    self.key=key  # 키\n",
    "    self.value=value # 값\n",
    "    self.next=next # 뒤쪽 노드를 참조\n",
    "\n",
    "class ChainedHash:\n",
    "  '''체인법으로 해시 클래스 구현'''\n",
    "  def __init__(self, capacity:int) -> None:\n",
    "    self.capacity=capacity # 해시 테이블의 크기 (table) 지정\n",
    "    self.table=[None] * self.capacity # 해시 테이블 리스트 선언\n",
    "\n",
    "  def hash_value(self, key:Any) -> int:\n",
    "    '''해시값을 구하기'''\n",
    "    if isinstance(key,int): # key의 객체가 int 형인가요?\n",
    "      return key % self.capacity  # 해시 함수 -> 해시값 추출\n",
    "    return (int(hashlib.sha256(str(key).encode()).hexdigest(),16) % self.capacity) # key가 int가 아닌경우\n",
    "\n",
    "  def search(self, key:Any) -> Any:\n",
    "    '''키로 원소를 검색하는 search() 함수'''\n",
    "    hash=self.hash_value(key)\n",
    "    p=self.table[hash]\n",
    "\n",
    "    while p is not None:\n",
    "      if p.key == key:\n",
    "        return p.value # 검색 성공\n",
    "      p=p.next # 뒤쪽 노드를 주목\n",
    "\n",
    "    return None #검색실패\n",
    "\n",
    "  def add(self,key:Any,value:Any) -> bool:\n",
    "    \"\"\"키가 key이고 값이 value인 원소를 추가\"\"\"\n",
    "    hash=self.hash_value(key) # 추가하는 key의 해시값\n",
    "    p=self.table[hash] # 노드를 주목\n",
    "\n",
    "    while p is not None:\n",
    "      if p.key==key: # 이미 존재함\n",
    "        return False # 추가 실패\n",
    "      p=p.next # 뒤쪽 노드를 주목\n",
    "\n",
    "    temp=Node(key,value,self.table[hash])\n",
    "    self.table[hash]=temp\n",
    "    return True # 추가성공\n",
    "\n",
    "  def remove(self,key:Any):\n",
    "    hash=self.hash_value(key) # 삭제할 key의 해시값\n",
    "    p=self.table[hash] # 해쉬 테이블의 해당 노드 주목 그이유는 table[hash]는 노드를 참조하기때문\n",
    "    pp=None # 바로 앞의 노드를 주목\n",
    "\n",
    "    while p is not None:  # p가 만약 None이 아니라면 (즉, p가 어떠한 노드를 이미 참조하고 있을 때)\n",
    "      if p.key==key:  # p는 self.table[hash] 이므로 참조한 노드의 key값이 입력된 key과 같을 때,\n",
    "        if pp is None: # 이 부분이 이해가 안됨\n",
    "          self.table[hash] = p.next # p에 대한 노드를 삭제 table[hash] = p 였는데 p.next을 참조함으로써 p에 대한 노드를 삭제\n",
    "        else:\n",
    "          pp.next=p.next\n",
    "        return True # key 삭제 성공\n",
    "      pp=p\n",
    "      p=p.next\n",
    "    return False # 삭제 실패\n",
    "\n",
    "  def dump(self) -> None:\n",
    "    \"\"\" 해시 테이블을 덤프\"\"\"\n",
    "    for i in range(self.capacity):\n",
    "      p=self.table[i]\n",
    "      print(i,end='')\n",
    "      while p is not None:\n",
    "        print(f' -> {p.key} ({p.value})',end='')\n",
    "        p=p.next\n",
    "      print()"
   ]
  },
  {
   "cell_type": "code",
   "execution_count": null,
   "metadata": {
    "id": "NB-oybWD-4UN"
   },
   "outputs": [],
   "source": [
    "from enum import Enum\n",
    "# from chained_hash import ChainedHash\n",
    "\n",
    "Menu=Enum('Menu',['추가','삭제','검색','덤프','종료']) # 메뉴 선언\n",
    "\n",
    "def select_menu() -> Menu:\n",
    "  \"\"\"메뉴 선택\"\"\"\n",
    "  s=[f'({m.value}){m.name}' for m in Menu]\n",
    "  while True:\n",
    "    print(*s, sep= '  ',end='')\n",
    "    n=int(input(\": \"))\n",
    "    if 1 <= n <= len(Menu):\n",
    "      return Menu(n)\n",
    "\n",
    "hash=ChainedHash(13) # 크기가 13인 해시 테이블 생성\n",
    "\n",
    "while True:\n",
    "  menu=select_menu()\n",
    "\n",
    "  if menu == Menu.추가:\n",
    "    key=int(input(\"추가할 키를 입력하시오 \"))\n",
    "    val=input(\"추가할 값을 입력하시오: \")\n",
    "    if not hash.add(key,val): # hash.add()가 거짓이면 not과 false가 만나서 True가 되면서 실행을 함\n",
    "      print(\"추가를 실패했습니다!\")\n",
    "\n",
    "  elif menu == Menu.삭제:\n",
    "    key=int(input(\"삭제할 키를 입력하세요. \"))\n",
    "    if not hash.remove(key): # hash.remove() 가 거짓이면 실행\n",
    "      print(\"삭제를 실패했습니다.\")\n",
    "\n",
    "  elif menu==Menu.검색:\n",
    "    key=int(input(\"검색할 키를 입력하세요.: \"))\n",
    "    t=hash.search(key)\n",
    "    if t is not None:\n",
    "      print(f\"검색한 키를 갖는 값은 {t} 입니다.\")\n",
    "    else:\n",
    "      print(f\"검색할 데이터가 없습니다.\")\n",
    "\n",
    "  elif menu == Menu.덤프:\n",
    "    hash.dump()\n",
    "\n",
    "  else:  # 종료\n",
    "    break"
   ]
  },
  {
   "cell_type": "markdown",
   "metadata": {
    "id": "hRsasARM-4OX"
   },
   "source": [
    "## 오픈해시법"
   ]
  },
  {
   "cell_type": "markdown",
   "metadata": {
    "id": "ZVQ_vh4g-4Md"
   },
   "source": [
    "해시 충돌이 발생했을 때, 재해시를 수행하여 빈 버킷을 찾는 방법을 말함.\n",
    "\n",
    "닫힌 해시법이라고 한다"
   ]
  }
 ],
 "metadata": {
  "colab": {
   "authorship_tag": "ABX9TyNp9CRkuDVkpPWBLDbuXVtO",
   "include_colab_link": true,
   "private_outputs": true,
   "provenance": [],
   "toc_visible": true
  },
  "kernelspec": {
   "display_name": "pytorch_cuda_11_8",
   "language": "python",
   "name": "python3"
  },
  "language_info": {
   "codemirror_mode": {
    "name": "ipython",
    "version": 3
   },
   "file_extension": ".py",
   "mimetype": "text/x-python",
   "name": "python",
   "nbconvert_exporter": "python",
   "pygments_lexer": "ipython3",
   "version": "3.9.18"
  }
 },
 "nbformat": 4,
 "nbformat_minor": 0
}
