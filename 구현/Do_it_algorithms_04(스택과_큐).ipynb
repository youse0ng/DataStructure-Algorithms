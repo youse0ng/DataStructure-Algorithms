{
  "nbformat": 4,
  "nbformat_minor": 0,
  "metadata": {
    "colab": {
      "private_outputs": true,
      "provenance": [],
      "toc_visible": true,
      "authorship_tag": "ABX9TyMc+51Cb3n0O2bCQyBHK55T",
      "include_colab_link": true
    },
    "kernelspec": {
      "name": "python3",
      "display_name": "Python 3"
    },
    "language_info": {
      "name": "python"
    }
  },
  "cells": [
    {
      "cell_type": "markdown",
      "metadata": {
        "id": "view-in-github",
        "colab_type": "text"
      },
      "source": [
        "<a href=\"https://colab.research.google.com/github/youse0ng/Algorithms_Study/blob/main/Do_it_algorithms_04(%EC%8A%A4%ED%83%9D%EA%B3%BC_%ED%81%90).ipynb\" target=\"_parent\"><img src=\"https://colab.research.google.com/assets/colab-badge.svg\" alt=\"Open In Colab\"/></a>"
      ]
    },
    {
      "cell_type": "markdown",
      "source": [
        "#스택과 큐\n",
        "\n",
        "데이터를 임시 저장하는 기본 자료구조인 스택과 큐\n"
      ],
      "metadata": {
        "id": "Epl2svaRRRQQ"
      }
    },
    {
      "cell_type": "markdown",
      "source": [
        "## 04-1 스택이란? (LIFO) LAST IN FIRST OUT\n",
        "\n",
        "스택은 데이터를 임시 저장할 때 사용하는 자료구조\n",
        "\n",
        "데이터의 입력과 출력 순서는 후입선출 방식\n",
        "\n",
        "(가장 나중에 넣은 데이터를 가장 먼저 꺼낸다)\n",
        "\n",
        "\n",
        "\n"
      ],
      "metadata": {
        "id": "9YRnlacKRZ-4"
      }
    },
    {
      "cell_type": "markdown",
      "source": [
        "스택에 데이터를 넣는 작업이 PUSH, 스택에서 데이터를 꺼내는 작업이 POP이라고한다."
      ],
      "metadata": {
        "id": "j8r8HdQuReXs"
      }
    },
    {
      "cell_type": "markdown",
      "source": [
        "## 스택 구현하기"
      ],
      "metadata": {
        "id": "sKXu9xqkSJig"
      }
    },
    {
      "cell_type": "markdown",
      "source": [
        "- 스택 배열: stk(list형 배열, 인덱스가 0인 원소를 스택의 바닥이라고 한다.)\n",
        "\n",
        "  가장 먼저 푸시해서 데이터를 저장하는 곳이 stk[0]이다.\n",
        "\n",
        "- 스택 크기: capacity (스택의 최대 크기를 나타내는 int형 정수)\n",
        "\n",
        "  이 값은 len(stk)와 일치한다.\n",
        "\n",
        "- 스택 포인터: ptr (스택에 쌓여 있는 데이터의 개수를 나타내는 정숫값을 스택 포인터라고한다)\n",
        "  스택이 비어있다면 ptr의 값은 0이고, 가득 차 있으면 capacity와 같은 값을 가짐\n"
      ],
      "metadata": {
        "id": "bAypM4X2SRI_"
      }
    },
    {
      "cell_type": "code",
      "source": [
        "# 고정 길이 스택 클래스 FIxedStack 구현\n",
        "from typing import Any\n",
        "\n",
        "class FixedStack:\n",
        "  \"\"\"고정 길이 스택 클래스\"\"\"\n",
        "\n",
        "  class Empty(Exception):\n",
        "    \"\"\"비어 있는 FIxedStack에 pop 또는 peek할 때 내보내는 예외처리\"\"\"\n",
        "    pass\n",
        "\n",
        "  class Full(Exception):\n",
        "    \"\"\"가득 찬 FIxedStack에 푸시할 때 내보내는 예외 처리\"\"\"\n",
        "    pass\n",
        "\n",
        "  def __init__(self, capacity:int =256) -> None:\n",
        "    \"\"\"스택 초기화\"\"\"\n",
        "    self.capacity=capacity # 스택의 크기\n",
        "    self.stk=[None]*capacity # 스택의 본체\n",
        "    self.ptr=0  # 스택 포인터 (스택에 들어있는 데이터 개수)\n",
        "\n",
        "  def __len__(self)->int:\n",
        "    \"\"\"스택에 쌓여있는 데이터 개수 반환\"\"\"\n",
        "    return self.ptr\n",
        "\n",
        "  def is_empty(self) -> bool:\n",
        "    \"\"\"스택이 비어있는지 판단\"\"\"\n",
        "    return self.ptr<=0\n",
        "\n",
        "  def is_full(self) -> bool:\n",
        "    \"\"\"스택이 차있는지 판단\"\"\"\n",
        "    return self.ptr >= self.capacity\n",
        "\n"
      ],
      "metadata": {
        "id": "HDkjE1w8Siyw"
      },
      "execution_count": null,
      "outputs": []
    },
    {
      "cell_type": "markdown",
      "source": [
        "예외처리\n",
        "\n",
        "try 문\n",
        "- Try: 스위트문 (원래 처리)\n",
        "- except 예외: (예외 포착과 처리) 스위트 작성 1개이상\n",
        "- else: 예외가 포착되지 않음\n",
        "- finally: 마무리\n",
        "\n",
        "try-finally 문\n",
        "- try: 스위트\n",
        "- finally: 스위트"
      ],
      "metadata": {
        "id": "Mz6kKJ1aBp_I"
      }
    },
    {
      "cell_type": "markdown",
      "source": [
        "### 데이터를 푸시하는 함수 push()\n",
        "\n",
        "push 함수는 스택에 데이터를 추가하는 작업이다. 그러나 스택이 가득차서 더 이상 푸시를 할 수 없을 경우에는 FixedStack.Full을 통해 예외 처리를 내보냅니다.\n",
        "\n",
        "스택이 가득 차 있지 않으면 전달 받은 value를 배열 원소 stk[ptr]에 저장하고 스택 포인터를 +1 증가시킨다.\n",
        "\n"
      ],
      "metadata": {
        "id": "wu2P_h8cCG_Y"
      }
    },
    {
      "cell_type": "markdown",
      "source": [
        "### 데이터를 팝하는 pop() 함수\n",
        "\n",
        "pop() 함수는 스택의 꼭대기에서 데이터를 꺼내서 그 값을 반환합니다.\n",
        "\n",
        "그러나 스택이 비어서 팝할 수 없는 경우에는 FixedStack.Empty를 통하여 예외 처리를 내보냅니다.\n",
        "\n",
        "스택이 비어 있지 않으면 스택 포인터 ptr의 값을 1 감소시키고 stk[ptr]에 저장된 값을 반환합니다.\n",
        "\n",
        "**중요한 건 ptr값을 -1을 하고 ! stk[ptr]에 저장된 값을 반환한다는 것**\n"
      ],
      "metadata": {
        "id": "785FfroOCMyl"
      }
    },
    {
      "cell_type": "code",
      "source": [
        "# 고정 길이 스택 클래스 FIxedStack 구현\n",
        "from typing import Any\n",
        "\n",
        "class FixedStack:\n",
        "  \"\"\"고정 길이 스택 클래스\"\"\"\n",
        "\n",
        "  class Empty(Exception):\n",
        "    \"\"\"비어 있는 FIxedStack에 pop 또는 peek할 때 내보내는 예외처리\"\"\"\n",
        "    pass\n",
        "\n",
        "  class Full(Exception):\n",
        "    \"\"\"가득 찬 FIxedStack에 푸시할 때 내보내는 예외 처리\"\"\"\n",
        "    pass\n",
        "\n",
        "  def __init__(self, capacity:int =256) -> None:\n",
        "    \"\"\"스택 초기화\"\"\"\n",
        "    self.capacity=capacity # 스택의 크기\n",
        "    self.stk=[None]*capacity # 스택의 본체\n",
        "    self.ptr=0  # 스택 포인터 (스택에 들어있는 데이터 개수)\n",
        "\n",
        "  def __len__(self)->int:\n",
        "    \"\"\"스택에 쌓여있는 데이터 개수 반환\"\"\"\n",
        "    return self.ptr\n",
        "\n",
        "  def is_empty(self) -> bool:\n",
        "    \"\"\"스택이 비어있는지 판단\"\"\"\n",
        "    return self.ptr<=0\n",
        "\n",
        "  def is_full(self) -> bool:\n",
        "    \"\"\"스택이 차있는지 판단\"\"\"\n",
        "    return self.ptr >= self.capacity\n",
        "\n",
        "  def push(self,value:Any) -> None:\n",
        "    \"\"\"스택에 value를 푸시(데이터를 넣음)\"\"\"\n",
        "    if self.is_full(): # 스택이 가득 차 있는 경우\n",
        "      raise FixedStack.Full #예외 처리 발생 # FixedStack에 있는 클래스속성인 FixedStack.Full 접근\n",
        "    self.stk[self.ptr]=value\n",
        "    self.ptr+=1\n",
        "\n",
        "  def pop(self) -> Any:\n",
        "    \"\"\"스택에서 데이터를 pop(꼭대기 데이터를 꺼냄)\"\"\"\n",
        "    if self.is_empty(): # 스택이 비어있는 경우\n",
        "        raise FixedStack.Empty # 예외 처리 발생 # FixedStack.Empty 접근\n",
        "    self.ptr-=1\n",
        "    return self.stk[self.ptr]\n",
        "\n",
        "  def peek(self) -> Any:\n",
        "    \"\"\"스택에서 데이터를 피크(꼭대기 데이터를 들여다 봄)\"\"\"\n",
        "    if self.is_empty():\n",
        "      raise FixedStack.Empty\n",
        "    return self.stk[self.ptr-1]\n",
        "\n",
        "  def clear(self) -> None:\n",
        "    \"\"\"스택을 비움 (모든 데이터 삭제)\"\"\"\n",
        "    self.ptr=0 # 스택의 포인터 ptr값을 0으로 하면 끝난다.\n",
        "\n",
        "  def find(self, value:Any) -> Any:\n",
        "    \"\"\"스택에서 value를 찾아 index를 반환(없으면 -1을 반환)\"\"\"\n",
        "    for i in range(self.ptr-1,-1,-1): # 꼭대기부터 !(스택 내의 데이터 개수인 ptr, ptr-1은 꼭대기 원소의 인덱스부터 0까지 -1씩 선형검색)\n",
        "      if self.stk[i] == value:\n",
        "        return i  # 검색 성공\n",
        "    return -1 # 검색 실패\n",
        "\n",
        "  def count(self, value:Any) -> int:\n",
        "    \"\"\"스택에 있는 value의 개수를 반환\"\"\"\n",
        "    c=0\n",
        "    for i in range(self.ptr): #바닥쪽부터 선형 검색\n",
        "      if self.stk[i] == value: # 검색 성공\n",
        "        c+=1\n",
        "    return c\n",
        "\n",
        "  def __contains__(self, value:Any) -> bool:\n",
        "    '''스택에 있는 value가 있는지 판단'''\n",
        "    return self.count(value) > 0\n",
        "\n",
        "  def dump(self) ->  None:\n",
        "    \"\"\"덤프(스택 안의 모든 데이터를 바닥부터 꼭대기 순으로 출력)\"\"\"\n",
        "    if self.is_empty():\n",
        "      print('스택이 비어 있습니다.')\n",
        "\n",
        "    else:\n",
        "      print(self.stk[:self.ptr])\n"
      ],
      "metadata": {
        "id": "WKQPDVbKENWW"
      },
      "execution_count": null,
      "outputs": []
    },
    {
      "cell_type": "markdown",
      "source": [
        "### 데이터를 들여다보는 peek() 함수\n",
        "\n",
        "스택이 비어있을 경우에는 FixedStack.Empty를 통하여 예외 처리를 보낸다.\n",
        "\n",
        "스택에 원소가 있을 경우, 맨 꼭대기 원소인 stk[ptr-1]의 값을 반환한다."
      ],
      "metadata": {
        "id": "fr8YHjBc6Jta"
      }
    },
    {
      "cell_type": "markdown",
      "source": [
        "### 모든 데이터를 삭제하는 clear() 함수\n",
        "\n",
        "clear()함수는 스택에 쌓여 있는 데이터를 모두 삭제하여 빈 스택을 만듭니다.\n",
        "\n",
        "스택 포인터 ptr의 값을 0으로 하면 끝납니다."
      ],
      "metadata": {
        "id": "hxit4F-H9KZb"
      }
    },
    {
      "cell_type": "markdown",
      "source": [
        "raise 문을 통한 예외 처리\n",
        "\n",
        "raise 문은 프로그램의 예외 처리를 의도적으로 내보낼 수 있다.\n",
        "\n",
        "FixedStack 클래스의 push(),pop(),peek()함수는 스택이 차있거나 또는 비어있을때 raise문을 통하여 예외처리를 내보내고 있다\n",
        "\n",
        "ValueError 클래스, ZeroDivisionError클래스 등 파이썬이 제공하는 예외 처리를 표준 내장 예외처리라고한다.\n",
        "\n",
        "표준 내장 예외 처리는 BaseException클래스와 직간접적으로 파생한 클래스로 제공된다.\n",
        "\n",
        "**프로그래머가 정의하는 사용자 정의 예외 처리는 BaseException클래스가 아니라 Exception 클래스에서 파생하는 것이 원칙이다**.\n",
        "\n",
        "왜냐하면 Exception 클래스는 사용자 정의 클래스가 파생하는 것을 전제로 하기 때문이다.\n",
        "\n",
        "04장에서는 스택 클래스와 큐 클래스인 Empty와 Full은 모두 Exception 클래스의 하위 클래스로 정의하고 있습니다.\n",
        "\n",
        "\n",
        "\n"
      ],
      "metadata": {
        "id": "W1AKaXvkGPL0"
      }
    },
    {
      "cell_type": "markdown",
      "source": [
        "### 데이터를 검색하는 find() 함수\n",
        "\n",
        "find() 함수는 스택 본체의 배열 stk 안에 value와 값이 같은 데이터가 포함되어 있는지 확인하고\n",
        "\n",
        "포함되어 있다면 배열의 어디에 들어 있는지를 검색합니다.\n",
        "\n",
        "find()함수가 스택에서 검색하는 방법은 배열의 인덱스가 큰 쪽에서 작은 쪽으로 스캔하는 방법이다. (선형 검색)\n",
        "\n",
        "검색에 성공하면 발견한 원소의 INDEX 를 반환하고 실패하면 -1을 반환합니다.\n"
      ],
      "metadata": {
        "id": "QY7-pxGTIjj7"
      }
    },
    {
      "cell_type": "markdown",
      "source": [
        "### 데이터의 개수를 세는 count() 함수\n",
        "\n",
        "count()함수는 스택에 쌓여 있는 데이터(value)의 개수를 구하여 반환\n",
        "\n",
        "ex) 23이 stk내에 2개가 있다면 2를 반환\n",
        "\n"
      ],
      "metadata": {
        "id": "GUmKDbOp-iEJ"
      }
    },
    {
      "cell_type": "markdown",
      "source": [
        "### 데이터가 포함되어 있는지 판단하는 `__contains__()` 함수\n",
        "\n",
        "`__contains__()` 함수는 스택에 데이터(value)가 있는지 판단합니다. 있으면 True를 반환하고 그렇지 않으면 False 반환합니다.\n",
        "\n",
        "예를 들어, 스택 s에 데이터 x가 포함되어 있는지 판단은 `s.__contain__(x)` 뿐만 아니라 멤버십 판단 연산자인 in을 사용하여 x in s로 수행할 수 있다.\n",
        "\n"
      ],
      "metadata": {
        "id": "IUmj_d83BygH"
      }
    },
    {
      "cell_type": "markdown",
      "source": [
        "어떤 데이터가 포함되어 있지 않은지 판단할 때에는 not in 연산자도 사용할 수 있다.\n",
        "\n",
        "스택 s에 데이터 x가 포함되어 있지 않은지 판단은\n",
        "x not in s로 할 수 있다.\n"
      ],
      "metadata": {
        "id": "U0YzRNR5DCyY"
      }
    },
    {
      "cell_type": "markdown",
      "source": [
        "### 스택의 모든 데이터를 출력하는 dump()함수\n",
        "\n",
        "dump()함수는 스택에 쌓여있는 ptr개의 모든 데이터를 바닥부터 꼭대기까지 순서대로 출력합니다.\n",
        "\n",
        "스택이 비어있다면, '스택이 비어 있습니다'라고 출력을 합니다."
      ],
      "metadata": {
        "id": "-2x_KebJGfzB"
      }
    },
    {
      "cell_type": "markdown",
      "source": [
        "### `__len__()` 함수와 `__contain__()`함수\n",
        "\n",
        "클래스에 `__len__()` 함수를 정의하면 클래스형의 인스턴스를 len() 함수에 전달할 수 있다.\n",
        "\n",
        "예를들어, 클래스형의 인스턴스 obj에 대한 `__len__()` 함수를 호출하는 `obj.__len__()`를 간단히 len(obj)로 작성할 수 있다.\n",
        "\n",
        "\n",
        "클래스에 `__contains__()` 함수를 정의하면 클래스형의 인스턴스에 멤버십 판단 연산자인 in을 적용할 수 있다!\n",
        "\n",
        "예를 들어, 클래스형의 인스턴스 obj에 대한 `__contains__()` 함수를 호출하는 `obj.__contains__(x)`를 간단히 x in obj로 작성할 수 있습니다.\n",
        "\n",
        "\n",
        "'__' 더블 언더스코어를 줄여서 dunder 던더라고합니다.\n",
        "\n",
        "그래서 더블 언더스코어 함수를 줄여서 던더함수라고합니다.\n",
        "\n"
      ],
      "metadata": {
        "id": "vzqWRrQFHoYM"
      }
    },
    {
      "cell_type": "markdown",
      "source": [
        "## 스택 프로그램 만들기"
      ],
      "metadata": {
        "id": "MDDNWbOmJppP"
      }
    },
    {
      "cell_type": "code",
      "source": [
        "# 고정 길이 스택 클래스(FixedStack)을 사용하기\n",
        "\n",
        "from enum import Enum\n",
        "# from fixed_stack import FixedStack\n",
        "\n",
        "Menu=Enum('Menu',['푸시','팝','피크','검색','덤프','종료'])\n",
        "\n",
        "def select_menu() -> Menu:\n",
        "  \"\"\"메뉴 선택\"\"\"\n",
        "  s=[f'({m.value}){m.name}' for m in Menu]\n",
        "  while True:\n",
        "    print(*s, sep='  ', end='')\n",
        "    n=int(input(\": \"))\n",
        "    if 1 <= n <= len(Menu):\n",
        "      return Menu(n)\n",
        "\n",
        "s= FixedStack(64) # 최대 64개를 푸시할 수 있는 스택\n",
        "\n",
        "while True:\n",
        "  print(f'현재 데이터 개수: {len(s)} / {s.capacity}')\n",
        "  menu=select_menu() # 메뉴 선택\n",
        "\n",
        "  if menu == Menu.푸시: # 푸시\n",
        "    x = int(input(\"데이터를 입력하세요.: \"))\n",
        "    try:\n",
        "      s.push(x)\n",
        "    except FixedStack.Full:\n",
        "      print('스택이 가득 차 있습니다.')\n",
        "\n",
        "  elif menu == Menu.팝: # 팝\n",
        "    try:\n",
        "      x=s.pop()\n",
        "      print(f'팝한 데이터는 {x}입니다.')\n",
        "    except FixedStack.Empty:\n",
        "      print('스택이 비어 있습니다')\n",
        "\n",
        "  elif menu == Menu.피크:\n",
        "    try:\n",
        "      x=s.peek()\n",
        "      print(f\"피크한 데이터는 {x}입니다.\")\n",
        "    except FixedStack.Empty:\n",
        "      print('스택이 비어있습니다.')\n",
        "\n",
        "  elif menu == Menu.검색:\n",
        "    x=int(input(\"검색할 값을 입력하시오: \"))\n",
        "    if x in s:\n",
        "      print(f\"{s.count(x)}개 포함되고, 맨 앞의 위치는 {s.find(x)}\")\n",
        "    else:\n",
        "      print(\"검색값을 찾을 수 없습니다.\")\n",
        "\n",
        "  elif menu==Menu.덤프:\n",
        "    s.dump()\n",
        "\n",
        "  else:\n",
        "    break"
      ],
      "metadata": {
        "id": "FkNIX-IAJzY_"
      },
      "execution_count": null,
      "outputs": []
    },
    {
      "cell_type": "markdown",
      "source": [
        "## 고정 길이 스택 클래스 구현하기(collections.deque를 사용)\n"
      ],
      "metadata": {
        "id": "5XifhdbKJzXH"
      }
    },
    {
      "cell_type": "code",
      "source": [
        "from typing import Any\n",
        "from collections import deque\n",
        "\n",
        "class Stack:\n",
        "  \"\"\"고정 길이 스택 클래스(collections.deque 사용)\"\"\"\n",
        "  def __init__(self, maxlen:int=256)->None:\n",
        "    '''스택 초기화'''\n",
        "    self.capacity=maxlen # 256의 고정 길이 스택\n",
        "    self.__stk=deque([],maxlen) # 비공개 속성으로 __stk 만들기 (스택)\n",
        "\n",
        "  def __len__(self) -> int:\n",
        "    '''스택에 쌓여 있는 데이터 개수를 반환'''\n",
        "    return len(self.__stk) # 스택(__stk)에 들어가 있는 원소개수 반환\n",
        "\n",
        "  def is_empty(self) -> bool:\n",
        "    '''스택이 비어있는지 판단'''\n",
        "    return not self.__stk\n",
        "\n",
        "  def is_full(self) -> bool:\n",
        "    '''스택이 가득차 있는지 확인하기'''\n",
        "    return len(self.__stk) >= self.__stk.maxlen\n",
        "\n",
        "  def push(self, value:Any) -> None:\n",
        "    '''스택에 value를 푸시'''\n",
        "    self.__stk.append(value)\n",
        "\n",
        "  def pop(self) -> Any:\n",
        "    '''스택에서 데이터를 팝'''\n",
        "    return self.__stk.pop()\n",
        "\n",
        "  def peek(self) -> Any:\n",
        "    '''스택에서 데이터를 피크'''\n",
        "    return self.__stk[-1]\n",
        "\n",
        "  def clear(self) -> None:\n",
        "    return self.__stk.clear()\n",
        "\n",
        "  def find(self,value:Any) -> Any:\n",
        "    '''스택에서 value를 차자 인덱스를 반환'''\n",
        "    try:\n",
        "     # return self.__stk.find(value) 내가 작성한 코드인데 find 함수는 문자열에서 쓰인다. index를 쓰는게 맞음\n",
        "     return self.__stk.index(value)\n",
        "    # else: # 찾고자 하는 밸류가 없을 때  => 내가 작성한 코드인데 오류 else 혼자는 try문에서 else는 혼자 못오는것 같다.\n",
        "    except ValueError:\n",
        "      print('찾고자 하는 value가 없습니다.')\n",
        "      return -1\n",
        "  def count(self,value:Any) -> int:\n",
        "    '''스택에 포함되어 있는 value의 개수 반환'''\n",
        "    return self.__stk.count(value)\n",
        "\n",
        "  def __countain__(self,value:Any) -> bool:\n",
        "    '''스택에 value가 포함되어 있는지 판단 (value in __stk)'''\n",
        "    return self.count(value)\n",
        "\n",
        "  def dump(self) -> int:\n",
        "    '''스택 안에 있는 모든 데이터를 나열 (바닥에서 꼭대기)'''\n",
        "    print(list(self.__stk))\n"
      ],
      "metadata": {
        "id": "uN2s7hAMJzVO"
      },
      "execution_count": null,
      "outputs": []
    },
    {
      "cell_type": "markdown",
      "source": [
        "## 04-2 큐란? (FIFO) FIRST IN FIRST OUT\n",
        "\n",
        "스택과 같이 데이터를 임시 저장하는 자료구조이다. 하지만 스택처럼 가장 나중에 넣은 데이터를 가장 먼저 꺼내지 않는다."
      ],
      "metadata": {
        "id": "cYC8gy8oJzTV"
      }
    },
    {
      "cell_type": "markdown",
      "source": [
        "큐는 가장 먼저 넣은 데이터를 가장 먼저 꺼내는 선입선출 구조이다.\n",
        "\n",
        "* 인큐: 큐에 데이터를 추가하는 작업\n",
        "* 디큐: 데이터를 꺼내는 작업\n",
        "* 프론트: 데이터를 꺼내는 쪽\n",
        "* 리어: 데이터를 넣는 쪽"
      ],
      "metadata": {
        "id": "UaBydqiaJzNV"
      }
    },
    {
      "cell_type": "markdown",
      "source": [
        "## 배열로 큐 구현하기\n",
        "\n",
        "스택과 마찬가지로 큐 또한 배열을 사용하여 구현할 수 있다.\n",
        "\n",
        "* 데이터를 추가하는 인큐 과정에서는 O(1) 복잡도를 가지고 있다\n",
        "\n",
        "* 하지만 데이터를 꺼내는 과정인 디큐에서는 O(n)의 복잡도를 가지고 있어서 효율적이진 못하다.\n",
        "\n",
        "-> 맨 앞의 원소인 que[0]을 꺼내고 que[1]~ que[-1] 원소들을 앞으로 당겨야하므로 비효율적이라고 표현한 것"
      ],
      "metadata": {
        "id": "E6lDWf8IJzJc"
      }
    },
    {
      "cell_type": "markdown",
      "source": [
        "## 링 버퍼로 큐 구현하기\n",
        "\n",
        "디큐할 때 배열 안의 원소를 옮기지 않는 큐를 구현\n",
        "\n",
        "이럴 때 사용하는 자료구조가 링 버퍼(ring buffer)다.\n",
        "\n",
        "링 버퍼는 배열의 맨 끝의 원소 뒤에 맨 앞의 원소가 연결되는 자료구조이다.\n"
      ],
      "metadata": {
        "id": "MA41vbnfDv7W"
      }
    },
    {
      "cell_type": "markdown",
      "source": [
        "배열을 링처럼 되어 있다고 생각하고 데이터를 처리하는 자료구조"
      ],
      "metadata": {
        "id": "sBXMGUaSHXkd"
      }
    },
    {
      "cell_type": "markdown",
      "source": [
        "링 버퍼를 사용하는 큐를 구현하는 프로그램을 만들어보자.\n",
        "\n",
        "(고정 길이 큐)"
      ],
      "metadata": {
        "id": "NXuPRw7IHeCF"
      }
    },
    {
      "cell_type": "code",
      "source": [
        "from typing import Any\n",
        "\n",
        "class FixedQueue:\n",
        "\n",
        "  class Empty(Exception):\n",
        "    '''비어 있는 FixedQueue에서 디큐 또는 피크할 때 내보내는 예외처리'''\n",
        "    pass\n",
        "\n",
        "  class Full(Exception):\n",
        "    '''가득 차 있는 FixedQueue에서 인큐할 때 내보내는 예외 처리'''\n",
        "    pass\n",
        "\n",
        "  def __init__(self,capacity:int) -> None:\n",
        "    '''큐 초기화'''\n",
        "    self.no=0 # 현재 데이터 개수\n",
        "    self.front=0 # 맨 앞 원소 커서, 개인적인 생각은 front와 rear의 설정이 중요하다고 생각됨\n",
        "    self.rear=0 # 맨 끝 원소 커서\n",
        "    self.capacity=capacity # 큐의 크기\n",
        "    self.que = [None] * capacity # 큐의 본체\n",
        "\n",
        "  def __len__(self) -> int:\n",
        "    '''큐에 있는 모든 데이터의 개수 반환'''\n",
        "    return self.no\n",
        "\n",
        "  def is_empty(self) -> bool:\n",
        "    '''큐가 비어있는지 판단'''\n",
        "    return self.no <= 0\n",
        "\n",
        "  def is_full(self) -> bool:\n",
        "    '''큐가 가득 차있는지 판단'''\n",
        "    return self.no >= self.capacity"
      ],
      "metadata": {
        "id": "Wd0gbl8FHr_9"
      },
      "execution_count": null,
      "outputs": []
    },
    {
      "cell_type": "markdown",
      "source": [
        "### 데이터를 넣는 enque() 함수\n",
        "\n",
        "enque() 함수는 큐에 데이터를 인큐합니다.\n",
        "\n",
        "하지만 큐가 가득 차서 인큐할 수 없는 경우에 예외 처리인 FixedQueue.Full을 내보낸다."
      ],
      "metadata": {
        "id": "F1ImQDY2JuF2"
      }
    },
    {
      "cell_type": "code",
      "source": [
        "def enque(self,x:Any) -> None:\n",
        "  '''데이터 x를 인큐'''\n",
        "  if self.is_full():\n",
        "    raise FixedQueue.Full\n",
        "  self.que[self.front]=x\n",
        "  self.no+=1\n",
        "  self.rear+=1\n",
        "  if self.rear == self.capacity: # 배열의 마지막 인덱스는 capacity-1인데, 인큐한 뒤 rear+1을 하였는데 capacity와 같다면 0으로 초기화 시켜준다. 그래야 다음 인큐시에 오류가 안남\n",
        "    self.rear=0"
      ],
      "metadata": {
        "id": "lXXuYigmJ7US"
      },
      "execution_count": null,
      "outputs": []
    },
    {
      "cell_type": "markdown",
      "source": [
        "### 데이터를 꺼내는 deque() 함수\n",
        "\n",
        "deque()함수는 큐의 맨 앞부터 데이터를 디큐하여 그 값을 반환한다.\n",
        "\n",
        "그러나 큐가 비어 있어 디큐할 수 없는 경우 예외 처리인 FixedQueue.Empty를 내보낸다."
      ],
      "metadata": {
        "id": "3djcqfeELRFc"
      }
    },
    {
      "cell_type": "code",
      "source": [
        "def deque(self) -> Any:\n",
        "  '''데이터를 디큐'''\n",
        "\n",
        "  if self.is_empty():\n",
        "    raise FixedQueue.Empty\n",
        "  x=self.que[self.front]\n",
        "  self.front+=1\n",
        "  self.no-=1\n",
        "  if self.front == self.capacity:\n",
        "    self.front = 0\n",
        "  return x"
      ],
      "metadata": {
        "id": "D03N8hK2LRBo"
      },
      "execution_count": null,
      "outputs": []
    },
    {
      "cell_type": "markdown",
      "source": [
        "### 데이터를 들여다 보는 peek()함수\n",
        "\n",
        "peek()함수는 맨 앞 데이터, 즉 다음 디큐에서 꺼낼 데이터를 들여다 봅니다.\n",
        "\n",
        "que[front]의 값을 반환할 뿐 데이터를 꺼내지 않으므로 front,rear,no의 값은 변하지 않습니다.\n",
        "\n",
        "큐가 비어 있을 때는 예외 처리FixeQueue.Empty를 내보낸다."
      ],
      "metadata": {
        "id": "UAvUtxIZTxpo"
      }
    },
    {
      "cell_type": "markdown",
      "source": [
        "### 검색하는 find() 함수\n",
        "\n",
        "find() 함수는 큐의 배열에서 value와 같은 데이터가 포함되어 있는 위치를 알아낸다.\n",
        "\n",
        "맨 앞에서 맨 끝 쪽으로 선형 검색을 수행한다.\n",
        "\n",
        "물론 스캔은 배열의 맨 앞 원소가 아니라 큐의 맨 앞 원소(front)부터 시작한다.\n",
        "\n",
        "따라서 스캔할 때 주목하는 idx를 구하는 식은 (i+idx) % capacity이다.\n",
        "\n",
        "검색에 성공하면 찾은 원소의 인덱스를 반환, 실패하면 -1을 반환한다."
      ],
      "metadata": {
        "id": "flI3Wnx_YBkh"
      }
    },
    {
      "cell_type": "markdown",
      "source": [
        "### 데이터 개수를 세는 count() 함수\n",
        "\n",
        "count() 함수는 큐에 있는 데이터(value)의 개수를 구하여 반환합니다."
      ],
      "metadata": {
        "id": "OTmcSnEUZ0NV"
      }
    },
    {
      "cell_type": "markdown",
      "source": [
        "### 데이터가 포함되어 있는지를 판단하는 `__contains__()` 함수\n",
        "\n",
        "`__contains__()` 함수는 큐에 데이터가 들어 있는지를 판단합니다.\n",
        "\n",
        "들어 있으면 True 그렇지 않으면 False\n",
        "\n",
        "내부의 count()함수를 호출하여 구현"
      ],
      "metadata": {
        "id": "KUUBR2K3Z0xO"
      }
    },
    {
      "cell_type": "markdown",
      "source": [
        "### 큐의 전체 원소를 삭제하는 clear() 함수\n",
        "\n",
        "clear()함수는 현재 큐에 들어있는 모든 데이터를 삭제"
      ],
      "metadata": {
        "id": "So4B6vEGZ0u1"
      }
    },
    {
      "cell_type": "markdown",
      "source": [
        "### 큐의 전체 데이터를 출력하는 dump() 함수\n",
        "\n",
        "dump() 함수는 큐에 들어 있는 모든 데이터를 맨 앞부터 맨 끝쪽으로 순서대로 출력합니다.\n",
        "\n",
        "하지만 큐가 비어 있으면 `큐가 비어 있습니다`라고 출력한다."
      ],
      "metadata": {
        "id": "OMAElMqjZ0tV"
      }
    },
    {
      "cell_type": "code",
      "source": [
        "def peek(self) -> Any:\n",
        "  \"\"\"큐에서 데이터를 피크(맨 앞 데이터를 들여다봄)\"\"\"\n",
        "  if self.is_empty():\n",
        "    raise FixedQueue.Empty # 큐가 비어 있는 경우에는 raise를 통해 FixedQueue.Empty 예외를 발생시킨다.\n",
        "  return self.que[self.front]\n",
        "\n",
        "def find(self,value:Any)->int:\n",
        "  \"\"\"큐에서 value를 찾아 인덱스를 반환 (없으면 -1을 반환)\"\"\"\n",
        "  for i in range(self.no):\n",
        "    idx=(i+self.front)%self.capacity\n",
        "    if self.que[idx]==value:\n",
        "      return idx\n",
        "  return -1\n",
        "\n",
        "def count(self,value:Any) -> int:\n",
        "  c=0\n",
        "  for i in range(self.no):\n",
        "    idx=(i+self.front)%self.capacity\n",
        "    if self.que[idx] == value:\n",
        "      c += 1\n",
        "  return c\n",
        "\n",
        "def __contains__(self,value:Any) -> bool:\n",
        "  \"\"\"큐에 value가 있는지 판단\"\"\"\n",
        "  return self.count(value)\n",
        "\n",
        "def clear(self) -> None:\n",
        "  self.no =self.front =self.rear= 0\n",
        "\n",
        "def dump(self) -> None:\n",
        "  \"\"\"모든 데이터를 맨 앞부터 맨 끝 순으로 출력\"\"\"\n",
        "  if self.is_empty():\n",
        "    print(\"큐가 비어있습니다.\")\n",
        "  else:\n",
        "    for i in range(self.no):\n",
        "      print(self.que[(i+self.front)%self.capacity],end='')\n",
        "    print()"
      ],
      "metadata": {
        "id": "sayoYHUaZ0qN"
      },
      "execution_count": null,
      "outputs": []
    },
    {
      "cell_type": "code",
      "source": [
        "from typing import Any\n",
        "\n",
        "class FixedQueue:\n",
        "\n",
        "  class Empty(Exception):\n",
        "    '''비어 있는 FixedQueue에서 디큐 또는 피크할 때 내보내는 예외처리'''\n",
        "    pass\n",
        "\n",
        "  class Full(Exception):\n",
        "    '''가득 차 있는 FixedQueue에서 인큐할 때 내보내는 예외 처리'''\n",
        "    pass\n",
        "\n",
        "  def __init__(self,capacity:int) -> None:\n",
        "    '''큐 초기화'''\n",
        "    self.no=0 # 현재 데이터 개수\n",
        "    self.front=0 # 맨 앞 원소 커서, 개인적인 생각은 front와 rear의 설정이 중요하다고 생각됨\n",
        "    self.rear=0 # 맨 끝 원소 커서\n",
        "    self.capacity=capacity # 큐의 크기\n",
        "    self.que = [None] * capacity # 큐의 본체\n",
        "\n",
        "  def __len__(self) -> int:\n",
        "    '''큐에 있는 모든 데이터의 개수 반환'''\n",
        "    return self.no\n",
        "\n",
        "  def is_empty(self) -> bool:\n",
        "    '''큐가 비어있는지 판단'''\n",
        "    return self.no <= 0\n",
        "\n",
        "  def is_full(self) -> bool:\n",
        "    '''큐가 가득 차있는지 판단'''\n",
        "    return self.no >= self.capacity\n",
        "\n",
        "  def enque(self,x:Any) -> None:\n",
        "    '''데이터 x를 인큐'''\n",
        "    if self.is_full():\n",
        "      raise FixedQueue.Full\n",
        "    self.que[self.rear]=x\n",
        "    self.no+=1\n",
        "    self.rear+=1\n",
        "    if self.rear == self.capacity: # 배열의 마지막 인덱스는 capacity-1인데, 인큐한 뒤 rear+1을 하였는데 capacity와 같다면 0으로 초기화 시켜준다. 그래야 다음 인큐시에 오류가 안남\n",
        "      self.rear=0\n",
        "\n",
        "  def deque(self) -> Any:\n",
        "    '''데이터를 디큐'''\n",
        "    if self.is_empty():\n",
        "      raise FixedQueue.Empty\n",
        "    x=self.que[self.front]\n",
        "    self.front+=1\n",
        "    self.no-=1\n",
        "    if self.front == self.capacity:\n",
        "      self.front = 0\n",
        "    return x\n",
        "  def peek(self) -> Any:\n",
        "    \"\"\"큐에서 데이터를 피크(맨 앞 데이터를 들여다봄)\"\"\"\n",
        "    if self.is_empty():\n",
        "      raise FixedQueue.Empty # 큐가 비어 있는 경우에는 raise를 통해 FixedQueue.Empty 예외를 발생시킨다.\n",
        "    return self.que[self.front]\n",
        "\n",
        "  def find(self,value:Any)->int:\n",
        "    \"\"\"큐에서 value를 찾아 인덱스를 반환 (없으면 -1을 반환)\"\"\"\n",
        "    for i in range(self.no):\n",
        "      idx=(i+self.front)%self.capacity\n",
        "      if self.que[idx]==value:\n",
        "        return idx\n",
        "    return -1\n",
        "\n",
        "  def count(self,value:Any) -> int:\n",
        "    c=0\n",
        "    for i in range(self.no):\n",
        "      idx=(i+self.front)%self.capacity\n",
        "      if self.que[idx] == value:\n",
        "        c += 1\n",
        "    return c\n",
        "\n",
        "  def __contains__(self,value:Any) -> bool:\n",
        "    \"\"\"큐에 value가 있는지 판단\"\"\"\n",
        "    return self.count(value)\n",
        "\n",
        "  def clear(self) -> None:\n",
        "    self.no =self.front =self.rear= 0\n",
        "\n",
        "  def dump(self) -> None:\n",
        "    \"\"\"모든 데이터를 맨 앞부터 맨 끝 순으로 출력\"\"\"\n",
        "    if self.is_empty():\n",
        "      print(\"큐가 비어있습니다.\")\n",
        "    else:\n",
        "      for i in range(self.no):\n",
        "        print(self.que[(i+self.front)%self.capacity],end='  ')\n",
        "      print()"
      ],
      "metadata": {
        "id": "ihXi8UUHiYH9"
      },
      "execution_count": null,
      "outputs": []
    },
    {
      "cell_type": "markdown",
      "source": [
        "### 링 버퍼로 큐 프로그램 만들기\n",
        "\n",
        "큐 FixedQueue 클래스를 실제 사용하는 프로그램"
      ],
      "metadata": {
        "id": "QWviLc8ci23l"
      }
    },
    {
      "cell_type": "code",
      "source": [
        "from enum import Enum\n",
        "# from fixed_queue import FixedQueue\n",
        "\n",
        "Menu=Enum('Menu',['인큐','디큐','피크','검색','덤프','종료'])\n",
        "\n",
        "def select_menu() -> Menu:\n",
        "  \"\"\"메뉴 선택\"\"\"\n",
        "  s = [f'({m.value}){m.name}' for m in Menu]\n",
        "  while True:\n",
        "    print(*s,sep='    ',end='')\n",
        "    n=int(input(\": \"))\n",
        "    if 1 <= n <= len(Menu):\n",
        "      return Menu(n)\n",
        "\n",
        "q = FixedQueue(64) # 최대 64개를 인큐할 수 있는 큐\n",
        "\n",
        "while True:\n",
        "  print(f'현재 데이터 개수: {len(q)} / {q.capacity}') # q.capacity 인스턴스.속성 접근\n",
        "  menu=select_menu() # 메뉴 선택\n",
        "\n",
        "  if menu == Menu.인큐:\n",
        "    x = input('인큐할 데이터를 입력하세요.: ')\n",
        "    try:\n",
        "      q.enque(x)\n",
        "    except FixedQueue.Full as e:\n",
        "      print('큐가 가득 찼습니다.', e)\n",
        "\n",
        "  elif menu == Menu.디큐: # 디큐\n",
        "    try:\n",
        "      x=q.deque()\n",
        "      print(f'디큐한 데이터는 {x}입니다.')\n",
        "    except FixedQueue.Empty as e:\n",
        "      print('큐가 비어 있습니다. ',e)\n",
        "\n",
        "  elif menu == Menu.피크:\n",
        "    try:\n",
        "      x=q.peek()\n",
        "      print(f'피크한 데이터는 {x}입니다.')\n",
        "    except FixedQueue.Empty as e:\n",
        "      print(\"큐가 비어있습니다. \",e)\n",
        "\n",
        "  elif menu == Menu.검색:\n",
        "    x=input(\"검색할 값을 입력하세요.: \")\n",
        "    if x in q:\n",
        "      print(f'{q.count(x)}개 포함되고, 맨 앞의 위치는 {q.find(x)}입니다.')\n",
        "    else:\n",
        "      print('검색값을 찾을 수 없습니다.')\n",
        "\n",
        "  elif menu == Menu.덤프:\n",
        "    q.dump()\n",
        "  else:\n",
        "    break"
      ],
      "metadata": {
        "id": "j2F8rd48jEI3"
      },
      "execution_count": null,
      "outputs": []
    }
  ]
}