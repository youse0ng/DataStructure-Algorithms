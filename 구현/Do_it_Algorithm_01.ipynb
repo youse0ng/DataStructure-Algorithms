{
  "cells": [
    {
      "cell_type": "markdown",
      "metadata": {
        "colab_type": "text",
        "id": "view-in-github"
      },
      "source": [
        "<a href=\"https://colab.research.google.com/github/youse0ng/Algorithms_Study/blob/main/Do_it_Algorithm_01.ipynb\" target=\"_parent\"><img src=\"https://colab.research.google.com/assets/colab-badge.svg\" alt=\"Open In Colab\"/></a>"
      ]
    },
    {
      "cell_type": "code",
      "execution_count": null,
      "metadata": {},
      "outputs": [
        {
          "name": "stdout",
          "output_type": "stream",
          "text": [
            "[[1, 1], [2, 2]]\n",
            "1\n",
            "-1\n",
            "[[1, 1], [2, 1]]\n",
            "[[1, 1]]\n"
          ]
        }
      ],
      "source": [
        "class MyHashMap:\n",
        "    def __init__(self):\n",
        "        self.hashtable = []\n",
        "\n",
        "    def put(self, key: int, value: int) -> None:\n",
        "        for node in self.hashtable:\n",
        "            if node[0] == key:\n",
        "                node[1] = value\n",
        "                return None\n",
        "        self.hashtable.append([key,value])\n",
        "\n",
        "                            \n",
        "    def get(self, key: int) -> int:\n",
        "        for node in self.hashtable:\n",
        "            if node[0] == key:\n",
        "                return node[1]\n",
        "        return -1\n",
        "\n",
        "    def remove(self, key: int) -> None:\n",
        "        if not len(self.hashtable):\n",
        "            return None\n",
        "        else:\n",
        "            for idx in range(len(self.hashtable)):\n",
        "                if self.hashtable[idx][0] == key:\n",
        "                    self.hashtable.pop(idx)\n",
        "                    break\n",
        "a = MyHashMap()\n",
        "a.put(1,1)\n",
        "a.put(2,2)\n",
        "print(a.hashtable)\n",
        "print(a.get(1))\n",
        "print(a.get(3))\n",
        "a.put(2,1)\n",
        "print(a.hashtable)\n",
        "a.remove(2)\n",
        "print(a.hashtable)"
      ]
    },
    {
      "cell_type": "code",
      "execution_count": 10,
      "metadata": {},
      "outputs": [
        {
          "name": "stdout",
          "output_type": "stream",
          "text": [
            "2\n",
            "1\n",
            "[2, 5]\n"
          ]
        }
      ],
      "source": [
        "class MyQueue:\n",
        "    def __init__(self):\n",
        "        self.queue= []\n",
        "\n",
        "    def push(self, x: int) -> None:\n",
        "        self.queue.append(x)\n",
        "\n",
        "    def pop(self) -> int:\n",
        "        if not self.empty():\n",
        "            result = self.queue[0]\n",
        "            self.queue= self.queue[1:]\n",
        "            return result\n",
        "        return None\n",
        "        \n",
        "    def peek(self) -> int:\n",
        "        if not self.empty():\n",
        "            return self.queue[0]\n",
        "        return None\n",
        "    \n",
        "    def empty(self) -> bool:\n",
        "        if len(self.queue) <= 0:\n",
        "            return True\n",
        "        else:\n",
        "            return False\n",
        "        \n",
        "    def __len__(self) -> int:\n",
        "        return len(self.queue)\n",
        "    \n",
        "obj = MyQueue()\n",
        "obj.push(1)\n",
        "obj.push(2)\n",
        "param = obj.pop()\n",
        "obj.push(5)\n",
        "param_2 = obj.peek()\n",
        "print(param_2)\n",
        "print(param)\n",
        "print(obj.queue)\n"
      ]
    },
    {
      "cell_type": "markdown",
      "metadata": {
        "id": "khtXh6qxKzME"
      },
      "source": [
        "## 1-1 문자열과 숫자 입력받기"
      ]
    },
    {
      "cell_type": "code",
      "execution_count": null,
      "metadata": {
        "id": "lJ-gasWAJ6aU"
      },
      "outputs": [],
      "source": [
        "print(\"이름을 입력하세요.:\",end='') # end 매개변수를 이용하면 줄바꿈이 이루어 지지않고 '이름을 입력하세요.:' 다음에 입력값이 출력됨\n",
        "name=input(\"이름을 입력하세요: \")\n",
        "\n",
        "print(f'안녕하세요? {name} 님.')"
      ]
    },
    {
      "cell_type": "markdown",
      "metadata": {
        "id": "xxP-oLQHK4vs"
      },
      "source": [
        "## 1.2 세 정수의 대소 관계와 중앙 값"
      ]
    },
    {
      "cell_type": "markdown",
      "metadata": {
        "id": "Sin1fKgDTEi4"
      },
      "source": [
        "\n",
        "세 정수 a,b,c 의 대소 관계의 조합은 13가지이다.\n",
        "- p23 결정트리 그림 참조\n"
      ]
    },
    {
      "cell_type": "code",
      "execution_count": null,
      "metadata": {
        "id": "XUf9c_IQTwfN"
      },
      "outputs": [],
      "source": [
        "def med(a,b,c):\n",
        "  \"\"\"a,b,c 의 중앙값을 구하여 반환\"\"\"\n",
        "  if a>=b:\n",
        "    if b>=c:\n",
        "      return b\n",
        "    elif a<=c:\n",
        "      return a\n",
        "    else:\n",
        "      return c\n",
        "  elif a>c:\n",
        "    return a\n",
        "  elif b>c:\n",
        "    return c\n",
        "  else:\n",
        "    return b\n",
        "\n",
        "print('세 정수의 중앙값을 구합니다.')\n",
        "a=int(input('정수 a의 값을 입력하세요:'))\n",
        "b=int(input('정수 b의 값을 입력하세요:'))\n",
        "c=int(input('정수 c의 값을 입력하세요:'))\n",
        "\n",
        "print(f\"중앙값은 {med(a,b,c)}입니다.\")"
      ]
    },
    {
      "cell_type": "markdown",
      "metadata": {
        "id": "NoEa2cNSWHqb"
      },
      "source": [
        "### if-elif문 와 if -if 문의 차이\n",
        "\n",
        "if ~ if문의 경우 항상 두 if문의 조건을 모두 체크하는 반면,\n",
        "\n",
        "if ~ elif 문의 경우 앞의 if문이 만족되면 뒤의 elif 문 조건은 체크하지 않습니다."
      ]
    },
    {
      "cell_type": "code",
      "execution_count": null,
      "metadata": {
        "id": "sIPCqbeKWNgA"
      },
      "outputs": [],
      "source": [
        "### if ~ if 문 ###\n",
        "\n",
        "a = 4\n",
        "\n",
        "if a > 3:\n",
        "    print('a가 3보다 큽니다!')\n",
        "if a > 0:\n",
        "    print('a가 0보다 큽니다!')\n",
        "\n",
        "# 출력 결과\n",
        "a가 3보다 큽니다!\n",
        "a가 0보다 큽니다!\n",
        "\n",
        "### if ~ elif 문 ###\n",
        "\n",
        "a = 4\n",
        "\n",
        "if a > 3:\n",
        "    print('a가 3보다 큽니다!')\n",
        "elif a > 0:\n",
        "    print('a가 0보다 큽니다!')\n",
        "\n",
        "# 출력 결과\n",
        "a가 3보다 큽니다!"
      ]
    },
    {
      "cell_type": "code",
      "execution_count": null,
      "metadata": {
        "id": "1YmTbw_3zE2P"
      },
      "outputs": [],
      "source": [
        "x = 10\n",
        "\n",
        "if x > 10:\n",
        "    print(\"x는 10보다 큽니다.\")\n",
        "elif x < 10:\n",
        "    print(\"x는 10보다 작습니다.\")\n",
        "else:\n",
        "    print(\"x는 10과 같습니다.\")"
      ]
    },
    {
      "cell_type": "markdown",
      "metadata": {
        "id": "Z7F4cfHzzdV7"
      },
      "source": [
        "## 반복 과정에서 조건 판단하기\n",
        "\n"
      ]
    },
    {
      "cell_type": "markdown",
      "metadata": {
        "id": "IAWI11fk0AE8"
      },
      "source": [
        "### a부터 b까지 정수의 합을 구하는 과정"
      ]
    },
    {
      "cell_type": "code",
      "execution_count": null,
      "metadata": {
        "id": "OLkcD96jwTVr"
      },
      "outputs": [],
      "source": [
        "print('a부터 b까지 정수의 합을 구합니다.')\n",
        "\n",
        "a= int(input('정수 a를 입력하시오.'))\n",
        "b= int(input('정수 b를 입력하시오.'))\n",
        "\n",
        "if a>b:\n",
        "  a,b=b,a\n",
        "\n",
        "sum=0\n",
        "for i in range(a,b+1):\n",
        "  if i < b:\n",
        "    print(f\"{i} + \",end='')\n",
        "  else:\n",
        "    print(f\"{i} = \",end='')\n",
        "  sum+=i\n",
        "print(sum )"
      ]
    },
    {
      "cell_type": "markdown",
      "metadata": {
        "id": "BhJR65nOz0gs"
      },
      "source": [
        "### +와-를 번갈아 출력하기"
      ]
    },
    {
      "cell_type": "code",
      "execution_count": null,
      "metadata": {
        "id": "k6Pu18Ew0JSr"
      },
      "outputs": [],
      "source": [
        "print(\"+와 -를 번갈아 출력합니다.\")\n",
        "n=int(input(\"몇 개를 출력할까요?\"))\n",
        "\n",
        "for i in range(n):\n",
        "  if i % 2 ==0:\n",
        "    print(\"+\",end='')\n",
        "  else:\n",
        "    print(\"-\",end='')\n",
        "\n",
        "\n",
        "# 하지만 이 코드는 안좋은 점이 두가지 있는데,\n",
        "# 하나는 n이 만약 10000이라면 if문 조건을 검사하는데 10000번을 해야한다.\n",
        "# 또 다른 이유는 상황에따라 코드를 유연하게 수정하기 어렵다는 것이다."
      ]
    },
    {
      "cell_type": "code",
      "execution_count": null,
      "metadata": {
        "id": "T5YjQtFa093w"
      },
      "outputs": [],
      "source": [
        "# 더 나은 버전\n",
        "\n",
        "print(\"+와 -를 번갈아 출력합니다.\")\n",
        "n=int(input(\"몇 개를 출력할까요?\"))\n",
        "\n",
        "for _ in range(n//2):\n",
        "  print(\"+-\",end='')\n",
        "\n",
        "if n%2:\n",
        "  print('+',end='')"
      ]
    },
    {
      "cell_type": "markdown",
      "metadata": {
        "id": "-rX3Pehu1FmF"
      },
      "source": [
        "### '*' 을 n개 출력하되 w개마다 줄바꿈하기"
      ]
    },
    {
      "cell_type": "code",
      "execution_count": null,
      "metadata": {
        "id": "gkehtG1EW2QQ"
      },
      "outputs": [],
      "source": [
        "print('*을 출력합니다.')\n",
        "\n",
        "n=int(input(\"몇 개를 출력할까요?\"))\n",
        "w=int(input(\"몇 개마다 줄바꿈을 할까요??\"))\n",
        "\n",
        "for _ in range(n//w):\n",
        "  print('*'* w)\n",
        "\n",
        "rest = n % w\n",
        "print('*'*rest)\n"
      ]
    },
    {
      "cell_type": "markdown",
      "metadata": {
        "id": "jTgMPSEHYw_c"
      },
      "source": [
        "### 양수만 입력받고 n까지의 합을 구하기\n"
      ]
    },
    {
      "cell_type": "code",
      "execution_count": null,
      "metadata": {
        "id": "AcJNCTrUY0wl"
      },
      "outputs": [],
      "source": [
        "print(\"n까지의 합을 구합니다. (단, 양수만 입력하시오.)\")\n",
        "\n",
        "while True:\n",
        "  n=int(input(\"정수를 입력하시오.:\"))\n",
        "  if n>0:\n",
        "    break\n",
        "  else:\n",
        "    print(f\"입력하신 정보는 음수 입니다. 다시 입력해주세요 \")\n",
        "    pass\n",
        "sum=0\n",
        "i=1\n",
        "\n",
        "for i in range(i,n+1):\n",
        "  sum+=i\n",
        "print(f\"1부터 {n} 까지 정수의 합은 {sum}입니다.\")"
      ]
    },
    {
      "cell_type": "markdown",
      "metadata": {
        "id": "DwCUiGA7aL8U"
      },
      "source": [
        "파이썬은 사후판단반복문을 제공하지않아 `Break` 를 사용한다.\n"
      ]
    },
    {
      "cell_type": "markdown",
      "metadata": {
        "id": "YtwaAG0e_LDg"
      },
      "source": [
        "### 직사각형 넓이로 변의 길이 구하기\n",
        "Ex) 직사각형 넓이가 32이면, 1X32,2X16,4X8 만 출력하고, 32*1은 출력하지 않는다."
      ]
    },
    {
      "cell_type": "code",
      "execution_count": null,
      "metadata": {
        "id": "IrgF00WoENM2"
      },
      "outputs": [],
      "source": [
        "area=int(input(\"직사각형의 넓이를 입력하시오:\"))\n",
        "\n",
        "for i in range(1,area+1):\n",
        "  print(bool(area%i))"
      ]
    },
    {
      "cell_type": "markdown",
      "metadata": {
        "id": "r8QZxu7fHxVX"
      },
      "source": [
        "개인적으로 이 직사각형 넓이를 입력하는 문제는 break와 continue에 대한 개념을 잡을때 좋은 문제인 것 같다. 다시 보자.\n",
        "\n"
      ]
    },
    {
      "cell_type": "code",
      "execution_count": null,
      "metadata": {
        "id": "H7Qk_C6x__SM"
      },
      "outputs": [],
      "source": [
        "# 사실은 약수를 나열하는 프로그램입니다...\n",
        "#예를들어, 32의 약수 1 2 4 8 16 32를 1 32 2 16 4 8로 출력하게 하는게 목표\n",
        "#\n",
        "area=int(input(\"직사각형의 넓이를 입력하시오:\"))\n",
        "\n",
        "for i in range(1,area+1):\n",
        "  if i * i >area: break # break 를 걸면 for 문 과 while문 반복문에서 나가게 된다.\n",
        "  if area % i: continue\n",
        "  # area % i가 False (0)을 출력하면 area의 약수를 의미하고, Continue 는 반복문 내의 명령문의 나머지 부분을 건너뜀\n",
        "  # area=32이고 i가 1,2는 False 를 출력하므로 Continue를 실행하지 않아서 print(f\"{i} x {area//i}\")를 수행하지만,\n",
        "  # i가 3부터는 area%3=2를 출력하므로 True가 되어 Continue를 실행한다. 그러므로 print(f\"{i} x {area//i}\")를 실행하지않고, for 문으로 되돌아간다.\n",
        "  print(f\"{i} x {area//i}\")\n"
      ]
    },
    {
      "cell_type": "markdown",
      "metadata": {
        "id": "i5F2VLg9IgTh"
      },
      "source": [
        "### 10~99사이의 난수 n개 생성하기 (13이 나오면 중단)\n",
        "\n",
        "for-else문 나는 else라는 것이 if문에만 오는줄 알았지만, for에도 등장함을 오늘 처음알았다.\n"
      ]
    },
    {
      "cell_type": "code",
      "execution_count": null,
      "metadata": {
        "id": "fVM9d5PqIuub"
      },
      "outputs": [],
      "source": [
        "import random\n",
        "\n",
        "n=int(input(\"난수의 개수를 입력하시오.\"))\n",
        "\n",
        "for _ in range(n):\n",
        "  r=random.randint(10,99)\n",
        "  print(r,end=' ')\n",
        "  if r==13:\n",
        "    print('\\n 프로그램을 중단합니다.')\n",
        "    break\n",
        "else:\n",
        "  print(\"\\n 난수 생성을 종료합니다.\")"
      ]
    },
    {
      "cell_type": "markdown",
      "metadata": {
        "id": "cjVoFSMTlfhE"
      },
      "source": [
        "## 반복문 건너뛰기와 여러범위 스캔\n"
      ]
    },
    {
      "cell_type": "code",
      "execution_count": null,
      "metadata": {
        "id": "bgYXo8jelihZ"
      },
      "outputs": [],
      "source": [
        "# 1~12까지 8을 건너뛰고 출력하기 1\n",
        "\n",
        "for i in range(1,13):\n",
        "  if i == 8 :\n",
        "    continue\n",
        "  print(i,end=' ')\n",
        "#하지만 이는 매우 비효율적...인 프로그래밍"
      ]
    },
    {
      "cell_type": "code",
      "execution_count": null,
      "metadata": {
        "id": "I5l9p1VGlpJ0"
      },
      "outputs": [],
      "source": [
        "# 1~12까지 8을 건너뛰고 출력하기 2\n",
        "\n",
        "for i in list(range(1,8))+ list(range(9,13)):\n",
        "  print(i, end=' ')"
      ]
    },
    {
      "cell_type": "markdown",
      "metadata": {
        "id": "cIo_NgXWnIue"
      },
      "source": [
        "## 비교 연산자를 연속으로 사용하는 방법과 드모르간 법칙"
      ]
    },
    {
      "cell_type": "code",
      "execution_count": null,
      "metadata": {
        "id": "phREcIKbncJT"
      },
      "outputs": [],
      "source": [
        "# 2자리 양수 (10~99) 입력받기\n",
        "\n",
        "print(\"2자리 양수를 입력하세여\")\n",
        "\n",
        "while True:\n",
        "  no=int(input(\"값을 입력하세요.:\"))\n",
        "  if no >=10 and no<100:  # 비교연산자를 연속 사용하여 똑같이 기능 구현  if 10<=no<100:\n",
        "    break\n",
        "\n",
        "print(no, end='')"
      ]
    },
    {
      "cell_type": "code",
      "execution_count": null,
      "metadata": {
        "id": "iEFQt--Jp4j7"
      },
      "outputs": [],
      "source": [
        "# 2자리 양수 (10~99) 입력받기\n",
        "# 비교연산자를 연속 사용하여 똑같이 기능 구현\n",
        "\n",
        "print(\"2자리 양수를 입력하세여\")\n",
        "\n",
        "while True:\n",
        "  no=int(input(\"값을 입력하세요.:\"))\n",
        "  if 10<=no<100:\n",
        "    break\n",
        "\n",
        "print(no, end='')"
      ]
    },
    {
      "cell_type": "code",
      "execution_count": null,
      "metadata": {
        "id": "0ua6og_RqAFO"
      },
      "outputs": [],
      "source": [
        "# 2자리 양수 (10~99) 입력받기\n",
        "# 드모르간 법칙을 이용한 비교방법\n",
        "\n",
        "print(\"2자리 양수를 입력하세여\")\n",
        "\n",
        "while True:\n",
        "  no=int(input(\"값을 입력하세요.:\"))\n",
        "  if not(no<10 or no>=100):\n",
        "    break\n",
        "print(no, end='')"
      ]
    },
    {
      "cell_type": "markdown",
      "metadata": {
        "id": "R5q3R2OjtZmS"
      },
      "source": [
        "# 다중 루프 알아보기\n",
        "반복문이 중첩하는 정도에 따라 이중루프 삼중루프.. 이를 통틀어 다중루프 라고한다."
      ]
    },
    {
      "cell_type": "markdown",
      "metadata": {
        "id": "KgoqxcO1uNoQ"
      },
      "source": [
        "### 구구단 곱셈표 출력하기\n"
      ]
    },
    {
      "cell_type": "code",
      "execution_count": null,
      "metadata": {
        "id": "lFDT63CNuV-_"
      },
      "outputs": [],
      "source": [
        "# 구구단 곱셈표 출력하기\n",
        "\n",
        "print('-'* 27)\n",
        "\n",
        "for i in range(1,9+1): # 행 부분\n",
        "  for j in range(1,9+1): # 열 부분\n",
        "    print(f\"{i*j: 5}\",end='') # :3 은 가지런히 출력하기 위해 3자리로 맞춤\n",
        "  print()"
      ]
    },
    {
      "cell_type": "markdown",
      "metadata": {
        "id": "8lRyBht0ujoS"
      },
      "source": [
        "### 직각 이등변 삼각형으로 출력하기"
      ]
    },
    {
      "cell_type": "code",
      "execution_count": null,
      "metadata": {
        "id": "6veorJ8JxKwK"
      },
      "outputs": [],
      "source": [
        "# 이중 루프를 이용하여 왼쪽 아래가 직각인 이등변 삼각형을 *로 표현하기\n",
        "\n",
        "print(\"왼쪽 아래가 직각인 이등변 삼각형을 출력합니다.\")\n",
        "n=int(input(\"짧은 변의 길이를 입력하세요.\"))\n",
        "\n",
        "for i in range(n):\n",
        "  for j in range(i+1):\n",
        "    print(\"*\",end='')\n",
        "  print()"
      ]
    }
  ],
  "metadata": {
    "colab": {
      "authorship_tag": "ABX9TyO37a6oHilsjmGiCMfWUJl5",
      "include_colab_link": true,
      "private_outputs": true,
      "provenance": [],
      "toc_visible": true
    },
    "kernelspec": {
      "display_name": "base",
      "language": "python",
      "name": "python3"
    },
    "language_info": {
      "codemirror_mode": {
        "name": "ipython",
        "version": 3
      },
      "file_extension": ".py",
      "mimetype": "text/x-python",
      "name": "python",
      "nbconvert_exporter": "python",
      "pygments_lexer": "ipython3",
      "version": "3.12.4"
    }
  },
  "nbformat": 4,
  "nbformat_minor": 0
}
