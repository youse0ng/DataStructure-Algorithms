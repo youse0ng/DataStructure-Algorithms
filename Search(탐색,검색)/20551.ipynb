{
 "cells": [
  {
   "cell_type": "markdown",
   "id": "31d9583c",
   "metadata": {},
   "source": [
    "- 5 5\n",
    "- 9\n",
    "- 0\n",
    "- -1\n",
    "- 3\n",
    "- 2\n",
    "- -1\n",
    "- 10\n",
    "- 5\n",
    "- 9\n",
    "- 0"
   ]
  },
  {
   "cell_type": "markdown",
   "id": "fa469b73",
   "metadata": {},
   "source": [
    "- 0\n",
    "- -1\n",
    "- -1\n",
    "- 4\n",
    "- 1"
   ]
  },
  {
   "cell_type": "markdown",
   "id": "6afc6b0e",
   "metadata": {},
   "source": [
    "# 시간초과"
   ]
  },
  {
   "cell_type": "code",
   "execution_count": null,
   "id": "4c6fe095",
   "metadata": {},
   "outputs": [
    {
     "name": "stdout",
     "output_type": "stream",
     "text": [
      "1\n",
      "-1\n",
      "4\n",
      "0\n"
     ]
    }
   ],
   "source": [
    "import sys\n",
    "N, M = map(int,sys.stdin.readline().split())\n",
    "sorted_sequence = sorted([int(sys.stdin.readline()) for _ in range(N)])\n",
    "\n",
    "def binary_search(sorted_sequence:list,target):\n",
    "    \"\"\"\n",
    "    sorted_sequence: 정렬된 배열\n",
    "    target: 찾고자 하는 원소\n",
    "    \"\"\"\n",
    "    start = 0 # 시작 커서\n",
    "    end = len(sorted_sequence) - 1 # 마지막 커서\n",
    "\n",
    "    while start <= end:\n",
    "        mid = (start+end)//2\n",
    "        if sorted_sequence[mid] == target: # 가장 첫 요소를 고를 수 있도록 설계\n",
    "            if sorted_sequence[mid -1] == target: # 똑같은 요소가 이전에 존재한다면\n",
    "                while sorted_sequence[mid] == target: # 가장 끝에 있는 인덱스를 반환토록한다.\n",
    "                    mid -= 1\n",
    "                return mid + 1\n",
    "            else:\n",
    "                return mid\n",
    "        elif sorted_sequence[mid] > target:\n",
    "            end = mid - 1\n",
    "        else:\n",
    "            start = mid + 1\n",
    "    else:\n",
    "        return -1\n",
    "\n",
    "for _ in range(M):\n",
    "    target = int(sys.stdin.readline())\n",
    "    print(binary_search(sorted_sequence,target))"
   ]
  },
  {
   "cell_type": "markdown",
   "id": "5d2b1a63",
   "metadata": {},
   "source": [
    "# 이진 탐색 (Binary Search)\n",
    "\n",
    "시간 복잡도 - O(logN)\n",
    "\n",
    "1. 시작 인덱스와 마지막 인덱스 사이의 중간 값에서 소수점 이하를 버려 중간 인덱스를 지정\n",
    "2. 중간 인덱스에 해당하는 데이터와 현재 찾으려는 데이터와 같은지 비교\n",
    "3. 중간 값이 더 크면 중간 인덱스 이후의 값은 확인 X, 마지막 인덱스를 중간 인덱스로부터 한 칸 앞으로 옮김. 반대로, 중간 값이 더 작다면, 시작 인덱스를 중간 인덱스로부터 한 칸 뒤로 옮김\n",
    "4. 중간 인덱스의 값과 찾으려는 값이 같아질 때까지 2,3을 반복"
   ]
  },
  {
   "cell_type": "markdown",
   "id": "75223718",
   "metadata": {},
   "source": [
    "## 중복된 요소가 있어도 인덱스 에러가 나지 않고 가장 안전하게 출력할 수 있는 방법"
   ]
  },
  {
   "cell_type": "code",
   "execution_count": null,
   "id": "de7f352a",
   "metadata": {},
   "outputs": [
    {
     "name": "stdout",
     "output_type": "stream",
     "text": [
      "[2, 3, 3, 3, 4, 4, 5, 9]\n",
      "1\n",
      "-1\n",
      "4\n",
      "0\n"
     ]
    }
   ],
   "source": [
    "def binary_search(sorted_sequence:list,target):\n",
    "    \"\"\"\n",
    "    sorted_sequence: 정렬된 배열\n",
    "    target: 찾고자 하는 원소\n",
    "    \"\"\"\n",
    "    start = 0 # 시작 커서\n",
    "    end = len(sorted_sequence) - 1 # 마지막 커서\n",
    "\n",
    "    while start <= end:\n",
    "        mid = (start+end)//2\n",
    "        if sorted_sequence[mid] == target: # 가장 첫 요소를 고를 수 있도록 설계\n",
    "            if mid == end: # 이거를 구현하는 것이 존나게 어려운데...\n",
    "                break\n",
    "            end = mid\n",
    "        elif sorted_sequence[mid] > target:\n",
    "            end = mid - 1\n",
    "        else:\n",
    "            start = mid + 1\n",
    "    if sorted_sequence[mid] == target: # 가장 첫 번째 요소를 고를 수 있도록\n",
    "        return mid #이거를 구현하는게 어려움.. 진짜 생각이 안듦\n",
    "    else:\n",
    "        return -1\n",
    "\n",
    "a = sorted([3,3,4,9,2,5,3,4])\n",
    "print(a)\n",
    "print(binary_search(a,3))\n",
    "print(binary_search(a,10))\n",
    "print(binary_search(a,4))\n",
    "print(binary_search(a,2))"
   ]
  },
  {
   "cell_type": "code",
   "execution_count": null,
   "id": "f112e417",
   "metadata": {},
   "outputs": [],
   "source": []
  }
 ],
 "metadata": {
  "kernelspec": {
   "display_name": "base",
   "language": "python",
   "name": "python3"
  },
  "language_info": {
   "codemirror_mode": {
    "name": "ipython",
    "version": 3
   },
   "file_extension": ".py",
   "mimetype": "text/x-python",
   "name": "python",
   "nbconvert_exporter": "python",
   "pygments_lexer": "ipython3",
   "version": "3.11.7"
  }
 },
 "nbformat": 4,
 "nbformat_minor": 5
}
