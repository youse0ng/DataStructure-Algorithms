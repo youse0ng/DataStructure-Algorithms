{
 "cells": [
  {
   "cell_type": "markdown",
   "id": "7127834e",
   "metadata": {},
   "source": [
    "# 빗물 트래핑\n",
    "- 높이를 입력바다 비 온 후 얼마나 많은 물이 쌓일 수 있는지 계산하라.\n"
   ]
  },
  {
   "cell_type": "markdown",
   "id": "d6d59636",
   "metadata": {},
   "source": [
    "# 투 포인터 해결\n",
    "\n",
    "1. 최대 높이의 막대까지 각각 좌우 기둥 최대 높이 left_max, right_max가 현재 높이와의 차이만큼 물 높이를 더해간다.\n",
    "\n",
    "2. 좌우 left_max, right_max가 가운데로 점점 이동하도록"
   ]
  },
  {
   "cell_type": "code",
   "execution_count": 7,
   "id": "8de7f180",
   "metadata": {},
   "outputs": [
    {
     "data": {
      "text/plain": [
       "6"
      ]
     },
     "execution_count": 7,
     "metadata": {},
     "output_type": "execute_result"
    }
   ],
   "source": [
    "def trap(height:list):\n",
    "    if not height:\n",
    "        return 0 \n",
    "    \n",
    "    volume = 0\n",
    "    left,right = 0, len(height)-1\n",
    "    left_max, right_max = height[left], height[right]\n",
    "    \n",
    "    while left < right:\n",
    "        left_max, right_max = max(height[left], left_max), max(height[right], right_max)\n",
    "        \n",
    "        # 더 높은 쪽을 행해 투 포인터 이동\n",
    "        if left_max <= right_max:\n",
    "            volume += left_max - height[left]\n",
    "            left += 1\n",
    "        else:\n",
    "            volume += right_max - height[right]\n",
    "            right -= 1\n",
    "    return volume\n",
    "trap([0,1,0,2,1,0,1,3,2,1,2,1])\n",
    "        "
   ]
  }
 ],
 "metadata": {
  "kernelspec": {
   "display_name": "base",
   "language": "python",
   "name": "python3"
  },
  "language_info": {
   "codemirror_mode": {
    "name": "ipython",
    "version": 3
   },
   "file_extension": ".py",
   "mimetype": "text/x-python",
   "name": "python",
   "nbconvert_exporter": "python",
   "pygments_lexer": "ipython3",
   "version": "3.12.4"
  }
 },
 "nbformat": 4,
 "nbformat_minor": 5
}
