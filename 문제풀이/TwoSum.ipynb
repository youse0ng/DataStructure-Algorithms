{
 "cells": [
  {
   "cell_type": "markdown",
   "id": "a8dde168",
   "metadata": {},
   "source": [
    "# 배열\n",
    "\n",
    "- 두 수의 합 (덧셈해서 타겟을 만들 수 있는 두 숫자의 인덱스)\n",
    "1. 브루트 포스\n",
    "2. Dict를 이용한 풀이, 타겟에서 뺀 수를 이용\n"
   ]
  },
  {
   "cell_type": "markdown",
   "id": "7899cc44",
   "metadata": {},
   "source": [
    "# 브루트 포스 풀이\n",
    "\n",
    "- num = [2,7,11,15]\n",
    "- target = 9\n",
    "\n",
    "- (2,7), (2,11), (2,15)\n",
    "- (7,11), (7,15)\n",
    "- (11,15)\n",
    "와 같이 전체 탐색을 진행해서 두 수의 합이 target과 같은 인덱스를 찾으면된다."
   ]
  },
  {
   "cell_type": "code",
   "execution_count": null,
   "id": "d5d32e1a",
   "metadata": {},
   "outputs": [
    {
     "name": "stdout",
     "output_type": "stream",
     "text": [
      "0 1\n"
     ]
    }
   ],
   "source": [
    "# 누구나 떠올릴 수 있는 풀이\n",
    "# 완전 탐색 O(n^2)\n",
    "def TwoSum(nums:list, target:int):\n",
    "    for i in range(len(nums)):\n",
    "        for j in range(i+1,len(nums)):\n",
    "            if nums[i] + nums[j] == target:\n",
    "                print(i, j)\n",
    "            \n",
    "TwoSum([2,7,11,15],9)"
   ]
  },
  {
   "cell_type": "markdown",
   "id": "86d9f64e",
   "metadata": {},
   "source": [
    "# 첫 번째 수를 뺀 결과 키조회 (DICT)\n",
    "\n",
    "- 타겟에서 첫 번째 수를 뺴면, 두 번째 수를 바로 알아볼 수 있다. \n",
    "- 두 번째 수를 키로 저장하고, (타겟에서 첫 번째 수를 뺀 값)을 키로 조회하면 정답을 찾아낼 수 있다.\n"
   ]
  },
  {
   "cell_type": "code",
   "execution_count": null,
   "id": "4c460bce",
   "metadata": {},
   "outputs": [
    {
     "name": "stdout",
     "output_type": "stream",
     "text": [
      "1 2\n"
     ]
    }
   ],
   "source": [
    "def TwoSum(nums:list, target:int): # O(n) 시간\n",
    "    result = {}\n",
    "    for i, number in enumerate(nums): # 타겟에서 첫 번째 수를 뺀 값을 Dict에 저장 그리고 값은 인덱스로\n",
    "        substract = target - number\n",
    "        result[substract] = i # {7:0, 2:1, -2:2, -6:3}\n",
    "        \n",
    "    for key in result: # (타겟에서 첫 번째 수를 뺀 값이 nums에 존재하는지 찾기)\n",
    "        if key in nums:\n",
    "            print(result[key], nums.index(key))\n",
    "            break\n",
    "            \n",
    "TwoSum([2,7,11,15],18)"
   ]
  }
 ],
 "metadata": {
  "kernelspec": {
   "display_name": "base",
   "language": "python",
   "name": "python3"
  },
  "language_info": {
   "codemirror_mode": {
    "name": "ipython",
    "version": 3
   },
   "file_extension": ".py",
   "mimetype": "text/x-python",
   "name": "python",
   "nbconvert_exporter": "python",
   "pygments_lexer": "ipython3",
   "version": "3.12.4"
  }
 },
 "nbformat": 4,
 "nbformat_minor": 5
}
