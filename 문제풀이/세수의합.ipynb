{
 "cells": [
  {
   "cell_type": "markdown",
   "id": "1987d6a9",
   "metadata": {},
   "source": [
    "# 세 수의 합\n",
    "- 배열을 입력받아 합으로 0으로 만들 수 있는 3개의 Element 구하시오.\n",
    "\n"
   ]
  },
  {
   "cell_type": "markdown",
   "id": "8df9051f",
   "metadata": {},
   "source": [
    "# 브루트 포스 $O(n^3)$"
   ]
  },
  {
   "cell_type": "code",
   "execution_count": null,
   "id": "8330454a",
   "metadata": {},
   "outputs": [],
   "source": [
    "def threeSum(nums:list):\n",
    "    results = []\n",
    "    nums.sort()\n",
    "    \n",
    "    # 브루트 포스 n^3 반복\n",
    "    for i in range(len(nums)-2):\n",
    "        # 중복된 값 건너뛰기\n",
    "        if i > 0 and nums[i] == nums[i-1]:\n",
    "            continue\n",
    "        for j in range(i+1, len(nums)-1):\n",
    "            if j > i+1 and nums[j] == nums[j-1]:\n",
    "                continue \n",
    "            for k in range(j+1,len(nums)):\n",
    "                if k > j+1 and nums[k] == nums[k-1]:\n",
    "                    continue\n",
    "                if nums[i] + nums[j] + nums[k] == 0:\n",
    "                    results.append([nums[i],nums[j],nums[k]])\n",
    "                    \n",
    "    return results"
   ]
  },
  {
   "cell_type": "markdown",
   "id": "4d9f16b9",
   "metadata": {},
   "source": [
    "# 투 포인터 계산"
   ]
  },
  {
   "cell_type": "code",
   "execution_count": null,
   "id": "39f2eaa7",
   "metadata": {},
   "outputs": [],
   "source": [
    "def ThreeSum(nums:list):\n",
    "    results = []\n",
    "    nums.sort()\n",
    "    for i in range(len(nums)-2):\n",
    "        if i > 0 and nums[i] == nums[i-1]:\n",
    "            continue\n",
    "        left, right = i+1, len(nums)-1\n",
    "        while left < right:\n",
    "            summation = nums[i] + nums[left] + nums[right]\n",
    "            if summation > 0:\n",
    "                right -= 1\n",
    "            elif summation < 0:\n",
    "                left += 1\n",
    "            else: # Summation = 0\n",
    "                results.append([nums[i], nums[left], nums[right]])\n",
    "                while left < right and nums[left] == nums[left+1]:\n",
    "                        left +=1\n",
    "                while left < right and nums[right] == nums[right-1]:\n",
    "                        right -=1\n",
    "                left += 1\n",
    "                right -= 1\n",
    "    return results\n",
    "\n",
    "ThreeSum([-4,-1,-1,0,1,2])    "
   ]
  }
 ],
 "metadata": {
  "kernelspec": {
   "display_name": "base",
   "language": "python",
   "name": "python3"
  },
  "language_info": {
   "codemirror_mode": {
    "name": "ipython",
    "version": 3
   },
   "file_extension": ".py",
   "mimetype": "text/x-python",
   "name": "python",
   "nbconvert_exporter": "python",
   "pygments_lexer": "ipython3",
   "version": "3.12.4"
  }
 },
 "nbformat": 4,
 "nbformat_minor": 5
}
