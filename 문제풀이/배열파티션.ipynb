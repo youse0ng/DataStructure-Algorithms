{
 "cells": [
  {
   "cell_type": "markdown",
   "id": "ac9aba2d",
   "metadata": {},
   "source": [
    "# 배열 파티션 1\n",
    "\n",
    "n개의 페어를 이용한 min(a,b)의 합으로 만들 수 있는 가장 큰 수\n",
    "- [1,4,3,2]\n",
    "=> 4\n",
    "\n",
    "- min(1,2) + min(3,4) = 1 + 3 = 4\n",
    "- min(1,4) + min(2,3) = 1 + 2 = 3\n",
    "- min(1,3) + min(2,4) = 1 + 2 = 3\n",
    "\n",
    "두 개의 min(a,b)가 되도록 커야 한다."
   ]
  },
  {
   "cell_type": "code",
   "execution_count": 4,
   "id": "decad6e7",
   "metadata": {},
   "outputs": [
    {
     "data": {
      "text/plain": [
       "4"
      ]
     },
     "execution_count": 4,
     "metadata": {},
     "output_type": "execute_result"
    }
   ],
   "source": [
    "# sort로 오름차순으로 정리하고, 인접 요소 페어를 만들어 min을 적용하면, 최대 합을 구할 수 있다.\n",
    "def arrayPairSum(nums:list):\n",
    "    sum = 0\n",
    "    pair = []\n",
    "    nums.sort()\n",
    "    \n",
    "    for n in nums:\n",
    "        pair.append(n)\n",
    "        if len(pair) == 2:\n",
    "            sum += min(pair)\n",
    "            pair.clear()\n",
    "    return sum\n",
    "\n",
    "arrayPairSum([1,4,3,2])"
   ]
  }
 ],
 "metadata": {
  "kernelspec": {
   "display_name": "base",
   "language": "python",
   "name": "python3"
  },
  "language_info": {
   "codemirror_mode": {
    "name": "ipython",
    "version": 3
   },
   "file_extension": ".py",
   "mimetype": "text/x-python",
   "name": "python",
   "nbconvert_exporter": "python",
   "pygments_lexer": "ipython3",
   "version": "3.12.4"
  }
 },
 "nbformat": 4,
 "nbformat_minor": 5
}
