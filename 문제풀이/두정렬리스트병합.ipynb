{
 "cells": [
  {
   "cell_type": "markdown",
   "id": "4e8cfdca",
   "metadata": {},
   "source": [
    "# 두 정렬 리스트의 병합\n",
    "- 정렬되어 있는 두 연결리스트를 합쳐라\n",
    "\n",
    "입력:\n",
    "- 1->2->4, 1->3->4\n",
    "\n",
    "출력:\n",
    "- 1->1->2->3->4->4"
   ]
  },
  {
   "cell_type": "code",
   "execution_count": 15,
   "id": "229e7325",
   "metadata": {},
   "outputs": [
    {
     "name": "stdout",
     "output_type": "stream",
     "text": [
      "1 -> 2 -> 2 -> 3 -> 3 -> 4\n"
     ]
    }
   ],
   "source": [
    "from typing import Optional\n",
    "class ListNode():\n",
    "    def __init__(self, key:int=0, next=None):\n",
    "        self.key = key\n",
    "        self.next = next\n",
    "\n",
    "def mergeTwoLinkedList(l1:Optional[ListNode],l2:Optional[ListNode]):\n",
    "    # l1이 존재 또는 l2도 존재하면서 (l1.key > l2.key)이면, l2.key가 먼저 오도록 유도해야함.\n",
    "    if not l1 or (l2 and l1.key > l2.key):\n",
    "        l1, l2 = l2, l1\n",
    "    if l1:\n",
    "        l1.next = mergeTwoLinkedList(l1.next, l2)\n",
    "    return l1\n",
    "\n",
    "def listToLinkedList(str):\n",
    "    q = str.split('->') # [1,2,4]\n",
    "    dummy = ListNode()\n",
    "    current = dummy\n",
    "    for element in q: # 이게 어려웠다.\n",
    "        current.next = ListNode(int(element))\n",
    "        current = current.next\n",
    "    return dummy.next\n",
    "\n",
    "def printLinkedList(LISTNODE):\n",
    "    while LISTNODE:\n",
    "        print(LISTNODE.key, end=' -> ' if LISTNODE.next else '\\n')\n",
    "        LISTNODE = LISTNODE.next\n",
    "\n",
    "l1 = listToLinkedList('1->2->3')\n",
    "l2 = listToLinkedList('2->3->4')\n",
    "\n",
    "merged = mergeTwoLinkedList(l1,l2)\n",
    "printLinkedList(merged)"
   ]
  },
  {
   "cell_type": "code",
   "execution_count": null,
   "id": "d2e83cf7",
   "metadata": {},
   "outputs": [],
   "source": []
  }
 ],
 "metadata": {
  "kernelspec": {
   "display_name": "base",
   "language": "python",
   "name": "python3"
  },
  "language_info": {
   "codemirror_mode": {
    "name": "ipython",
    "version": 3
   },
   "file_extension": ".py",
   "mimetype": "text/x-python",
   "name": "python",
   "nbconvert_exporter": "python",
   "pygments_lexer": "ipython3",
   "version": "3.11.7"
  }
 },
 "nbformat": 4,
 "nbformat_minor": 5
}
