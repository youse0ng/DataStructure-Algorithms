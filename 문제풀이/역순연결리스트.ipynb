{
 "cells": [
  {
   "cell_type": "markdown",
   "id": "656a2255",
   "metadata": {},
   "source": [
    "# 역순 연결 리스트\n",
    "- 연결 리스트를 뒤집어라\n",
    "입력\n",
    "- 1->2->3->4->5->NULL\n",
    "\n",
    "출력\n",
    "- 5->4->3->2->1->NULL\n",
    "\n",
    "1. 재귀 구조로 뒤집기"
   ]
  },
  {
   "cell_type": "markdown",
   "id": "cd9c4e69",
   "metadata": {},
   "source": [
    "# 재귀 구조로 뒤집기"
   ]
  },
  {
   "cell_type": "code",
   "execution_count": null,
   "id": "69b3a97e",
   "metadata": {},
   "outputs": [
    {
     "name": "stdout",
     "output_type": "stream",
     "text": [
      "1->2->3->4\n",
      "4->3->2->1\n"
     ]
    }
   ],
   "source": [
    "class ListNode:\n",
    "    def __init__(self, Key=0, Next=None):\n",
    "        self.Key = Key\n",
    "        self.Next = Next\n",
    "\n",
    "def ToLinkedList(str):\n",
    "    List = str.split('->')\n",
    "    dummy = ListNode()\n",
    "    current = dummy\n",
    "    for element in List:\n",
    "        new_node = ListNode(int(element))\n",
    "        current.Next = new_node\n",
    "        current = new_node\n",
    "    return dummy.Next\n",
    "\n",
    "def showLinkedList(LinkedListNode:ListNode):\n",
    "    if LinkedListNode.Next is None:\n",
    "        print(f'{LinkedListNode.Key}')\n",
    "        return None\n",
    "    else:\n",
    "        print(f'{LinkedListNode.Key}->',end='')\n",
    "        return showLinkedList(LinkedListNode.Next)\n",
    "        \n",
    "LinkedList = ToLinkedList('1->2->3->4')\n",
    "showLinkedList(LinkedList)\n",
    "    \n",
    "def ReverseLinkedList(LinkedList:ListNode):\n",
    "    def reverse(node: ListNode, prev: ListNode = None):\n",
    "        if not node: # 현재 노드가 없다면\n",
    "            return prev # 지난 과거의 Prev를 Return\n",
    "        next, node.Next = node.Next, prev # Next 저장 공간에 node.next 할당, node.Next에 prev 참조 // node.Next는 prev는 이전 노드를 참조\n",
    "        return reverse(next,node) \n",
    "    return reverse(LinkedList)\n",
    "\n",
    "ReversedLinkedList = ReverseLinkedList(LinkedList)\n",
    "showLinkedList(ReversedLinkedList)"
   ]
  },
  {
   "cell_type": "markdown",
   "id": "f08bcf88",
   "metadata": {},
   "source": [
    "# 반복 형식"
   ]
  },
  {
   "cell_type": "code",
   "execution_count": 12,
   "id": "66fab1e3",
   "metadata": {},
   "outputs": [
    {
     "name": "stdout",
     "output_type": "stream",
     "text": [
      "1->2->3->4\n",
      "4->3->2->1\n"
     ]
    }
   ],
   "source": [
    "def ReverseLinkedListRecursive(LinkedList):\n",
    "    node, prev = LinkedList ,None\n",
    "    \n",
    "    while node:\n",
    "        next, node.Next = node.Next, prev\n",
    "        node, prev = next, node\n",
    "        \n",
    "    return prev\n",
    "LinkedList = ToLinkedList('1->2->3->4')\n",
    "showLinkedList(LinkedList)\n",
    "\n",
    "RecursiveReversed = ReverseLinkedListRecursive(LinkedList)\n",
    "showLinkedList(RecursiveReversed)"
   ]
  },
  {
   "cell_type": "code",
   "execution_count": null,
   "id": "85f82098",
   "metadata": {},
   "outputs": [],
   "source": []
  }
 ],
 "metadata": {
  "kernelspec": {
   "display_name": "base",
   "language": "python",
   "name": "python3"
  },
  "language_info": {
   "codemirror_mode": {
    "name": "ipython",
    "version": 3
   },
   "file_extension": ".py",
   "mimetype": "text/x-python",
   "name": "python",
   "nbconvert_exporter": "python",
   "pygments_lexer": "ipython3",
   "version": "3.12.4"
  }
 },
 "nbformat": 4,
 "nbformat_minor": 5
}
