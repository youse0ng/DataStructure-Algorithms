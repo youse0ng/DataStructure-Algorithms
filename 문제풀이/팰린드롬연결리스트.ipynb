{
 "cells": [
  {
   "cell_type": "markdown",
   "id": "f7fb5690",
   "metadata": {},
   "source": [
    "# 팰린드롬 연결 리스트\n",
    "- 연결 리스트가 팰린드롬 구조인지 판별하라\n",
    "\n",
    "입력\n",
    "- 1->2 : false\n",
    "- 1->2->2->1 : true"
   ]
  },
  {
   "cell_type": "markdown",
   "id": "da6b70a7",
   "metadata": {},
   "source": [
    "# 리스트 변환"
   ]
  },
  {
   "cell_type": "code",
   "execution_count": 3,
   "metadata": {},
   "outputs": [
    {
     "data": {
      "text/plain": [
       "False"
      ]
     },
     "execution_count": 3,
     "metadata": {},
     "output_type": "execute_result"
    }
   ],
   "source": [
    "def isPalindrome(palindrome:str)->bool:\n",
    "    q = palindrome.split('->')\n",
    "    while len(q) > 1:\n",
    "        if q.pop(0) != q.pop():\n",
    "            return False\n",
    "    return True\n",
    "\n",
    "isPalindrome('1->2')"
   ]
  },
  {
   "cell_type": "markdown",
   "id": "26a34977",
   "metadata": {},
   "source": [
    "# 데크를 이용한 최적화\n",
    "\n",
    "- List는 첫 값을 꺼내면, 모든 값이 한 칸씩 시프팅하면 (pop(0)을 하면), $O(n)$ 시간이 걸린다.\n",
    "- Deque는 이중 연결 리스트 구조로 양쪽 방향 모두 추출하는데, 시간 복잡도 $O(1)$ 이 걸린다."
   ]
  },
  {
   "cell_type": "code",
   "execution_count": 5,
   "id": "493d2f5a",
   "metadata": {},
   "outputs": [
    {
     "data": {
      "text/plain": [
       "True"
      ]
     },
     "execution_count": 5,
     "metadata": {},
     "output_type": "execute_result"
    }
   ],
   "source": [
    "import collections\n",
    "def isPalindrome(palindrome:str)->bool:\n",
    "    q = collections.deque()\n",
    "\n",
    "    for element in palindrome.split('->'):\n",
    "        q.append(element)\n",
    "\n",
    "\n",
    "    while len(q) > 1:\n",
    "        if q.popleft() != q.pop():\n",
    "            return False\n",
    "    return True\n",
    "\n",
    "isPalindrome('1->2->2->1')"
   ]
  }
 ],
 "metadata": {
  "kernelspec": {
   "display_name": "base",
   "language": "python",
   "name": "python3"
  },
  "language_info": {
   "codemirror_mode": {
    "name": "ipython",
    "version": 3
   },
   "file_extension": ".py",
   "mimetype": "text/x-python",
   "name": "python",
   "nbconvert_exporter": "python",
   "pygments_lexer": "ipython3",
   "version": "3.11.7"
  }
 },
 "nbformat": 4,
 "nbformat_minor": 5
}
