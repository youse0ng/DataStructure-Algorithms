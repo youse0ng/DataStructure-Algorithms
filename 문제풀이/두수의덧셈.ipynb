{
 "cells": [
  {
   "cell_type": "markdown",
   "id": "27fb1d3a",
   "metadata": {},
   "source": [
    "# 두 수의 덧셈\n",
    "\n",
    "- 역순으로 저장된 연결 리스트의 숫자를 더해라\n",
    "\n",
    "입력:\n",
    "- (2->4->3) + (5->6->4)\n",
    "\n",
    "출력:\n",
    "- 7 -> 0 -> 8"
   ]
  },
  {
   "cell_type": "code",
   "execution_count": 44,
   "id": "41942000",
   "metadata": {},
   "outputs": [
    {
     "name": "stdout",
     "output_type": "stream",
     "text": [
      "5->3->4->2\n"
     ]
    }
   ],
   "source": [
    "class Node:\n",
    "    def __init__(self,Key=0,Next=None):\n",
    "        self.Key = Key\n",
    "        self.Next = Next\n",
    "\n",
    "def splitTwoNodes(string):\n",
    "    return string.split('+')[0].strip('() '),string.split('+')[1].strip('() ')\n",
    "\n",
    "def MakeLinkedList(string):\n",
    "    dummy = Node()\n",
    "    current = dummy\n",
    "    def ExtractElements(string):\n",
    "        return string.split('->')\n",
    "    result = ExtractElements(string)\n",
    "    for element in result:\n",
    "        new_node = Node(element)\n",
    "        current.Next = new_node\n",
    "        current = current.Next\n",
    "    return dummy.Next\n",
    "\n",
    "def showLinkedList(LinkedListNode:Node):\n",
    "    if LinkedListNode.Next is None:\n",
    "        print(f'{LinkedListNode.Key}')\n",
    "        return None\n",
    "    else:\n",
    "        print(f'{LinkedListNode.Key}->',end='')\n",
    "        return showLinkedList(LinkedListNode.Next)\n",
    "\n",
    "def ReverseLinkedList(LinkedList):\n",
    "    def reverse(LinkedList, prev = None):\n",
    "        node = LinkedList\n",
    "        if not node:\n",
    "            return prev\n",
    "        while node:\n",
    "            next, node.Next = node.Next, prev # 현재 노드의 Next는 이전 노드를 참조\n",
    "            return reverse(next, node)\n",
    "    return reverse(LinkedList)\n",
    "\n",
    "ListNode = MakeLinkedList('2->4->3->5')\n",
    "reversedNode = ReverseLinkedList(ListNode)\n",
    "showLinkedList(reversedNode)"
   ]
  },
  {
   "cell_type": "code",
   "execution_count": null,
   "id": "eea4dca1",
   "metadata": {},
   "outputs": [],
   "source": []
  }
 ],
 "metadata": {
  "kernelspec": {
   "display_name": "base",
   "language": "python",
   "name": "python3"
  },
  "language_info": {
   "codemirror_mode": {
    "name": "ipython",
    "version": 3
   },
   "file_extension": ".py",
   "mimetype": "text/x-python",
   "name": "python",
   "nbconvert_exporter": "python",
   "pygments_lexer": "ipython3",
   "version": "3.12.4"
  }
 },
 "nbformat": 4,
 "nbformat_minor": 5
}
